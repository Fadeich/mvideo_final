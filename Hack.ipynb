{
 "cells": [
  {
   "cell_type": "code",
   "execution_count": 3,
   "metadata": {
    "collapsed": true
   },
   "outputs": [],
   "source": [
    "import numpy as np\n",
    "import pandas as pd"
   ]
  },
  {
   "cell_type": "code",
   "execution_count": 4,
   "metadata": {
    "collapsed": true
   },
   "outputs": [],
   "source": [
    "df1 = pd.read_csv('dataset1.csv')\n",
    "df2 = pd.read_csv('dataset2.csv')"
   ]
  },
  {
   "cell_type": "code",
   "execution_count": 43,
   "metadata": {
    "scrolled": true
   },
   "outputs": [
    {
     "data": {
      "text/html": [
       "<div>\n",
       "<style>\n",
       "    .dataframe thead tr:only-child th {\n",
       "        text-align: right;\n",
       "    }\n",
       "\n",
       "    .dataframe thead th {\n",
       "        text-align: left;\n",
       "    }\n",
       "\n",
       "    .dataframe tbody tr th {\n",
       "        vertical-align: top;\n",
       "    }\n",
       "</style>\n",
       "<table border=\"1\" class=\"dataframe\">\n",
       "  <thead>\n",
       "    <tr style=\"text-align: right;\">\n",
       "      <th></th>\n",
       "      <th>Unnamed: 0</th>\n",
       "      <th>PRODUCT</th>\n",
       "      <th>CATEGORY_ID</th>\n",
       "      <th>BRAND_ID</th>\n",
       "      <th>CATEGORY_NAME</th>\n",
       "      <th>BRAND_NAME</th>\n",
       "      <th>PRICE_SEGM</th>\n",
       "      <th>MATERIAL_NUMBER</th>\n",
       "      <th>CODE</th>\n",
       "      <th>NAME</th>\n",
       "      <th>VALUE</th>\n",
       "      <th>MEASURE</th>\n",
       "      <th>ORDER</th>\n",
       "      <th>GROUP_ID</th>\n",
       "      <th>GROUP_NAME</th>\n",
       "    </tr>\n",
       "  </thead>\n",
       "  <tbody>\n",
       "    <tr>\n",
       "      <th>0</th>\n",
       "      <td>0</td>\n",
       "      <td>20022936</td>\n",
       "      <td>4120101</td>\n",
       "      <td>63</td>\n",
       "      <td>IRONS</td>\n",
       "      <td>Rowenta</td>\n",
       "      <td>1</td>\n",
       "      <td>20022936</td>\n",
       "      <td>22</td>\n",
       "      <td>Вес</td>\n",
       "      <td>1.5</td>\n",
       "      <td>кг</td>\n",
       "      <td>32</td>\n",
       "      <td>53.0</td>\n",
       "      <td>Цвет и вес</td>\n",
       "    </tr>\n",
       "    <tr>\n",
       "      <th>1</th>\n",
       "      <td>1</td>\n",
       "      <td>20022936</td>\n",
       "      <td>4120101</td>\n",
       "      <td>63</td>\n",
       "      <td>IRONS</td>\n",
       "      <td>Rowenta</td>\n",
       "      <td>1</td>\n",
       "      <td>20022936</td>\n",
       "      <td>34</td>\n",
       "      <td>Гарантия</td>\n",
       "      <td>2 года</td>\n",
       "      <td>NaN</td>\n",
       "      <td>2</td>\n",
       "      <td>0.0</td>\n",
       "      <td>NaN</td>\n",
       "    </tr>\n",
       "    <tr>\n",
       "      <th>2</th>\n",
       "      <td>2</td>\n",
       "      <td>20022936</td>\n",
       "      <td>4120101</td>\n",
       "      <td>63</td>\n",
       "      <td>IRONS</td>\n",
       "      <td>Rowenta</td>\n",
       "      <td>1</td>\n",
       "      <td>20022936</td>\n",
       "      <td>36</td>\n",
       "      <td>Страна</td>\n",
       "      <td>Германия</td>\n",
       "      <td>NaN</td>\n",
       "      <td>3</td>\n",
       "      <td>0.0</td>\n",
       "      <td>NaN</td>\n",
       "    </tr>\n",
       "    <tr>\n",
       "      <th>3</th>\n",
       "      <td>3</td>\n",
       "      <td>20022936</td>\n",
       "      <td>4120101</td>\n",
       "      <td>63</td>\n",
       "      <td>IRONS</td>\n",
       "      <td>Rowenta</td>\n",
       "      <td>1</td>\n",
       "      <td>20022936</td>\n",
       "      <td>202</td>\n",
       "      <td>Самоочистка от накипи</td>\n",
       "      <td>Да</td>\n",
       "      <td>NaN</td>\n",
       "      <td>16</td>\n",
       "      <td>107.0</td>\n",
       "      <td>Защита от накипи</td>\n",
       "    </tr>\n",
       "    <tr>\n",
       "      <th>4</th>\n",
       "      <td>4</td>\n",
       "      <td>20022936</td>\n",
       "      <td>4120101</td>\n",
       "      <td>63</td>\n",
       "      <td>IRONS</td>\n",
       "      <td>Rowenta</td>\n",
       "      <td>1</td>\n",
       "      <td>20022936</td>\n",
       "      <td>954</td>\n",
       "      <td>Инд. готовности к работе</td>\n",
       "      <td>Да</td>\n",
       "      <td>NaN</td>\n",
       "      <td>19</td>\n",
       "      <td>20.0</td>\n",
       "      <td>Индикация</td>\n",
       "    </tr>\n",
       "  </tbody>\n",
       "</table>\n",
       "</div>"
      ],
      "text/plain": [
       "   Unnamed: 0   PRODUCT  CATEGORY_ID  BRAND_ID         CATEGORY_NAME  \\\n",
       "0           0  20022936      4120101        63  IRONS                  \n",
       "1           1  20022936      4120101        63  IRONS                  \n",
       "2           2  20022936      4120101        63  IRONS                  \n",
       "3           3  20022936      4120101        63  IRONS                  \n",
       "4           4  20022936      4120101        63  IRONS                  \n",
       "\n",
       "         BRAND_NAME  PRICE_SEGM  MATERIAL_NUMBER  CODE  \\\n",
       "0  Rowenta                    1         20022936    22   \n",
       "1  Rowenta                    1         20022936    34   \n",
       "2  Rowenta                    1         20022936    36   \n",
       "3  Rowenta                    1         20022936   202   \n",
       "4  Rowenta                    1         20022936   954   \n",
       "\n",
       "                       NAME     VALUE MEASURE  ORDER  GROUP_ID  \\\n",
       "0                       Вес       1.5      кг     32      53.0   \n",
       "1                  Гарантия    2 года     NaN      2       0.0   \n",
       "2                    Страна  Германия     NaN      3       0.0   \n",
       "3     Самоочистка от накипи        Да     NaN     16     107.0   \n",
       "4  Инд. готовности к работе        Да     NaN     19      20.0   \n",
       "\n",
       "         GROUP_NAME  \n",
       "0        Цвет и вес  \n",
       "1               NaN  \n",
       "2               NaN  \n",
       "3  Защита от накипи  \n",
       "4         Индикация  "
      ]
     },
     "execution_count": 43,
     "metadata": {},
     "output_type": "execute_result"
    }
   ],
   "source": [
    "df2.head()"
   ]
  },
  {
   "cell_type": "code",
   "execution_count": 128,
   "metadata": {},
   "outputs": [
    {
     "data": {
      "text/html": [
       "<div>\n",
       "<style>\n",
       "    .dataframe thead tr:only-child th {\n",
       "        text-align: right;\n",
       "    }\n",
       "\n",
       "    .dataframe thead th {\n",
       "        text-align: left;\n",
       "    }\n",
       "\n",
       "    .dataframe tbody tr th {\n",
       "        vertical-align: top;\n",
       "    }\n",
       "</style>\n",
       "<table border=\"1\" class=\"dataframe\">\n",
       "  <thead>\n",
       "    <tr style=\"text-align: right;\">\n",
       "      <th></th>\n",
       "      <th>Unnamed: 0</th>\n",
       "      <th>PRODUCT</th>\n",
       "      <th>CATEGORY_ID</th>\n",
       "      <th>BRAND_ID</th>\n",
       "      <th>CATEGORY_NAME</th>\n",
       "      <th>BRAND_NAME</th>\n",
       "      <th>TYPE</th>\n",
       "      <th>SUBJECT</th>\n",
       "      <th>TEXT</th>\n",
       "      <th>POSTED_DATE</th>\n",
       "      <th>RATING</th>\n",
       "      <th>BENEFITS</th>\n",
       "      <th>DRAWBACKS</th>\n",
       "      <th>RECOMMENDED</th>\n",
       "      <th>LIKES_COUNT</th>\n",
       "      <th>DISLIKES_COUNT</th>\n",
       "    </tr>\n",
       "  </thead>\n",
       "  <tbody>\n",
       "    <tr>\n",
       "      <th>0</th>\n",
       "      <td>0</td>\n",
       "      <td>30024724</td>\n",
       "      <td>2060202</td>\n",
       "      <td>1900</td>\n",
       "      <td>PRINTERS LASER</td>\n",
       "      <td>Kyocera</td>\n",
       "      <td>REVIEW</td>\n",
       "      <td>NaN</td>\n",
       "      <td>Что особенно ценно - при профилактике принтера...</td>\n",
       "      <td>23.10.16 22:26:00</td>\n",
       "      <td>5.0</td>\n",
       "      <td>хорошая скорость печати, двусторонняя печать, ...</td>\n",
       "      <td>Рядом \"на стол\" не поставишь, место много зани...</td>\n",
       "      <td>1.0</td>\n",
       "      <td>2.0</td>\n",
       "      <td>0.0</td>\n",
       "    </tr>\n",
       "    <tr>\n",
       "      <th>1</th>\n",
       "      <td>1</td>\n",
       "      <td>30024724</td>\n",
       "      <td>2060202</td>\n",
       "      <td>1900</td>\n",
       "      <td>PRINTERS LASER</td>\n",
       "      <td>Kyocera</td>\n",
       "      <td>REVIEW</td>\n",
       "      <td>NaN</td>\n",
       "      <td>Он у нас три месяца в офисе стоит уже - большо...</td>\n",
       "      <td>17.04.16 11:17:42</td>\n",
       "      <td>5.0</td>\n",
       "      <td>NaN</td>\n",
       "      <td>NaN</td>\n",
       "      <td>NaN</td>\n",
       "      <td>0.0</td>\n",
       "      <td>2.0</td>\n",
       "    </tr>\n",
       "    <tr>\n",
       "      <th>2</th>\n",
       "      <td>2</td>\n",
       "      <td>30024725</td>\n",
       "      <td>2060202</td>\n",
       "      <td>1900</td>\n",
       "      <td>PRINTERS LASER</td>\n",
       "      <td>Kyocera</td>\n",
       "      <td>REVIEW</td>\n",
       "      <td>NaN</td>\n",
       "      <td>Просто небо и земля с тем принтером, который у...</td>\n",
       "      <td>15.04.16 20:22:47</td>\n",
       "      <td>4.0</td>\n",
       "      <td>NaN</td>\n",
       "      <td>NaN</td>\n",
       "      <td>NaN</td>\n",
       "      <td>0.0</td>\n",
       "      <td>1.0</td>\n",
       "    </tr>\n",
       "    <tr>\n",
       "      <th>3</th>\n",
       "      <td>3</td>\n",
       "      <td>30024727</td>\n",
       "      <td>2060101</td>\n",
       "      <td>1900</td>\n",
       "      <td>ALL-IN-ONE LASER</td>\n",
       "      <td>Kyocera</td>\n",
       "      <td>REVIEW</td>\n",
       "      <td>С такой вроде бы навороченной техникой все смо...</td>\n",
       "      <td>У нас в кабинете недавно его поставили. Первое...</td>\n",
       "      <td>18.04.16 20:01:57</td>\n",
       "      <td>5.0</td>\n",
       "      <td>NaN</td>\n",
       "      <td>NaN</td>\n",
       "      <td>NaN</td>\n",
       "      <td>0.0</td>\n",
       "      <td>0.0</td>\n",
       "    </tr>\n",
       "    <tr>\n",
       "      <th>4</th>\n",
       "      <td>4</td>\n",
       "      <td>30024727</td>\n",
       "      <td>2060101</td>\n",
       "      <td>1900</td>\n",
       "      <td>ALL-IN-ONE LASER</td>\n",
       "      <td>Kyocera</td>\n",
       "      <td>REVIEW</td>\n",
       "      <td>NaN</td>\n",
       "      <td>Очень многофункциональная штука.  Есть все нео...</td>\n",
       "      <td>23.04.16 12:03:39</td>\n",
       "      <td>5.0</td>\n",
       "      <td>NaN</td>\n",
       "      <td>NaN</td>\n",
       "      <td>NaN</td>\n",
       "      <td>1.0</td>\n",
       "      <td>0.0</td>\n",
       "    </tr>\n",
       "    <tr>\n",
       "      <th>5</th>\n",
       "      <td>5</td>\n",
       "      <td>30024728</td>\n",
       "      <td>2060101</td>\n",
       "      <td>1900</td>\n",
       "      <td>ALL-IN-ONE LASER</td>\n",
       "      <td>Kyocera</td>\n",
       "      <td>REVIEW</td>\n",
       "      <td>NaN</td>\n",
       "      <td>Производительное и скоростное лазерное МФУ. В ...</td>\n",
       "      <td>31.05.16 11:35:09</td>\n",
       "      <td>5.0</td>\n",
       "      <td>NaN</td>\n",
       "      <td>NaN</td>\n",
       "      <td>NaN</td>\n",
       "      <td>0.0</td>\n",
       "      <td>0.0</td>\n",
       "    </tr>\n",
       "    <tr>\n",
       "      <th>6</th>\n",
       "      <td>6</td>\n",
       "      <td>30024729</td>\n",
       "      <td>2060101</td>\n",
       "      <td>1900</td>\n",
       "      <td>ALL-IN-ONE LASER</td>\n",
       "      <td>Kyocera</td>\n",
       "      <td>REVIEW</td>\n",
       "      <td>Отличный по функционалу агрегат!</td>\n",
       "      <td>Скорость печати у него приличная - предшествен...</td>\n",
       "      <td>14.04.16 16:23:11</td>\n",
       "      <td>5.0</td>\n",
       "      <td>NaN</td>\n",
       "      <td>NaN</td>\n",
       "      <td>NaN</td>\n",
       "      <td>1.0</td>\n",
       "      <td>0.0</td>\n",
       "    </tr>\n",
       "    <tr>\n",
       "      <th>7</th>\n",
       "      <td>7</td>\n",
       "      <td>30024729</td>\n",
       "      <td>2060101</td>\n",
       "      <td>1900</td>\n",
       "      <td>ALL-IN-ONE LASER</td>\n",
       "      <td>Kyocera</td>\n",
       "      <td>REVIEW</td>\n",
       "      <td>Мнение эксперта</td>\n",
       "      <td>Цветное МФУ от Kyocera позволит печатать в цве...</td>\n",
       "      <td>28.05.16 12:37:39</td>\n",
       "      <td>5.0</td>\n",
       "      <td>NaN</td>\n",
       "      <td>NaN</td>\n",
       "      <td>NaN</td>\n",
       "      <td>1.0</td>\n",
       "      <td>0.0</td>\n",
       "    </tr>\n",
       "    <tr>\n",
       "      <th>8</th>\n",
       "      <td>8</td>\n",
       "      <td>30024729</td>\n",
       "      <td>2060101</td>\n",
       "      <td>1900</td>\n",
       "      <td>ALL-IN-ONE LASER</td>\n",
       "      <td>Kyocera</td>\n",
       "      <td>REVIEW</td>\n",
       "      <td>NaN</td>\n",
       "      <td>Отличное МФУ для как для офиса тапк и для дома...</td>\n",
       "      <td>29.05.16 14:25:57</td>\n",
       "      <td>5.0</td>\n",
       "      <td>NaN</td>\n",
       "      <td>NaN</td>\n",
       "      <td>NaN</td>\n",
       "      <td>0.0</td>\n",
       "      <td>0.0</td>\n",
       "    </tr>\n",
       "    <tr>\n",
       "      <th>9</th>\n",
       "      <td>9</td>\n",
       "      <td>30024730</td>\n",
       "      <td>2060101</td>\n",
       "      <td>1900</td>\n",
       "      <td>ALL-IN-ONE LASER</td>\n",
       "      <td>Kyocera</td>\n",
       "      <td>REVIEW</td>\n",
       "      <td>NaN</td>\n",
       "      <td>Купил этот принтер для печати цветных фотограф...</td>\n",
       "      <td>23.04.16 12:04:19</td>\n",
       "      <td>5.0</td>\n",
       "      <td>NaN</td>\n",
       "      <td>NaN</td>\n",
       "      <td>NaN</td>\n",
       "      <td>1.0</td>\n",
       "      <td>0.0</td>\n",
       "    </tr>\n",
       "  </tbody>\n",
       "</table>\n",
       "</div>"
      ],
      "text/plain": [
       "   Unnamed: 0   PRODUCT  CATEGORY_ID  BRAND_ID  \\\n",
       "0           0  30024724      2060202      1900   \n",
       "1           1  30024724      2060202      1900   \n",
       "2           2  30024725      2060202      1900   \n",
       "3           3  30024727      2060101      1900   \n",
       "4           4  30024727      2060101      1900   \n",
       "5           5  30024728      2060101      1900   \n",
       "6           6  30024729      2060101      1900   \n",
       "7           7  30024729      2060101      1900   \n",
       "8           8  30024729      2060101      1900   \n",
       "9           9  30024730      2060101      1900   \n",
       "\n",
       "                                CATEGORY_NAME            BRAND_NAME    TYPE  \\\n",
       "0  PRINTERS LASER                              Kyocera               REVIEW   \n",
       "1  PRINTERS LASER                              Kyocera               REVIEW   \n",
       "2  PRINTERS LASER                              Kyocera               REVIEW   \n",
       "3  ALL-IN-ONE LASER                            Kyocera               REVIEW   \n",
       "4  ALL-IN-ONE LASER                            Kyocera               REVIEW   \n",
       "5  ALL-IN-ONE LASER                            Kyocera               REVIEW   \n",
       "6  ALL-IN-ONE LASER                            Kyocera               REVIEW   \n",
       "7  ALL-IN-ONE LASER                            Kyocera               REVIEW   \n",
       "8  ALL-IN-ONE LASER                            Kyocera               REVIEW   \n",
       "9  ALL-IN-ONE LASER                            Kyocera               REVIEW   \n",
       "\n",
       "                                             SUBJECT  \\\n",
       "0                                                NaN   \n",
       "1                                                NaN   \n",
       "2                                                NaN   \n",
       "3  С такой вроде бы навороченной техникой все смо...   \n",
       "4                                                NaN   \n",
       "5                                                NaN   \n",
       "6                   Отличный по функционалу агрегат!   \n",
       "7                                    Мнение эксперта   \n",
       "8                                                NaN   \n",
       "9                                                NaN   \n",
       "\n",
       "                                                TEXT        POSTED_DATE  \\\n",
       "0  Что особенно ценно - при профилактике принтера...  23.10.16 22:26:00   \n",
       "1  Он у нас три месяца в офисе стоит уже - большо...  17.04.16 11:17:42   \n",
       "2  Просто небо и земля с тем принтером, который у...  15.04.16 20:22:47   \n",
       "3  У нас в кабинете недавно его поставили. Первое...  18.04.16 20:01:57   \n",
       "4  Очень многофункциональная штука.  Есть все нео...  23.04.16 12:03:39   \n",
       "5  Производительное и скоростное лазерное МФУ. В ...  31.05.16 11:35:09   \n",
       "6  Скорость печати у него приличная - предшествен...  14.04.16 16:23:11   \n",
       "7  Цветное МФУ от Kyocera позволит печатать в цве...  28.05.16 12:37:39   \n",
       "8  Отличное МФУ для как для офиса тапк и для дома...  29.05.16 14:25:57   \n",
       "9  Купил этот принтер для печати цветных фотограф...  23.04.16 12:04:19   \n",
       "\n",
       "   RATING                                           BENEFITS  \\\n",
       "0     5.0  хорошая скорость печати, двусторонняя печать, ...   \n",
       "1     5.0                                                NaN   \n",
       "2     4.0                                                NaN   \n",
       "3     5.0                                                NaN   \n",
       "4     5.0                                                NaN   \n",
       "5     5.0                                                NaN   \n",
       "6     5.0                                                NaN   \n",
       "7     5.0                                                NaN   \n",
       "8     5.0                                                NaN   \n",
       "9     5.0                                                NaN   \n",
       "\n",
       "                                           DRAWBACKS  RECOMMENDED  \\\n",
       "0  Рядом \"на стол\" не поставишь, место много зани...          1.0   \n",
       "1                                                NaN          NaN   \n",
       "2                                                NaN          NaN   \n",
       "3                                                NaN          NaN   \n",
       "4                                                NaN          NaN   \n",
       "5                                                NaN          NaN   \n",
       "6                                                NaN          NaN   \n",
       "7                                                NaN          NaN   \n",
       "8                                                NaN          NaN   \n",
       "9                                                NaN          NaN   \n",
       "\n",
       "   LIKES_COUNT  DISLIKES_COUNT  \n",
       "0          2.0             0.0  \n",
       "1          0.0             2.0  \n",
       "2          0.0             1.0  \n",
       "3          0.0             0.0  \n",
       "4          1.0             0.0  \n",
       "5          0.0             0.0  \n",
       "6          1.0             0.0  \n",
       "7          1.0             0.0  \n",
       "8          0.0             0.0  \n",
       "9          1.0             0.0  "
      ]
     },
     "execution_count": 128,
     "metadata": {},
     "output_type": "execute_result"
    }
   ],
   "source": [
    "df1.head(10)"
   ]
  },
  {
   "cell_type": "code",
   "execution_count": 5,
   "metadata": {},
   "outputs": [
    {
     "data": {
      "text/plain": [
       "(270941, 16)"
      ]
     },
     "execution_count": 5,
     "metadata": {},
     "output_type": "execute_result"
    }
   ],
   "source": [
    "df1.shape"
   ]
  },
  {
   "cell_type": "code",
   "execution_count": 21,
   "metadata": {},
   "outputs": [
    {
     "data": {
      "text/plain": [
       "(49495,)"
      ]
     },
     "execution_count": 21,
     "metadata": {},
     "output_type": "execute_result"
    }
   ],
   "source": [
    "df1.BENEFITS[~pd.isnull(df1.BENEFITS) & ~pd.isnull(df1.DRAWBACKS)].shape"
   ]
  },
  {
   "cell_type": "code",
   "execution_count": 19,
   "metadata": {},
   "outputs": [
    {
     "data": {
      "text/plain": [
       "(50799,)"
      ]
     },
     "execution_count": 19,
     "metadata": {},
     "output_type": "execute_result"
    }
   ],
   "source": [
    "df1.DRAWBACKS[~pd.isnull(df1.DRAWBACKS)].shape"
   ]
  },
  {
   "cell_type": "code",
   "execution_count": 11,
   "metadata": {
    "collapsed": true
   },
   "outputs": [],
   "source": [
    "import re"
   ]
  },
  {
   "cell_type": "markdown",
   "metadata": {},
   "source": [
    "ditional sentence-level semantic information that include sentence polarity, sentence length, product category and bag of aspects vector."
   ]
  },
  {
   "cell_type": "code",
   "execution_count": 121,
   "metadata": {},
   "outputs": [
    {
     "name": "stderr",
     "output_type": "stream",
     "text": [
      "<input>:1: DeprecationWarning: invalid escape sequence \\-\n",
      "<input>:1: DeprecationWarning: invalid escape sequence \\-\n",
      "<input>:1: DeprecationWarning: invalid escape sequence \\-\n",
      "<input>:1: DeprecationWarning: invalid escape sequence \\-\n",
      "<input>:1: DeprecationWarning: invalid escape sequence \\-\n",
      "<input>:1: DeprecationWarning: invalid escape sequence \\-\n",
      "<input>:1: DeprecationWarning: invalid escape sequence \\-\n",
      "<input>:1: DeprecationWarning: invalid escape sequence \\-\n",
      "<ipython-input-121-09667d78170c>:1: DeprecationWarning: invalid escape sequence \\-\n",
      "  prog = re.compile('[А-Яа-я\\-]+')\n"
     ]
    }
   ],
   "source": [
    "prog = re.compile('[А-Яа-я\\-]+')\n",
    "ind = ~pd.isnull(df1.BENEFITS) & ~pd.isnull(df1.DRAWBACKS)\n",
    "S = []\n",
    "for text in df1.TEXT:\n",
    "    l1 = prog.findall(text.lower())\n",
    "    s = len(l1)\n",
    "    S.append(s)\n",
    "    #if s < s_prev and s != 0:\n",
    "    #    s_prev = s"
   ]
  },
  {
   "cell_type": "code",
   "execution_count": 120,
   "metadata": {},
   "outputs": [
    {
     "data": {
      "text/plain": [
       "1"
      ]
     },
     "execution_count": 120,
     "metadata": {},
     "output_type": "execute_result"
    }
   ],
   "source": [
    "s_prev"
   ]
  },
  {
   "cell_type": "code",
   "execution_count": 125,
   "metadata": {},
   "outputs": [
    {
     "data": {
      "image/png": "[encoded data removed]",
      "text/plain": [
       "<matplotlib.figure.Figure at 0x1382aa518>"
      ]
     },
     "metadata": {},
     "output_type": "display_data"
    }
   ],
   "source": [
    "import matplotlib.pyplot as plt\n",
    "import numpy as np\n",
    "%matplotlib inline\n",
    "#plt.figsize(())\n",
    "plt.figure(figsize=(20,10))\n",
    "plt.hist(S, bins=100)\n",
    "plt.ylabel('len')\n",
    "plt.savefig('len.png')"
   ]
  },
  {
   "cell_type": "code",
   "execution_count": 126,
   "metadata": {},
   "outputs": [
    {
     "data": {
      "text/plain": [
       "41.0"
      ]
     },
     "execution_count": 126,
     "metadata": {},
     "output_type": "execute_result"
    }
   ],
   "source": [
    "np.median(S)"
   ]
  },
  {
   "cell_type": "code",
   "execution_count": 25,
   "metadata": {},
   "outputs": [
    {
     "data": {
      "text/plain": [
       "49.964844933831699"
      ]
     },
     "execution_count": 25,
     "metadata": {},
     "output_type": "execute_result"
    }
   ],
   "source": [
    "s/sum(ind)"
   ]
  },
  {
   "cell_type": "code",
   "execution_count": null,
   "metadata": {
    "collapsed": true
   },
   "outputs": [],
   "source": [
    "sent.groupby('word')['sent'].mean()"
   ]
  },
  {
   "cell_type": "code",
   "execution_count": 37,
   "metadata": {
    "scrolled": true
   },
   "outputs": [
    {
     "data": {
      "text/plain": [
       "202"
      ]
     },
     "execution_count": 37,
     "metadata": {},
     "output_type": "execute_result"
    }
   ],
   "source": [
    "sum(df1.groupby('CATEGORY_ID')['TYPE'].count() > 100)"
   ]
  },
  {
   "cell_type": "code",
   "execution_count": 41,
   "metadata": {},
   "outputs": [
    {
     "data": {
      "text/plain": [
       "CATEGORY_ID\n",
       "2030201    13884\n",
       "2050101    11761\n",
       "4030101     9773\n",
       "4020601     8729\n",
       "2030401     7066\n",
       "5150101     6974\n",
       "4061001     6316\n",
       "4130401     5750\n",
       "4110102     5686\n",
       "4120101     5683\n",
       "1070903     5429\n",
       "4061201     5246\n",
       "5030701     4685\n",
       "1070902     4562\n",
       "4060201     4211\n",
       "2030301     4013\n",
       "4130801     3530\n",
       "4110101     3385\n",
       "2050104     3265\n",
       "2070203     3076\n",
       "1030304     3031\n",
       "4100201     2999\n",
       "3060109     2915\n",
       "1090211     2835\n",
       "1030902     2818\n",
       "1070904     2621\n",
       "2050102     2619\n",
       "4010101     2478\n",
       "4010301     2472\n",
       "4130701     2435\n",
       "           ...  \n",
       "1010108        9\n",
       "5020105        8\n",
       "4050201        7\n",
       "4050302        6\n",
       "1070609        6\n",
       "2090103        5\n",
       "1170102        4\n",
       "1090210        4\n",
       "2090104        4\n",
       "2090501        4\n",
       "3010101        3\n",
       "3010201        3\n",
       "3010401        3\n",
       "3040202        3\n",
       "2060401        3\n",
       "4040107        2\n",
       "1080702        2\n",
       "1050107        2\n",
       "2070301        2\n",
       "1090217        2\n",
       "2140103        2\n",
       "3040103        1\n",
       "2140101        1\n",
       "3060106        1\n",
       "2110105        1\n",
       "4040206        1\n",
       "2100101        1\n",
       "2020401        1\n",
       "1090602        1\n",
       "5180101        1\n",
       "Name: TYPE, Length: 310, dtype: int64"
      ]
     },
     "execution_count": 41,
     "metadata": {},
     "output_type": "execute_result"
    }
   ],
   "source": [
    "df1.groupby('CATEGORY_ID')['TYPE'].count().sort_values(ascending=False)"
   ]
  },
  {
   "cell_type": "code",
   "execution_count": null,
   "metadata": {
    "collapsed": true
   },
   "outputs": [],
   "source": [
    "for text in df1.TEXTL\n",
    "    l = len(text)"
   ]
  },
  {
   "cell_type": "markdown",
   "metadata": {},
   "source": [
    "## Category = 2030201\n",
    "\n",
    "cat_to_id = {\n",
    "    'NOTEBOOKS': [2030201, 2040202, 2030501],\n",
    "    'SMARTPHONES': [2050101, 2050104, 2050102, 2050201],\n",
    "    'WASHING MACHINES': [4030101, 4030201],\n",
    "    'REFRIGERATORS': [4020601, 4020401, 4020501, 4010601, 4020701, 4020201],\n",
    "    'VACUUM CLEANERS': [4110102, 4110101, 4110104, 4110103],\n",
    "    'DISHWASHER': [4010401, 4090101],\n",
    "    'TV': [1070903, 1070902, 1070904, 1070907, 1070911, 1070913, 1070908, 1070912]\n",
    "}"
   ]
  },
  {
   "cell_type": "code",
   "execution_count": 45,
   "metadata": {},
   "outputs": [],
   "source": [
    "import artm"
   ]
  },
  {
   "cell_type": "code",
   "execution_count": 46,
   "metadata": {
    "collapsed": true
   },
   "outputs": [],
   "source": [
    "from sklearn.feature_extraction.text import CountVectorizer"
   ]
  },
  {
   "cell_type": "code",
   "execution_count": 47,
   "metadata": {
    "collapsed": true
   },
   "outputs": [],
   "source": [
    "import numpy as np\n",
    "import pandas as pd"
   ]
  },
  {
   "cell_type": "code",
   "execution_count": 48,
   "metadata": {
    "collapsed": true
   },
   "outputs": [],
   "source": [
    "cv = CountVectorizer() #max_features=1000, "
   ]
  },
  {
   "cell_type": "code",
   "execution_count": 49,
   "metadata": {
    "collapsed": true
   },
   "outputs": [],
   "source": [
    "data = df1.TEXT[df1.CATEGORY_ID == 2030201]"
   ]
  },
  {
   "cell_type": "code",
   "execution_count": 50,
   "metadata": {},
   "outputs": [
    {
     "data": {
      "text/plain": [
       "array([ 'Простенький компьютер. Игры, конечно, не тянет, но для этого у меня есть стационарный. Этот ноут взял для работы. Со своими задачами вполне справляется. Иногда тормозит, долго думает, поэтому оценка 4.',\n",
       "       'Купили этот ноутбук для работы. Играть, конечно, на нём никто не будет. Ноутбук быстрый, экран большой, чёткий, яркий. Клавиатура не греется. Работать с ним одно удовольствие. Для работы видеокарты Intel HD оказалось вполне достаточно, показывает качественно. При просмотре видео на Youtube немного тормозит. Так как установили Windows 7, видеокарта Nvideo не установилась, вылетает на синий экран, пришлось ее отключить, поэтому про ее работу ничего не могу сказать.',\n",
       "       'хорошая машина ', ...,\n",
       "       'Нетбук обалденный! Вообще пользуюсь Sony Vaio но нетбук купил для поездок и походов - достойная вещь!Единственно тут написали Word и Exel бесплатные - это у всех так а то у меня регистрацию требует =(',\n",
       "       'Купила нетбук, сначала всё было норм, но потом он стал глючить, а после и вовсе сломался(пользовалась им до поломки менее 2 месяцев) Отнесла в м.Видео, мне сказали т.к. я живу  Калужской области, что его отвезут на экспертизу, за то что они вызовут машину-платить буду я! В итоге я сама поехала с ним в Москву в ближайший магазин м Видео. В итоге сказали, что он не подлежит ремонту и предложили мне поменять его на новый или доплатить и взять что-нибудь другое, я доплатила и взяла ноутбук Эйсер :* В общем потратила столько нервов! Вообще очень разочаровалась в марке НР, у подруги ноут полетел за полгода использования, мой так быстро накрылся, в общем не советую, а у меня вот уже второй ноут Эйсер и я очень довольна.',\n",
       "       'Отличный нетбук,емкая батарея, работаю с ним около недели,пока держит часов 8 с средней нагрузкой на ЦП. Корпус хороший, эргономика на 5,только отпечатки пальцев на глянцевом пластике огорчают,но это мелочи.Производительность и вправду очень даже ничего.'], dtype=object)"
      ]
     },
     "execution_count": 50,
     "metadata": {},
     "output_type": "execute_result"
    }
   ],
   "source": [
    "data.values"
   ]
  },
  {
   "cell_type": "code",
   "execution_count": 51,
   "metadata": {},
   "outputs": [
    {
     "data": {
      "text/plain": [
       "(14750,)"
      ]
     },
     "execution_count": 51,
     "metadata": {},
     "output_type": "execute_result"
    }
   ],
   "source": [
    "df1.TEXT[(df1.CATEGORY_ID == 2030201) | (df1.CATEGORY_ID == 2040202) | (df1.CATEGORY_ID == 2030501)].shape"
   ]
  },
  {
   "cell_type": "code",
   "execution_count": 52,
   "metadata": {},
   "outputs": [
    {
     "name": "stdout",
     "output_type": "stream",
     "text": [
      "Компания Acer  это великолепная компания которая производит шикарные вещи!\n",
      "Советую покупать потому-что вы не  где не найдёте такую суперскую компанию!   \n"
     ]
    }
   ],
   "source": [
    "for i, text in enumerate(df1.TEXT[df1.CATEGORY_ID == 2030201].values):\n",
    "    if i == 10:\n",
    "        print(text)"
   ]
  },
  {
   "cell_type": "code",
   "execution_count": 53,
   "metadata": {
    "collapsed": true
   },
   "outputs": [],
   "source": [
    "output_file = open('../comments_new.txt', 'w')\n",
    "for text in df1.TEXT[df1.CATEGORY_ID == 2030201].values:\n",
    "    output_file.write(' '.join(text.split('\\n')) + '\\n')\n",
    "output_file.close()"
   ]
  },
  {
   "cell_type": "code",
   "execution_count": 54,
   "metadata": {},
   "outputs": [
    {
     "name": "stdout",
     "output_type": "stream",
     "text": [
      "   13884 ../comments_new.txt\r\n"
     ]
    }
   ],
   "source": [
    "! wc -l ../comments_new.txt"
   ]
  },
  {
   "cell_type": "code",
   "execution_count": 55,
   "metadata": {},
   "outputs": [
    {
     "name": "stdout",
     "output_type": "stream",
     "text": [
      "/bin/sh: ./mystem: No such file or directory\r\n"
     ]
    }
   ],
   "source": [
    "! ./mystem -cl comments_new.txt norm_comments_new.txt"
   ]
  },
  {
   "cell_type": "code",
   "execution_count": 56,
   "metadata": {
    "collapsed": true
   },
   "outputs": [],
   "source": [
    "import re"
   ]
  },
  {
   "cell_type": "code",
   "execution_count": 57,
   "metadata": {},
   "outputs": [
    {
     "name": "stderr",
     "output_type": "stream",
     "text": [
      "<input>:2: DeprecationWarning: invalid escape sequence \\|\n",
      "<input>:2: DeprecationWarning: invalid escape sequence \\|\n",
      "<input>:2: DeprecationWarning: invalid escape sequence \\|\n",
      "<input>:2: DeprecationWarning: invalid escape sequence \\|\n",
      "<ipython-input-57-ddea1e35aca3>:2: DeprecationWarning: invalid escape sequence \\|\n",
      "  prog = re.compile('{[А-Яа-я\\|]+}')\n"
     ]
    }
   ],
   "source": [
    "f = open('../norm_comments_new.txt', 'r')\n",
    "prog = re.compile('{[А-Яа-я\\|]+}')\n",
    "norm_texts = []\n",
    "for line in f.readlines():\n",
    "    norm_texts.append([l[1:-1].split(\"|\") for l in prog.findall(line.lower())])\n",
    "f.close()"
   ]
  },
  {
   "cell_type": "code",
   "execution_count": 58,
   "metadata": {},
   "outputs": [
    {
     "data": {
      "text/plain": [
       "([['простенький'],\n",
       "  ['компьютер'],\n",
       "  ['игра'],\n",
       "  ['конечно', 'конечный'],\n",
       "  ['не'],\n",
       "  ['тянуть'],\n",
       "  ['но'],\n",
       "  ['для'],\n",
       "  ['это', 'этот'],\n",
       "  ['у'],\n",
       "  ['я', 'мень'],\n",
       "  ['быть', 'есть'],\n",
       "  ['стационарный'],\n",
       "  ['этот'],\n",
       "  ['ноут'],\n",
       "  ['взять'],\n",
       "  ['для'],\n",
       "  ['работа'],\n",
       "  ['со'],\n",
       "  ['свой'],\n",
       "  ['задача'],\n",
       "  ['вполне'],\n",
       "  ['справляться'],\n",
       "  ['иногда'],\n",
       "  ['тормозить'],\n",
       "  ['долго', 'долгий'],\n",
       "  ['думать'],\n",
       "  ['поэтому'],\n",
       "  ['оценка']],\n",
       " 13884)"
      ]
     },
     "execution_count": 58,
     "metadata": {},
     "output_type": "execute_result"
    }
   ],
   "source": [
    "norm_texts[0], len(norm_texts)"
   ]
  },
  {
   "cell_type": "code",
   "execution_count": 15,
   "metadata": {
    "collapsed": true
   },
   "outputs": [],
   "source": [
    "norm_texts2 = [' '.join([word[0] for word in text]) for text in norm_texts]"
   ]
  },
  {
   "cell_type": "code",
   "execution_count": 21,
   "metadata": {
    "collapsed": true
   },
   "outputs": [],
   "source": [
    "import pymorphy2\n",
    "from stop_words import get_stop_words"
   ]
  },
  {
   "cell_type": "code",
   "execution_count": 30,
   "metadata": {
    "collapsed": true
   },
   "outputs": [],
   "source": [
    "def norm_text(text):\n",
    "    pymorph = pymorphy2.MorphAnalyzer()\n",
    "    stop_words = get_stop_words('russian')\n",
    "    words = ''.join(char for char in text.lower() if char.isalpha() or char == ' ').split()\n",
    "    temp = [pymorph.parse(word)[0].normal_form.strip() for word in words if 'NOUN' in pymorph.parse(word)[0].tag]\n",
    "    temp = [word for word in temp if word not in stop_words]\n",
    "    return temp"
   ]
  },
  {
   "cell_type": "code",
   "execution_count": 33,
   "metadata": {
    "scrolled": true
   },
   "outputs": [
    {
     "ename": "KeyboardInterrupt",
     "evalue": "",
     "output_type": "error",
     "traceback": [
      "\u001b[0;31m---------------------------------------------------------------------------\u001b[0m",
      "\u001b[0;31mKeyboardInterrupt\u001b[0m                         Traceback (most recent call last)",
      "\u001b[0;32m<ipython-input-33-b08e1f7842c3>\u001b[0m in \u001b[0;36m<module>\u001b[0;34m()\u001b[0m\n\u001b[0;32m----> 1\u001b[0;31m \u001b[0mtexts\u001b[0m \u001b[0;34m=\u001b[0m \u001b[0;34m[\u001b[0m\u001b[0mnorm_text\u001b[0m\u001b[0;34m(\u001b[0m\u001b[0mtext\u001b[0m\u001b[0;34m)\u001b[0m \u001b[0;32mfor\u001b[0m \u001b[0mtext\u001b[0m \u001b[0;32min\u001b[0m \u001b[0mdata\u001b[0m\u001b[0;34m]\u001b[0m\u001b[0;34m\u001b[0m\u001b[0m\n\u001b[0m",
      "\u001b[0;32m<ipython-input-33-b08e1f7842c3>\u001b[0m in \u001b[0;36m<listcomp>\u001b[0;34m(.0)\u001b[0m\n\u001b[0;32m----> 1\u001b[0;31m \u001b[0mtexts\u001b[0m \u001b[0;34m=\u001b[0m \u001b[0;34m[\u001b[0m\u001b[0mnorm_text\u001b[0m\u001b[0;34m(\u001b[0m\u001b[0mtext\u001b[0m\u001b[0;34m)\u001b[0m \u001b[0;32mfor\u001b[0m \u001b[0mtext\u001b[0m \u001b[0;32min\u001b[0m \u001b[0mdata\u001b[0m\u001b[0;34m]\u001b[0m\u001b[0;34m\u001b[0m\u001b[0m\n\u001b[0m",
      "\u001b[0;32m<ipython-input-30-567db658b782>\u001b[0m in \u001b[0;36mnorm_text\u001b[0;34m(text)\u001b[0m\n\u001b[1;32m      1\u001b[0m \u001b[0;32mdef\u001b[0m \u001b[0mnorm_text\u001b[0m\u001b[0;34m(\u001b[0m\u001b[0mtext\u001b[0m\u001b[0;34m)\u001b[0m\u001b[0;34m:\u001b[0m\u001b[0;34m\u001b[0m\u001b[0m\n\u001b[0;32m----> 2\u001b[0;31m     \u001b[0mpymorph\u001b[0m \u001b[0;34m=\u001b[0m \u001b[0mpymorphy2\u001b[0m\u001b[0;34m.\u001b[0m\u001b[0mMorphAnalyzer\u001b[0m\u001b[0;34m(\u001b[0m\u001b[0;34m)\u001b[0m\u001b[0;34m\u001b[0m\u001b[0m\n\u001b[0m\u001b[1;32m      3\u001b[0m     \u001b[0mstop_words\u001b[0m \u001b[0;34m=\u001b[0m \u001b[0mget_stop_words\u001b[0m\u001b[0;34m(\u001b[0m\u001b[0;34m'russian'\u001b[0m\u001b[0;34m)\u001b[0m\u001b[0;34m\u001b[0m\u001b[0m\n\u001b[1;32m      4\u001b[0m     \u001b[0mwords\u001b[0m \u001b[0;34m=\u001b[0m \u001b[0;34m''\u001b[0m\u001b[0;34m.\u001b[0m\u001b[0mjoin\u001b[0m\u001b[0;34m(\u001b[0m\u001b[0mchar\u001b[0m \u001b[0;32mfor\u001b[0m \u001b[0mchar\u001b[0m \u001b[0;32min\u001b[0m \u001b[0mtext\u001b[0m\u001b[0;34m.\u001b[0m\u001b[0mlower\u001b[0m\u001b[0;34m(\u001b[0m\u001b[0;34m)\u001b[0m \u001b[0;32mif\u001b[0m \u001b[0mchar\u001b[0m\u001b[0;34m.\u001b[0m\u001b[0misalpha\u001b[0m\u001b[0;34m(\u001b[0m\u001b[0;34m)\u001b[0m \u001b[0;32mor\u001b[0m \u001b[0mchar\u001b[0m \u001b[0;34m==\u001b[0m \u001b[0;34m' '\u001b[0m\u001b[0;34m)\u001b[0m\u001b[0;34m.\u001b[0m\u001b[0msplit\u001b[0m\u001b[0;34m(\u001b[0m\u001b[0;34m)\u001b[0m\u001b[0;34m\u001b[0m\u001b[0m\n\u001b[1;32m      5\u001b[0m     \u001b[0mtemp\u001b[0m \u001b[0;34m=\u001b[0m \u001b[0;34m[\u001b[0m\u001b[0mpymorph\u001b[0m\u001b[0;34m.\u001b[0m\u001b[0mparse\u001b[0m\u001b[0;34m(\u001b[0m\u001b[0mword\u001b[0m\u001b[0;34m)\u001b[0m\u001b[0;34m[\u001b[0m\u001b[0;36m0\u001b[0m\u001b[0;34m]\u001b[0m\u001b[0;34m.\u001b[0m\u001b[0mnormal_form\u001b[0m\u001b[0;34m.\u001b[0m\u001b[0mstrip\u001b[0m\u001b[0;34m(\u001b[0m\u001b[0;34m)\u001b[0m \u001b[0;32mfor\u001b[0m \u001b[0mword\u001b[0m \u001b[0;32min\u001b[0m \u001b[0mwords\u001b[0m \u001b[0;32mif\u001b[0m \u001b[0;34m'NOUN'\u001b[0m \u001b[0;32min\u001b[0m \u001b[0mpymorph\u001b[0m\u001b[0;34m.\u001b[0m\u001b[0mparse\u001b[0m\u001b[0;34m(\u001b[0m\u001b[0mword\u001b[0m\u001b[0;34m)\u001b[0m\u001b[0;34m[\u001b[0m\u001b[0;36m0\u001b[0m\u001b[0;34m]\u001b[0m\u001b[0;34m.\u001b[0m\u001b[0mtag\u001b[0m\u001b[0;34m]\u001b[0m\u001b[0;34m\u001b[0m\u001b[0m\n",
      "\u001b[0;32m/Library/Frameworks/Python.framework/Versions/3.6/lib/python3.6/site-packages/pymorphy2/analyzer.py\u001b[0m in \u001b[0;36m__init__\u001b[0;34m(self, path, result_type, units, probability_estimator_cls)\u001b[0m\n\u001b[1;32m    172\u001b[0m         \u001b[0mpath\u001b[0m \u001b[0;34m=\u001b[0m \u001b[0mself\u001b[0m\u001b[0;34m.\u001b[0m\u001b[0mchoose_dictionary_path\u001b[0m\u001b[0;34m(\u001b[0m\u001b[0mpath\u001b[0m\u001b[0;34m)\u001b[0m\u001b[0;34m\u001b[0m\u001b[0m\n\u001b[1;32m    173\u001b[0m         \u001b[0;32mwith\u001b[0m \u001b[0mthreading\u001b[0m\u001b[0;34m.\u001b[0m\u001b[0mRLock\u001b[0m\u001b[0;34m(\u001b[0m\u001b[0;34m)\u001b[0m\u001b[0;34m:\u001b[0m\u001b[0;34m\u001b[0m\u001b[0m\n\u001b[0;32m--> 174\u001b[0;31m             \u001b[0mself\u001b[0m\u001b[0;34m.\u001b[0m\u001b[0mdictionary\u001b[0m \u001b[0;34m=\u001b[0m \u001b[0mopencorpora_dict\u001b[0m\u001b[0;34m.\u001b[0m\u001b[0mDictionary\u001b[0m\u001b[0;34m(\u001b[0m\u001b[0mpath\u001b[0m\u001b[0;34m)\u001b[0m\u001b[0;34m\u001b[0m\u001b[0m\n\u001b[0m\u001b[1;32m    175\u001b[0m             \u001b[0;32mif\u001b[0m \u001b[0mprobability_estimator_cls\u001b[0m \u001b[0;32mis\u001b[0m \u001b[0;32mNone\u001b[0m\u001b[0;34m:\u001b[0m\u001b[0;34m\u001b[0m\u001b[0m\n\u001b[1;32m    176\u001b[0m                 \u001b[0mprobability_estimator_cls\u001b[0m \u001b[0;34m=\u001b[0m \u001b[0mDummySingleTagProbabilityEstimator\u001b[0m\u001b[0;34m\u001b[0m\u001b[0m\n",
      "\u001b[0;32m/Library/Frameworks/Python.framework/Versions/3.6/lib/python3.6/site-packages/pymorphy2/opencorpora_dict/wrapper.py\u001b[0m in \u001b[0;36m__init__\u001b[0;34m(self, path)\u001b[0m\n\u001b[1;32m     16\u001b[0m         \u001b[0mlogger\u001b[0m\u001b[0;34m.\u001b[0m\u001b[0minfo\u001b[0m\u001b[0;34m(\u001b[0m\u001b[0;34m\"Loading dictionaries from %s\"\u001b[0m\u001b[0;34m,\u001b[0m \u001b[0mpath\u001b[0m\u001b[0;34m)\u001b[0m\u001b[0;34m\u001b[0m\u001b[0m\n\u001b[1;32m     17\u001b[0m \u001b[0;34m\u001b[0m\u001b[0m\n\u001b[0;32m---> 18\u001b[0;31m         \u001b[0mself\u001b[0m\u001b[0;34m.\u001b[0m\u001b[0m_data\u001b[0m \u001b[0;34m=\u001b[0m \u001b[0mload_dict\u001b[0m\u001b[0;34m(\u001b[0m\u001b[0mpath\u001b[0m\u001b[0;34m)\u001b[0m\u001b[0;34m\u001b[0m\u001b[0m\n\u001b[0m\u001b[1;32m     19\u001b[0m \u001b[0;34m\u001b[0m\u001b[0m\n\u001b[1;32m     20\u001b[0m         \u001b[0mlogger\u001b[0m\u001b[0;34m.\u001b[0m\u001b[0minfo\u001b[0m\u001b[0;34m(\u001b[0m\u001b[0;34m\"format: %(format_version)s, revision: %(source_revision)s, updated: %(compiled_at)s\"\u001b[0m\u001b[0;34m,\u001b[0m \u001b[0mself\u001b[0m\u001b[0;34m.\u001b[0m\u001b[0m_data\u001b[0m\u001b[0;34m.\u001b[0m\u001b[0mmeta\u001b[0m\u001b[0;34m)\u001b[0m\u001b[0;34m\u001b[0m\u001b[0m\n",
      "\u001b[0;32m/Library/Frameworks/Python.framework/Versions/3.6/lib/python3.6/site-packages/pymorphy2/opencorpora_dict/storage.py\u001b[0m in \u001b[0;36mload_dict\u001b[0;34m(path, gramtab_format)\u001b[0m\n\u001b[1;32m     62\u001b[0m         \u001b[0mfn\u001b[0m \u001b[0;34m=\u001b[0m \u001b[0m_f\u001b[0m\u001b[0;34m(\u001b[0m\u001b[0;34m'prediction-suffixes-%s.dawg'\u001b[0m \u001b[0;34m%\u001b[0m \u001b[0mprefix_id\u001b[0m\u001b[0;34m)\u001b[0m\u001b[0;34m\u001b[0m\u001b[0m\n\u001b[1;32m     63\u001b[0m         \u001b[0;32massert\u001b[0m \u001b[0mos\u001b[0m\u001b[0;34m.\u001b[0m\u001b[0mpath\u001b[0m\u001b[0;34m.\u001b[0m\u001b[0mexists\u001b[0m\u001b[0;34m(\u001b[0m\u001b[0mfn\u001b[0m\u001b[0;34m)\u001b[0m\u001b[0;34m\u001b[0m\u001b[0m\n\u001b[0;32m---> 64\u001b[0;31m         \u001b[0mprediction_suffixes_dawgs\u001b[0m\u001b[0;34m.\u001b[0m\u001b[0mappend\u001b[0m\u001b[0;34m(\u001b[0m\u001b[0mdawg\u001b[0m\u001b[0;34m.\u001b[0m\u001b[0mPredictionSuffixesDAWG\u001b[0m\u001b[0;34m(\u001b[0m\u001b[0;34m)\u001b[0m\u001b[0;34m.\u001b[0m\u001b[0mload\u001b[0m\u001b[0;34m(\u001b[0m\u001b[0mfn\u001b[0m\u001b[0;34m)\u001b[0m\u001b[0;34m)\u001b[0m\u001b[0;34m\u001b[0m\u001b[0m\n\u001b[0m\u001b[1;32m     65\u001b[0m \u001b[0;34m\u001b[0m\u001b[0m\n\u001b[1;32m     66\u001b[0m     return LoadedDictionary(meta, gramtab, suffixes, paradigms, words,\n",
      "\u001b[0;32m/Library/Frameworks/Python.framework/Versions/3.6/lib/python3.6/site-packages/dawg_python/dawgs.py\u001b[0m in \u001b[0;36mload\u001b[0;34m(self, path)\u001b[0m\n\u001b[1;32m    164\u001b[0m         \u001b[0;32mwith\u001b[0m \u001b[0mopen\u001b[0m\u001b[0;34m(\u001b[0m\u001b[0mpath\u001b[0m\u001b[0;34m,\u001b[0m \u001b[0;34m'rb'\u001b[0m\u001b[0;34m)\u001b[0m \u001b[0;32mas\u001b[0m \u001b[0mf\u001b[0m\u001b[0;34m:\u001b[0m\u001b[0;34m\u001b[0m\u001b[0m\n\u001b[1;32m    165\u001b[0m             \u001b[0mself\u001b[0m\u001b[0;34m.\u001b[0m\u001b[0mdct\u001b[0m\u001b[0;34m.\u001b[0m\u001b[0mread\u001b[0m\u001b[0;34m(\u001b[0m\u001b[0mf\u001b[0m\u001b[0;34m)\u001b[0m\u001b[0;34m\u001b[0m\u001b[0m\n\u001b[0;32m--> 166\u001b[0;31m             \u001b[0mself\u001b[0m\u001b[0;34m.\u001b[0m\u001b[0mguide\u001b[0m\u001b[0;34m.\u001b[0m\u001b[0mread\u001b[0m\u001b[0;34m(\u001b[0m\u001b[0mf\u001b[0m\u001b[0;34m)\u001b[0m\u001b[0;34m\u001b[0m\u001b[0m\n\u001b[0m\u001b[1;32m    167\u001b[0m \u001b[0;34m\u001b[0m\u001b[0m\n\u001b[1;32m    168\u001b[0m         \u001b[0;32mreturn\u001b[0m \u001b[0mself\u001b[0m\u001b[0;34m\u001b[0m\u001b[0m\n",
      "\u001b[0;32m/Library/Frameworks/Python.framework/Versions/3.6/lib/python3.6/site-packages/dawg_python/wrapper.py\u001b[0m in \u001b[0;36mread\u001b[0;34m(self, fp)\u001b[0m\n\u001b[1;32m     91\u001b[0m     \u001b[0;32mdef\u001b[0m \u001b[0mread\u001b[0m\u001b[0;34m(\u001b[0m\u001b[0mself\u001b[0m\u001b[0;34m,\u001b[0m \u001b[0mfp\u001b[0m\u001b[0;34m)\u001b[0m\u001b[0;34m:\u001b[0m\u001b[0;34m\u001b[0m\u001b[0m\n\u001b[1;32m     92\u001b[0m         \u001b[0mbase_size\u001b[0m \u001b[0;34m=\u001b[0m \u001b[0mstruct\u001b[0m\u001b[0;34m.\u001b[0m\u001b[0munpack\u001b[0m\u001b[0;34m(\u001b[0m\u001b[0mstr\u001b[0m\u001b[0;34m(\u001b[0m\u001b[0;34m\"=I\"\u001b[0m\u001b[0;34m)\u001b[0m\u001b[0;34m,\u001b[0m \u001b[0mfp\u001b[0m\u001b[0;34m.\u001b[0m\u001b[0mread\u001b[0m\u001b[0;34m(\u001b[0m\u001b[0;36m4\u001b[0m\u001b[0;34m)\u001b[0m\u001b[0;34m)\u001b[0m\u001b[0;34m[\u001b[0m\u001b[0;36m0\u001b[0m\u001b[0;34m]\u001b[0m\u001b[0;34m\u001b[0m\u001b[0m\n\u001b[0;32m---> 93\u001b[0;31m         \u001b[0mself\u001b[0m\u001b[0;34m.\u001b[0m\u001b[0m_units\u001b[0m\u001b[0;34m.\u001b[0m\u001b[0mfromfile\u001b[0m\u001b[0;34m(\u001b[0m\u001b[0mfp\u001b[0m\u001b[0;34m,\u001b[0m \u001b[0mbase_size\u001b[0m\u001b[0;34m*\u001b[0m\u001b[0;36m2\u001b[0m\u001b[0;34m)\u001b[0m\u001b[0;34m\u001b[0m\u001b[0m\n\u001b[0m\u001b[1;32m     94\u001b[0m \u001b[0;34m\u001b[0m\u001b[0m\n\u001b[1;32m     95\u001b[0m     \u001b[0;32mdef\u001b[0m \u001b[0msize\u001b[0m\u001b[0;34m(\u001b[0m\u001b[0mself\u001b[0m\u001b[0;34m)\u001b[0m\u001b[0;34m:\u001b[0m\u001b[0;34m\u001b[0m\u001b[0m\n",
      "\u001b[0;31mKeyboardInterrupt\u001b[0m: "
     ]
    }
   ],
   "source": [
    "texts = [norm_text(text) for text in data]"
   ]
  },
  {
   "cell_type": "markdown",
   "metadata": {},
   "source": [
    "##########################################"
   ]
  },
  {
   "cell_type": "code",
   "execution_count": 59,
   "metadata": {
    "collapsed": true
   },
   "outputs": [],
   "source": [
    "i = (df1.CATEGORY_ID == 2030201) | (df1.CATEGORY_ID == 2040202) | (df1.CATEGORY_ID == 2030501)\n",
    "data = df1.TEXT[i]"
   ]
  },
  {
   "cell_type": "code",
   "execution_count": 60,
   "metadata": {
    "collapsed": true
   },
   "outputs": [],
   "source": [
    "from pymystem3 import Mystem\n",
    "m = Mystem()\n",
    "def normalize_text(text):\n",
    "    text_normalized = []\n",
    "    analysis = m.analyze(text)\n",
    "    for word in analysis:\n",
    "        if 'analysis' in word:\n",
    "            if len(word['analysis']):\n",
    "                word_norm = word['analysis'][0]['lex']\n",
    "                form = word['analysis'][0]['gr'].split('=')[0].split(',')[0]\n",
    "                if form == 'S':\n",
    "                    text_normalized.append(word_norm)\n",
    "    return text_normalized"
   ]
  },
  {
   "cell_type": "code",
   "execution_count": 61,
   "metadata": {
    "collapsed": true
   },
   "outputs": [],
   "source": [
    "texts = [normalize_text(text) for text in data]"
   ]
  },
  {
   "cell_type": "code",
   "execution_count": 62,
   "metadata": {
    "collapsed": true
   },
   "outputs": [],
   "source": [
    "def without_back(text, array):\n",
    "    return [word for word in text if word not in array]"
   ]
  },
  {
   "cell_type": "code",
   "execution_count": 63,
   "metadata": {
    "collapsed": true
   },
   "outputs": [],
   "source": [
    "array = ['компьютер', 'ноут', 'ноутбук']\n",
    "texts2 = [without_back(text, array) for text in texts]"
   ]
  },
  {
   "cell_type": "code",
   "execution_count": 64,
   "metadata": {},
   "outputs": [
    {
     "data": {
      "text/plain": [
       "14750"
      ]
     },
     "execution_count": 64,
     "metadata": {},
     "output_type": "execute_result"
    }
   ],
   "source": [
    "len(texts2)"
   ]
  },
  {
   "cell_type": "code",
   "execution_count": 65,
   "metadata": {},
   "outputs": [
    {
     "data": {
      "text/html": [
       "<div>\n",
       "<style>\n",
       "    .dataframe thead tr:only-child th {\n",
       "        text-align: right;\n",
       "    }\n",
       "\n",
       "    .dataframe thead th {\n",
       "        text-align: left;\n",
       "    }\n",
       "\n",
       "    .dataframe tbody tr th {\n",
       "        vertical-align: top;\n",
       "    }\n",
       "</style>\n",
       "<table border=\"1\" class=\"dataframe\">\n",
       "  <thead>\n",
       "    <tr style=\"text-align: right;\">\n",
       "      <th></th>\n",
       "      <th>text</th>\n",
       "    </tr>\n",
       "  </thead>\n",
       "  <tbody>\n",
       "    <tr>\n",
       "      <th>0</th>\n",
       "      <td>[игра, работа, задача, оценка]</td>\n",
       "    </tr>\n",
       "    <tr>\n",
       "      <th>1</th>\n",
       "      <td>[работа, экран, клавиатура, удовольствие, рабо...</td>\n",
       "    </tr>\n",
       "    <tr>\n",
       "      <th>2</th>\n",
       "      <td>[машина]</td>\n",
       "    </tr>\n",
       "    <tr>\n",
       "      <th>3</th>\n",
       "      <td>[размер, сборка, пластик, оперативка, работа, ...</td>\n",
       "    </tr>\n",
       "    <tr>\n",
       "      <th>4</th>\n",
       "      <td>[диск, комплект, драйвер, восьмерка, система]</td>\n",
       "    </tr>\n",
       "  </tbody>\n",
       "</table>\n",
       "</div>"
      ],
      "text/plain": [
       "                                                text\n",
       "0                     [игра, работа, задача, оценка]\n",
       "1  [работа, экран, клавиатура, удовольствие, рабо...\n",
       "2                                           [машина]\n",
       "3  [размер, сборка, пластик, оперативка, работа, ...\n",
       "4      [диск, комплект, драйвер, восьмерка, система]"
      ]
     },
     "execution_count": 65,
     "metadata": {},
     "output_type": "execute_result"
    }
   ],
   "source": [
    "texts_df = pd.DataFrame({'text' : texts2})\n",
    "texts_df.head()"
   ]
  },
  {
   "cell_type": "code",
   "execution_count": 66,
   "metadata": {
    "collapsed": true
   },
   "outputs": [],
   "source": [
    "s = [(len(text) > 10) for text in texts2]"
   ]
  },
  {
   "cell_type": "code",
   "execution_count": 67,
   "metadata": {
    "collapsed": true
   },
   "outputs": [],
   "source": [
    "texts_df2 =  texts_df[s]"
   ]
  },
  {
   "cell_type": "code",
   "execution_count": 68,
   "metadata": {},
   "outputs": [
    {
     "data": {
      "text/html": [
       "<div>\n",
       "<style>\n",
       "    .dataframe thead tr:only-child th {\n",
       "        text-align: right;\n",
       "    }\n",
       "\n",
       "    .dataframe thead th {\n",
       "        text-align: left;\n",
       "    }\n",
       "\n",
       "    .dataframe tbody tr th {\n",
       "        vertical-align: top;\n",
       "    }\n",
       "</style>\n",
       "<table border=\"1\" class=\"dataframe\">\n",
       "  <thead>\n",
       "    <tr style=\"text-align: right;\">\n",
       "      <th></th>\n",
       "      <th>text</th>\n",
       "    </tr>\n",
       "  </thead>\n",
       "  <tbody>\n",
       "    <tr>\n",
       "      <th>1</th>\n",
       "      <td>[работа, экран, клавиатура, удовольствие, рабо...</td>\n",
       "    </tr>\n",
       "    <tr>\n",
       "      <th>8</th>\n",
       "      <td>[год, подруга, покупка, бренд, производитель, ...</td>\n",
       "    </tr>\n",
       "    <tr>\n",
       "      <th>11</th>\n",
       "      <td>[план, железо, цвет, клавиатура, рамка, мечта,...</td>\n",
       "    </tr>\n",
       "    <tr>\n",
       "      <th>13</th>\n",
       "      <td>[модель, работа, программа, производительность...</td>\n",
       "    </tr>\n",
       "    <tr>\n",
       "      <th>14</th>\n",
       "      <td>[использование, ребенок, цена, зарядка, ребено...</td>\n",
       "    </tr>\n",
       "  </tbody>\n",
       "</table>\n",
       "</div>"
      ],
      "text/plain": [
       "                                                 text\n",
       "1   [работа, экран, клавиатура, удовольствие, рабо...\n",
       "8   [год, подруга, покупка, бренд, производитель, ...\n",
       "11  [план, железо, цвет, клавиатура, рамка, мечта,...\n",
       "13  [модель, работа, программа, производительность...\n",
       "14  [использование, ребенок, цена, зарядка, ребено..."
      ]
     },
     "execution_count": 68,
     "metadata": {},
     "output_type": "execute_result"
    }
   ],
   "source": [
    "texts_df2.head()"
   ]
  },
  {
   "cell_type": "code",
   "execution_count": 69,
   "metadata": {
    "collapsed": true
   },
   "outputs": [],
   "source": [
    "texts3 = [text for text in texts2 if len(text) > 10]"
   ]
  },
  {
   "cell_type": "code",
   "execution_count": 70,
   "metadata": {},
   "outputs": [
    {
     "data": {
      "text/plain": [
       "7281"
      ]
     },
     "execution_count": 70,
     "metadata": {},
     "output_type": "execute_result"
    }
   ],
   "source": [
    "len(texts3)"
   ]
  },
  {
   "cell_type": "code",
   "execution_count": 71,
   "metadata": {},
   "outputs": [
    {
     "data": {
      "text/plain": [
       "['год',\n",
       " 'подруга',\n",
       " 'покупка',\n",
       " 'бренд',\n",
       " 'производитель',\n",
       " 'поклонница',\n",
       " 'студенчество',\n",
       " 'фирма',\n",
       " 'время',\n",
       " 'пользование',\n",
       " 'раз',\n",
       " 'выбор',\n",
       " 'мвидео',\n",
       " 'продавец',\n",
       " 'мвидео',\n",
       " 'ассортимент',\n",
       " 'ряд',\n",
       " 'жизнь',\n",
       " 'оттенок',\n",
       " 'цвет',\n",
       " 'вариант',\n",
       " 'исполнение',\n",
       " 'объем',\n",
       " 'оперативка',\n",
       " 'сердце',\n",
       " 'образ',\n",
       " 'покупка',\n",
       " 'проблема',\n",
       " 'подруга',\n",
       " 'время',\n",
       " 'мгновение',\n",
       " 'программа',\n",
       " 'сеть',\n",
       " 'соцсеть',\n",
       " 'система',\n",
       " 'конфликт',\n",
       " 'установка',\n",
       " 'программа',\n",
       " 'экран',\n",
       " 'видео',\n",
       " 'фильм',\n",
       " 'фотография',\n",
       " 'произведение',\n",
       " 'видео',\n",
       " 'звук',\n",
       " 'усилитель',\n",
       " 'глаз',\n",
       " 'картинка',\n",
       " 'цвет',\n",
       " 'цена']"
      ]
     },
     "execution_count": 71,
     "metadata": {},
     "output_type": "execute_result"
    }
   ],
   "source": [
    "texts3[1]"
   ]
  },
  {
   "cell_type": "code",
   "execution_count": 72,
   "metadata": {
    "collapsed": true
   },
   "outputs": [],
   "source": [
    "output_file = open('comments.txt', 'w')\n",
    "for text in texts3:\n",
    "    output_file.write(' '.join(text) + '\\n')\n",
    "output_file.close()"
   ]
  },
  {
   "cell_type": "code",
   "execution_count": 73,
   "metadata": {},
   "outputs": [
    {
     "name": "stdout",
     "output_type": "stream",
     "text": [
      "    7281 comments.txt\r\n"
     ]
    }
   ],
   "source": [
    "! wc -l comments.txt"
   ]
  },
  {
   "cell_type": "code",
   "execution_count": 74,
   "metadata": {},
   "outputs": [
    {
     "name": "stdout",
     "output_type": "stream",
     "text": [
      "работа экран клавиатура удовольствие работа видеокарта просмотр видео видеокарта экран работа\r\n",
      "год подруга покупка бренд производитель поклонница студенчество фирма время пользование раз выбор мвидео продавец мвидео ассортимент ряд жизнь оттенок цвет вариант исполнение объем оперативка сердце образ покупка проблема подруга время мгновение программа сеть соцсеть система конфликт установка программа экран видео фильм фотография произведение видео звук усилитель глаз картинка цвет цена\r\n",
      "план железо цвет клавиатура рамка мечта глаз основное документ поле контраст рамка зрение глаз песок время вечер размер экран вес габарит спина плечи разрешение шрифт буква кино картинка торможение сайт клавиатура палец\r\n",
      "модель работа программа производительность железо т к деньги вариант проблема установка корпус слеза дизайн минус экран крышка планка озу др кнопка клавиатура качество кнопка выключение неосторожность порт пользователь край корпус спасибо продукция\r\n",
      "использование ребенок цена зарядка ребенок раз день дочь время фильм сериал игра майнкрафт террарий т д экран клавиша минус ток кг остальное срок использование неделя остальное\r\n",
      "вариант работа интернет просмотр фильм видео ютуб производительность программа тормоз видео работа сайт подтормаживание процессор ядро задача повод игра игрушка настройка память диск объем сборка дизайн эмоция\r\n",
      "качество надежность рука работа тайна секрет память гб товарищ диагональ дюйм изображение фильм радость картинка глаз клавиатура палец текст волшебство плюс звук ушко игра покупка\r\n",
      "системник совет решение приоритет цена производительность картинка монитор покупка к тишина динамик центр вселенная душа дом очаг жизнь очаг телевизор центр тк ребенок год браузер мультик минус игра\r\n",
      "пользователь комп модель недочет год раз ремонт вина картинка глаз студент школьник учеба множество программа работа модель дизайн рука друг помощник\r\n",
      "батарея игра работа офис видео карта игра проблема разрешение игра контакт конец производительность работа экран лаг драйвер сайт комп программа вред\r\n"
     ]
    }
   ],
   "source": [
    "! head -10 comments.txt"
   ]
  },
  {
   "cell_type": "code",
   "execution_count": 75,
   "metadata": {
    "collapsed": true
   },
   "outputs": [],
   "source": [
    "ft = cv.fit_transform([' '.join(text) for text in texts3])"
   ]
  },
  {
   "cell_type": "code",
   "execution_count": 76,
   "metadata": {},
   "outputs": [
    {
     "name": "stdout",
     "output_type": "stream",
     "text": [
      "CPU times: user 328 ms, sys: 563 ms, total: 891 ms\n",
      "Wall time: 1.07 s\n"
     ]
    }
   ],
   "source": [
    "%time nwd = np.array(ft.todense()).T"
   ]
  },
  {
   "cell_type": "code",
   "execution_count": 77,
   "metadata": {},
   "outputs": [
    {
     "data": {
      "text/plain": [
       "(8721, 7281)"
      ]
     },
     "execution_count": 77,
     "metadata": {},
     "output_type": "execute_result"
    }
   ],
   "source": [
    "nwd.shape"
   ]
  },
  {
   "cell_type": "code",
   "execution_count": 78,
   "metadata": {
    "collapsed": true
   },
   "outputs": [],
   "source": [
    "vocabulary = cv.get_feature_names()"
   ]
  },
  {
   "cell_type": "code",
   "execution_count": 79,
   "metadata": {},
   "outputs": [
    {
     "data": {
      "text/plain": [
       "8721"
      ]
     },
     "execution_count": 79,
     "metadata": {},
     "output_type": "execute_result"
    }
   ],
   "source": [
    "len(vocabulary)"
   ]
  },
  {
   "cell_type": "code",
   "execution_count": 80,
   "metadata": {
    "collapsed": true
   },
   "outputs": [],
   "source": [
    "bv = artm.BatchVectorizer(data_format='bow_n_wd',\n",
    "                         n_wd = nwd,\n",
    "                         vocabulary = vocabulary)"
   ]
  },
  {
   "cell_type": "code",
   "execution_count": 210,
   "metadata": {
    "collapsed": true
   },
   "outputs": [],
   "source": [
    "my_dictionary = bv.dictionary"
   ]
  },
  {
   "cell_type": "code",
   "execution_count": 211,
   "metadata": {
    "collapsed": true
   },
   "outputs": [],
   "source": [
    "regularizers_artm = [artm.SmoothSparsePhiRegularizer(name='SmoothCategory', \n",
    "                                                     tau=1, \n",
    "                                                     #topic_names=names_of_topics[4:]\n",
    "                                                    ),\n",
    "                    artm.SmoothSparsePhiRegularizer(name='SparseCategory', \n",
    "                                                     tau=-1, \n",
    "                                                     #topic_names=names_of_topics[:4]\n",
    "                                                    )]"
   ]
  },
  {
   "cell_type": "code",
   "execution_count": 213,
   "metadata": {
    "collapsed": true
   },
   "outputs": [],
   "source": [
    "scores_artm = [artm.PerplexityScore(name='PerplexityScore', \n",
    "                                    #topic_names=names_of_topics, \n",
    "                                    #dictionary=my_dictionary\n",
    "                                   ),\n",
    "               artm.TopTokensScore(name='TopTokensScore', \n",
    "                                   #topic_names=names_of_topics, \n",
    "                                   num_tokens=1, \n",
    "                                   dictionary=my_dictionary\n",
    "                                  ),\n",
    "               artm.SparsityPhiScore(name='SparsityPhiScore'),\n",
    "               artm.SparsityThetaScore(name='SparsityThetaScore'),\n",
    "               artm.TopicKernelScore(name='TopicKernelScore', probability_mass_threshold=0.3)]"
   ]
  },
  {
   "cell_type": "code",
   "execution_count": 214,
   "metadata": {
    "collapsed": true
   },
   "outputs": [],
   "source": [
    "model2 = artm.ARTM(num_topics=15, \n",
    "                  dictionary=my_dictionary,\n",
    "                  scores=scores_artm)\n",
    "                  #regularizers=regularizers_artm,\n",
    "                  #cache_theta=True)"
   ]
  },
  {
   "cell_type": "code",
   "execution_count": 215,
   "metadata": {},
   "outputs": [
    {
     "name": "stdout",
     "output_type": "stream",
     "text": [
      "CPU times: user 5.04 s, sys: 941 ms, total: 5.98 s\n",
      "Wall time: 2.79 s\n"
     ]
    }
   ],
   "source": [
    "%time model2.fit_offline(bv, num_collection_passes=10)"
   ]
  },
  {
   "cell_type": "code",
   "execution_count": 216,
   "metadata": {},
   "outputs": [
    {
     "data": {
      "text/plain": [
       "[0.0, 0.0, 0.0, 0.0, 0.0, 0.0, 0.0, 0.0, 0.0, 0.0]"
      ]
     },
     "execution_count": 216,
     "metadata": {},
     "output_type": "execute_result"
    }
   ],
   "source": [
    "model.score_tracker['PerplexityScore'].value"
   ]
  },
  {
   "cell_type": "code",
   "execution_count": 217,
   "metadata": {},
   "outputs": [
    {
     "name": "stdout",
     "output_type": "stream",
     "text": [
      "topic_0: работа интернет программа учеба задача время проблема зарядка вариант документ серфинг офис файл раз приложение фильм браузер экран год игрушка покупка ребенок опыт жена диск целое решение зависание аппарат деньги батарея принцип цель просмотр мощность страница дом вкладка информация муж цена глаз мама использование сеть клавиатура картинка цвет подарок текст фотошоп изображение развлечение сериал сумка пара студент мышка игра рабочий дизайн почта куча сын семья дочка тормоз фото техника кино дело тип машинка ворд вечер вид итог оперативка производительность родитель тач редактор минус момент соцсеть вайфай запуск куллер впечатление восторг музыка флешка наличие условие программирование вес претензия фотография школьник скорость \n",
      "topic_1: час экран батарея работа аккумулятор фильм нетбук заряд яркость размер сеть диагональ время просмотр разрешение дюйм вес проблема глаз поездка удовольствие год минус подзарядка пользование дом батарейка вход дизайн инет кино недостаток зарядка звук цвет уровень картинка покупка громкость плюс модем фай командировка розетка изображение возможность дорога диск процессор качество музыка подключение флешка принцип глюк нагрузка воспроизведение зависимость аппарат габарит раз минимум энергопотребление режим отдых камера крышка план функция скайп оперативка минута деньги краска альтернатива тв наличие пара приложение разъем выбор месяц помещение общение колонка емкость порядок пиксел начинка цветопередача улица вещь кабель скорость впечатление лихва кг экономия мера лошадка \n",
      "topic_2: модель цена качество выбор характеристика фирма дизайн сборка экран сравнение деньги человек магазин игра проблема монитор пк минус сын раз производительность батарея взгляд вещь день итог подарок категория целое отзыв начинка параметр внимание железо техника вариант самсунг бренд любитель время акция игрушка консультант видео сочетание марка мощность момент рождение тыс продукт большинство показатель сумма претензия соотношение сеть работа аналог мнение опыт новинка друг глаз дело видеокарта слово принцип очередь цвет компания результат покупка приобретение критерий рубль вид плюс остальное бюджет год неделя пора покупатель родитель производитель будущее час комп продажа возможность дом процессор мера жена стоимость деталь бук телевизор разрешение \n",
      "topic_3: система охлаждение режим гиг остальное температура оценка бук минус кнопка проц градус нагрузка рука процессор час клавиатура плюс блютус серия оперативка видео винт карта размер монитор причина клавиша батарея гнездо отверстие звук проблема клава дизайн аккум винд оператив воздух половина тачпад колено год недостаток диск производительность порт вид штекер максимум машинка выход вино сторона часы дело пробел пыль деньги пример файл тач аудио ряд тормоз видеокарта комп версия ресурс зарядка момент четкость диспетчер результат порядок поверхность спецификация куча часть перегрев сравнение картинка вентиляция мышка агрегат раз усилие стол производитель текстура внимание процесс нетбук целое отсутствие итог экран энергосбережение мышь секунда \n",
      "topic_4: качество цена минус экран плюс соотношение отпечаток время батарея палец производительность разрешение использование год дисплей картинка недостаток нарекание целое режим час дело мышка предел месяц клава клавиатура материал мощь раз конкурент блик дизайн вывод достоинство тачпада корпус фильм цвет инет восторг разъем порт среднее ожидание день привычка момент камера рынок случай тачпад мобильность нагрузка пад число легкость покрытие глаз игрушка наличие уровень датчик оперативка лаг пара начинка тач сканер мышь железо максимум процесс сравнение задача телефон удовольствие взгляд отзыв переноска передача включение лошадка изображение половина ввод освещение конструкция исполнение кнопка игра класс лампочка сборка зарядка количество зависание пакет стоимость работа \n",
      "topic_5: планшет трансформер устройство работа режим техника компания рука время человек использование возможность технология презентация жизнь дисплей экран чудо процессор друг вес место сенсор преимущество пользователь функция вид видео фильм удобство решение положение отзыв гаджет ультрабук качество удовольствие дело помощник мобильность дизайн вещь мир опыт мечта производитель девайса глаз разрешение год цвет наличие момент ситуация кг количество функционал выбор база помощь сторона раз размер семья просмотр дорога отдых аппарат класс коллега консоль фотография развлечение трансформация новинка клавиатура ребенок дюйм задача девайс часть связь путешествие образ книга пора градус комфорт вкус слово план касание рынок внимание студент бизнес множество изображение разработчик производительность \n",
      "topic_6: звук игра фильм динамика камера покупка дизайн музыка друг микрофон просмотр видеокарта скайп динамик месяц графика использование веб колонка изображение минус комп характеристика целое дисплей картинка наушники наушник часы звучание начинка время цвет аккумулятор итог час нарекание цена проблема класс задача дом деньги танк раз батарея куча параметр большинство работа прослушивание оперативка интернет наличие бонус терабайт минимум гиг процессор подключение выполнение гегабайт качество клавиатура офис функция помеха норма цветок случай мощность впечатление игроман корпус железо разрешение плюс глюк фишка год громкость удивление вид куллер продукт мвидео винчестер выход максималка основное формат ночь эффект дача недостаток вебок многозадачность дело лошадка глаз \n",
      "topic_7: машина раз экран загрузка минус игрушка скорость звук день пара кнопка производительность цвет итог минута угол пиксел асус место рука операционка видеокарта эксплуатация открытие обзор мощность дефект дисплей вид ядро фон колонка случай голова дело магазин восьмерка центр плюс экземпляр использование уровень месяц часть диск функция хард начало крышка агрегат пуск вещь комп засвет форум сеть область секунда скрип причина программа градус косяк срок течение кулер взгляд вопрос сервис деньги процесс мера лето линейка брак пленка папка высота винд переход брат комната время процессор март полгода глянец точка специалист цена зверь разница тачпэд кризис палец город мак запись параметр прога \n",
      "topic_8: игра настройка видео график ответ эксперт видеокарта требование сайт лаг кадр производитель вопрос характеристика фпс частота год запуск производительность внимание ведьмак спасибо гта карта приложение макс тип тест секунда уровень минус сглаживание параметр го александр монтаж танк кс графика кадры категория минималка конфигурация значение рекомендация данные дмитрий оперативка сталкер поддержка тормоз пк просмотр разработчик никита гбайт проект алексей максималка проблема экран место комп минимум класс максимум поколение просадка сергей андрей нвидиа ошибка возможность частность директ иван детализация нагрузка обзор артем припять зов количество модель тень зверь максим симс вылет игорь фотошоп привод счет описание процесс дисковод ресурс приобретение рендеринг мода \n",
      "topic_9: раз гарантия винд минус год замена комплект сервис покупка деньги норма корпус принцип центр аппарат экран комп магазин плюс ремонт слово антивирус диск главное тысяча мышь асер цвет сумка месяц перезагрузка офис пора впечатление дизайн проблема смысл счастие девушка ока включение мнение коробка радость цена крышка машинка чехол семерка ультрабук продукция комплектация батарея видео рука провод совет скорость питание материнка спасибо возврат обеспечение писк место потеря консультант ключ февраль программа стол повод мвидео отсутствие друг сторона мышка отношение косяк сертификат ребята полгода подарок рубль смерть рисунок тачпад телефон язык деготь история польза часть марка проверка сожаление менеджер софт январь блок \n",
      "topic_10: деньги проблема месяц неделя железо подставка видюха минус игра геймер питание игрушка время аппарат расположение недостаток год производительность порт клава сторона обновление перегрев клавиатура покупка буква цвет блок нагрев раз клавиша стол разъем акция производитель дизайн скидка вывод царапина целое панель адаптер виндовс пора куллер танк кредит случай мелочь качество самолет выключение инет кабель тип впечатление ток достоинство софт видеокарта ужас защита куча отключение пыль градус управление проц картинка друг нарекание капля драйвер пк утилита машинка мвидео ос ворд обладатель ку повод шок часть включение дело комментарий экран обращение сборка карта пара кнопка пользование счет корпус макс действие товарищ температура \n"
     ]
    },
    {
     "name": "stdout",
     "output_type": "stream",
     "text": [
      "topic_11: клавиатура экран корпус подсветка клавиша угол крышка обзор кнопка сборка матрица тачпад пластик звук качество недостаток нажатие дисплей плюс производительность поверхность глаз цветопередача вид диск яркость панель дизайн начинка минус монитор покупка разрешение ощупь место палец покрытие привод материал достоинство вес ход люфт работа текст часть след картинка высота алюминий ультрабук порт уровень блок цена скорость металл отсутствие разъем изображение пластика железо сторона тач аккумулятор набор рамка щель момент деталь глянец приложение цветок процессор цвет контрастность целое мышь темнота взгляд программа тачпада зазор время максимум производитель любитель ощущение питание рюкзак охлаждение громкость неделя пара модель сабвуфер логотип система характеристика толщина \n",
      "topic_12: игра драйвер проблема диск установка сайт вентилятор шум максимум производительность ультра дрова фпс тормоз кулер максималка система ос целое цена видеокарта настройка винд деньги проц нагрузка биос минус охлаждение семерка раздел секунда звук винт прога оборот норма машинка вист гта градус восстановление переустановка подставка кнопка железо привод софт дело повод месяц балл акция нагрев оперативка отсутствие дисковод недостаток минута запись поддержка вариант плюс инет время пара случай ультр руб клава отзыв исключение уровень ведьмак индекс экран порядок помощь двд конфигурация версия включение искажение покупка параметр блютуз комплектация наклейка совместимость переключение прошивка глюк качество запуск особенность офф асер цвет замечание шина \n",
      "topic_13: день программа магазин бук покупка видео год товар спасибо отзыв версия продавец время мвидео карта система редактор диск момент пара обработка производитель фото фотошоп сайт скидка обновление внимание человек стол ошибка акция деньги неделя брак ос ремонт девайс комп месяц ноль обмен винд фотка куча целое город декабрь заказ фотография установка вопрос обслуживание впечатление окно параметр место данные минута секунда оценка сотрудник антивирус дело правда витрина работа комплектующий глюк рассрочка проблема сумма пользование средство оперативка хром стоимость процессор полоса офис попытка приложение запуск торможение центр пакет работоспособность моделька загрузка шлейф течение мина включение софт плата аппарат экспертиза фильм метр оплата \n",
      "topic_14: память процессор гб видеокарта диск объем система возможность частота оперативка озу ядро слот карта производитель разъем производительность тип кг дисплей количество порт место вес модуль скорость аппарат гиг планка гигабайт поколение уровень характеристика корпус мб накопитель видео тб приложение плата пользователь задача мгц расширение начинка устройство выбор кеш видеопамять сторона мм поддержка информация нагрузка модель наличие контроллер диагональ версия емкость привод данные вариант интел вид дизайн разрешение отсутствие чип интерфейс увеличение вопрос быстродействие выход счет желание решение сегмент хранение комплектация см матрица апгрейд аккумулятор серия борт качество большинство размер внимание сочетание параметр материал линейка изображение взгляд время вывод игра толщина \n"
     ]
    }
   ],
   "source": [
    "for i, topic in enumerate(model.topic_names):\n",
    "    print(topic + ':', end=\" \")\n",
    "    for word in model.score_tracker['TopTokensScore'].last_tokens[topic]:\n",
    "        print(word, end=\" \")\n",
    "    print()"
   ]
  },
  {
   "cell_type": "code",
   "execution_count": 169,
   "metadata": {
    "collapsed": true
   },
   "outputs": [],
   "source": [
    "def print_measures(model_plsa):\n",
    "    print('Sparsity Phi: {0:.3f} (PLSA) vs. {1:.3f} (ARTM)'.format(\n",
    "        model_plsa.score_tracker['SparsityPhiScore'].last_value))\n",
    "\n",
    "    print('Sparsity Theta: {0:.3f} (PLSA) vs. {1:.3f} (ARTM)'.format(\n",
    "        model_plsa.score_tracker['SparsityThetaScore'].last_value))\n",
    "\n",
    "    print('Kernel contrast: {0:.3f} (PLSA) vs. {1:.3f} (ARTM)'.format(\n",
    "        model_plsa.score_tracker['TopicKernelScore'].last_average_contrast))\n",
    "\n",
    "    print('Kernel purity: {0:.3f} (PLSA) vs. {1:.3f} (ARTM)'.format(\n",
    "        model_plsa.score_tracker['TopicKernelScore'].last_average_purity))\n",
    "\n",
    "    print('Perplexity: {0:.3f} (PLSA) vs. {1:.3f} (ARTM)'.format(\n",
    "        model_plsa.score_tracker['PerplexityScore'].last_value))\n",
    "\n",
    "    plt.plot(range(model_plsa.num_phi_updates),\n",
    "             model_plsa.score_tracker['PerplexityScore'].value, 'b--', linewidth=2)\n",
    "    plt.xlabel('Iterations count')\n",
    "    plt.ylabel('PLSA perp. (blue), ARTM perp. (red)')\n",
    "    plt.grid(True)\n",
    "    plt.show()"
   ]
  },
  {
   "cell_type": "code",
   "execution_count": 170,
   "metadata": {},
   "outputs": [
    {
     "ename": "IndexError",
     "evalue": "tuple index out of range",
     "output_type": "error",
     "traceback": [
      "\u001b[0;31m---------------------------------------------------------------------------\u001b[0m",
      "\u001b[0;31mIndexError\u001b[0m                                Traceback (most recent call last)",
      "\u001b[0;32m<ipython-input-170-3486fbb5685f>\u001b[0m in \u001b[0;36m<module>\u001b[0;34m()\u001b[0m\n\u001b[0;32m----> 1\u001b[0;31m \u001b[0mprint_measures\u001b[0m\u001b[0;34m(\u001b[0m\u001b[0mmodel\u001b[0m\u001b[0;34m)\u001b[0m\u001b[0;34m\u001b[0m\u001b[0m\n\u001b[0m",
      "\u001b[0;32m<ipython-input-169-7dffcf5cb110>\u001b[0m in \u001b[0;36mprint_measures\u001b[0;34m(model_plsa)\u001b[0m\n\u001b[1;32m      1\u001b[0m \u001b[0;32mdef\u001b[0m \u001b[0mprint_measures\u001b[0m\u001b[0;34m(\u001b[0m\u001b[0mmodel_plsa\u001b[0m\u001b[0;34m)\u001b[0m\u001b[0;34m:\u001b[0m\u001b[0;34m\u001b[0m\u001b[0m\n\u001b[1;32m      2\u001b[0m     print('Sparsity Phi: {0:.3f} (PLSA) vs. {1:.3f} (ARTM)'.format(\n\u001b[0;32m----> 3\u001b[0;31m         model_plsa.score_tracker['SparsityPhiScore'].last_value))\n\u001b[0m\u001b[1;32m      4\u001b[0m \u001b[0;34m\u001b[0m\u001b[0m\n\u001b[1;32m      5\u001b[0m     print('Sparsity Theta: {0:.3f} (PLSA) vs. {1:.3f} (ARTM)'.format(\n",
      "\u001b[0;31mIndexError\u001b[0m: tuple index out of range"
     ]
    }
   ],
   "source": [
    "print_measures(model)"
   ]
  },
  {
   "cell_type": "code",
   "execution_count": 89,
   "metadata": {
    "collapsed": true
   },
   "outputs": [],
   "source": [
    "phi = model.get_phi(model_name=model.model_pwt)"
   ]
  },
  {
   "cell_type": "markdown",
   "metadata": {},
   "source": [
    "## Get documents"
   ]
  },
  {
   "cell_type": "code",
   "execution_count": 88,
   "metadata": {},
   "outputs": [
    {
     "ename": "ValueError",
     "evalue": "cache_theta == False. Set ARTM.cache_theta = True",
     "output_type": "error",
     "traceback": [
      "\u001b[0;31m---------------------------------------------------------------------------\u001b[0m",
      "\u001b[0;31mValueError\u001b[0m                                Traceback (most recent call last)",
      "\u001b[0;32m<ipython-input-88-f09717ba2289>\u001b[0m in \u001b[0;36m<module>\u001b[0;34m()\u001b[0m\n\u001b[0;32m----> 1\u001b[0;31m \u001b[0mtheta\u001b[0m \u001b[0;34m=\u001b[0m \u001b[0mmodel\u001b[0m\u001b[0;34m.\u001b[0m\u001b[0mget_theta\u001b[0m\u001b[0;34m(\u001b[0m\u001b[0;34m)\u001b[0m\u001b[0;34m\u001b[0m\u001b[0m\n\u001b[0m",
      "\u001b[0;32m/Library/Frameworks/Python.framework/Versions/3.6/lib/python3.6/site-packages/bigartm-0.8.3-py3.6.egg/artm/artm_model.py\u001b[0m in \u001b[0;36mget_theta\u001b[0;34m(self, topic_names)\u001b[0m\n\u001b[1;32m    763\u001b[0m         \"\"\"\n\u001b[1;32m    764\u001b[0m         \u001b[0;32mif\u001b[0m \u001b[0mself\u001b[0m\u001b[0;34m.\u001b[0m\u001b[0mcache_theta\u001b[0m \u001b[0;32mis\u001b[0m \u001b[0;32mFalse\u001b[0m\u001b[0;34m:\u001b[0m\u001b[0;34m\u001b[0m\u001b[0m\n\u001b[0;32m--> 765\u001b[0;31m             \u001b[0;32mraise\u001b[0m \u001b[0mValueError\u001b[0m\u001b[0;34m(\u001b[0m\u001b[0;34m'cache_theta == False. Set ARTM.cache_theta = True'\u001b[0m\u001b[0;34m)\u001b[0m\u001b[0;34m\u001b[0m\u001b[0m\n\u001b[0m\u001b[1;32m    766\u001b[0m         \u001b[0;32mif\u001b[0m \u001b[0;32mnot\u001b[0m \u001b[0mself\u001b[0m\u001b[0;34m.\u001b[0m\u001b[0m_initialized\u001b[0m\u001b[0;34m:\u001b[0m\u001b[0;34m\u001b[0m\u001b[0m\n\u001b[1;32m    767\u001b[0m             \u001b[0;32mraise\u001b[0m \u001b[0mRuntimeError\u001b[0m\u001b[0;34m(\u001b[0m\u001b[0;34m'Model does not exist yet. Use ARTM.initialize()/ARTM.fit_*()'\u001b[0m\u001b[0;34m)\u001b[0m\u001b[0;34m\u001b[0m\u001b[0m\n",
      "\u001b[0;31mValueError\u001b[0m: cache_theta == False. Set ARTM.cache_theta = True"
     ]
    }
   ],
   "source": [
    "theta = model.get_theta()"
   ]
  },
  {
   "cell_type": "code",
   "execution_count": 113,
   "metadata": {},
   "outputs": [
    {
     "data": {
      "text/plain": [
       "(15, 7152)"
      ]
     },
     "execution_count": 113,
     "metadata": {},
     "output_type": "execute_result"
    }
   ],
   "source": [
    "theta.shape"
   ]
  },
  {
   "cell_type": "code",
   "execution_count": 131,
   "metadata": {},
   "outputs": [
    {
     "data": {
      "text/html": [
       "<div>\n",
       "<style>\n",
       "    .dataframe thead tr:only-child th {\n",
       "        text-align: right;\n",
       "    }\n",
       "\n",
       "    .dataframe thead th {\n",
       "        text-align: left;\n",
       "    }\n",
       "\n",
       "    .dataframe tbody tr th {\n",
       "        vertical-align: top;\n",
       "    }\n",
       "</style>\n",
       "<table border=\"1\" class=\"dataframe\">\n",
       "  <thead>\n",
       "    <tr style=\"text-align: right;\">\n",
       "      <th></th>\n",
       "      <th>7000</th>\n",
       "      <th>7001</th>\n",
       "      <th>7002</th>\n",
       "      <th>7003</th>\n",
       "      <th>7004</th>\n",
       "      <th>7005</th>\n",
       "      <th>7006</th>\n",
       "      <th>7007</th>\n",
       "      <th>7008</th>\n",
       "      <th>7009</th>\n",
       "      <th>...</th>\n",
       "      <th>990</th>\n",
       "      <th>991</th>\n",
       "      <th>992</th>\n",
       "      <th>993</th>\n",
       "      <th>994</th>\n",
       "      <th>995</th>\n",
       "      <th>996</th>\n",
       "      <th>997</th>\n",
       "      <th>998</th>\n",
       "      <th>999</th>\n",
       "    </tr>\n",
       "  </thead>\n",
       "  <tbody>\n",
       "    <tr>\n",
       "      <th>topic_0</th>\n",
       "      <td>1.064579e-08</td>\n",
       "      <td>0.016343</td>\n",
       "      <td>0.016396</td>\n",
       "      <td>2.612576e-13</td>\n",
       "      <td>0.000008</td>\n",
       "      <td>0.000000e+00</td>\n",
       "      <td>1.558372e-05</td>\n",
       "      <td>2.380647e-13</td>\n",
       "      <td>3.863394e-02</td>\n",
       "      <td>2.902150e-07</td>\n",
       "      <td>...</td>\n",
       "      <td>0.065639</td>\n",
       "      <td>0.094272</td>\n",
       "      <td>1.662597e-16</td>\n",
       "      <td>3.601266e-14</td>\n",
       "      <td>2.364834e-03</td>\n",
       "      <td>0.093658</td>\n",
       "      <td>0.103512</td>\n",
       "      <td>8.445276e-02</td>\n",
       "      <td>7.357908e-10</td>\n",
       "      <td>0.076864</td>\n",
       "    </tr>\n",
       "    <tr>\n",
       "      <th>topic_1</th>\n",
       "      <td>1.655745e-02</td>\n",
       "      <td>0.026869</td>\n",
       "      <td>0.100276</td>\n",
       "      <td>0.000000e+00</td>\n",
       "      <td>0.000048</td>\n",
       "      <td>0.000000e+00</td>\n",
       "      <td>1.341707e-06</td>\n",
       "      <td>0.000000e+00</td>\n",
       "      <td>1.725683e-10</td>\n",
       "      <td>3.288198e-05</td>\n",
       "      <td>...</td>\n",
       "      <td>0.000151</td>\n",
       "      <td>0.000192</td>\n",
       "      <td>1.306616e-14</td>\n",
       "      <td>1.359535e-13</td>\n",
       "      <td>3.117841e-01</td>\n",
       "      <td>0.129721</td>\n",
       "      <td>0.183653</td>\n",
       "      <td>1.819066e-04</td>\n",
       "      <td>1.240119e-05</td>\n",
       "      <td>0.000163</td>\n",
       "    </tr>\n",
       "    <tr>\n",
       "      <th>topic_2</th>\n",
       "      <td>3.108261e-03</td>\n",
       "      <td>0.051122</td>\n",
       "      <td>0.048592</td>\n",
       "      <td>8.850037e-02</td>\n",
       "      <td>0.000146</td>\n",
       "      <td>3.752740e-02</td>\n",
       "      <td>1.498339e-07</td>\n",
       "      <td>0.000000e+00</td>\n",
       "      <td>1.929329e-01</td>\n",
       "      <td>1.025029e-01</td>\n",
       "      <td>...</td>\n",
       "      <td>0.059456</td>\n",
       "      <td>0.090053</td>\n",
       "      <td>3.809234e-14</td>\n",
       "      <td>2.022914e-12</td>\n",
       "      <td>2.376213e-01</td>\n",
       "      <td>0.080429</td>\n",
       "      <td>0.030227</td>\n",
       "      <td>1.803914e-01</td>\n",
       "      <td>2.418172e-01</td>\n",
       "      <td>0.000007</td>\n",
       "    </tr>\n",
       "    <tr>\n",
       "      <th>topic_3</th>\n",
       "      <td>1.631913e-01</td>\n",
       "      <td>0.024010</td>\n",
       "      <td>0.000002</td>\n",
       "      <td>2.843572e-02</td>\n",
       "      <td>0.004251</td>\n",
       "      <td>3.378698e-10</td>\n",
       "      <td>2.377819e-10</td>\n",
       "      <td>0.000000e+00</td>\n",
       "      <td>6.826047e-09</td>\n",
       "      <td>8.009087e-03</td>\n",
       "      <td>...</td>\n",
       "      <td>0.022142</td>\n",
       "      <td>0.000000</td>\n",
       "      <td>0.000000e+00</td>\n",
       "      <td>0.000000e+00</td>\n",
       "      <td>3.096845e-04</td>\n",
       "      <td>0.000000</td>\n",
       "      <td>0.038159</td>\n",
       "      <td>0.000000e+00</td>\n",
       "      <td>3.103607e-07</td>\n",
       "      <td>0.000000</td>\n",
       "    </tr>\n",
       "    <tr>\n",
       "      <th>topic_4</th>\n",
       "      <td>1.308922e-01</td>\n",
       "      <td>0.189499</td>\n",
       "      <td>0.048087</td>\n",
       "      <td>2.457733e-01</td>\n",
       "      <td>0.261487</td>\n",
       "      <td>9.296674e-02</td>\n",
       "      <td>1.788642e-01</td>\n",
       "      <td>1.662689e-01</td>\n",
       "      <td>1.674984e-07</td>\n",
       "      <td>1.780744e-11</td>\n",
       "      <td>...</td>\n",
       "      <td>0.038548</td>\n",
       "      <td>0.078433</td>\n",
       "      <td>0.000000e+00</td>\n",
       "      <td>0.000000e+00</td>\n",
       "      <td>1.230266e-10</td>\n",
       "      <td>0.075731</td>\n",
       "      <td>0.020908</td>\n",
       "      <td>2.639319e-11</td>\n",
       "      <td>5.804565e-12</td>\n",
       "      <td>0.074223</td>\n",
       "    </tr>\n",
       "  </tbody>\n",
       "</table>\n",
       "<p>5 rows × 7152 columns</p>\n",
       "</div>"
      ],
      "text/plain": [
       "                 7000      7001      7002          7003      7004  \\\n",
       "topic_0  1.064579e-08  0.016343  0.016396  2.612576e-13  0.000008   \n",
       "topic_1  1.655745e-02  0.026869  0.100276  0.000000e+00  0.000048   \n",
       "topic_2  3.108261e-03  0.051122  0.048592  8.850037e-02  0.000146   \n",
       "topic_3  1.631913e-01  0.024010  0.000002  2.843572e-02  0.004251   \n",
       "topic_4  1.308922e-01  0.189499  0.048087  2.457733e-01  0.261487   \n",
       "\n",
       "                 7005          7006          7007          7008          7009  \\\n",
       "topic_0  0.000000e+00  1.558372e-05  2.380647e-13  3.863394e-02  2.902150e-07   \n",
       "topic_1  0.000000e+00  1.341707e-06  0.000000e+00  1.725683e-10  3.288198e-05   \n",
       "topic_2  3.752740e-02  1.498339e-07  0.000000e+00  1.929329e-01  1.025029e-01   \n",
       "topic_3  3.378698e-10  2.377819e-10  0.000000e+00  6.826047e-09  8.009087e-03   \n",
       "topic_4  9.296674e-02  1.788642e-01  1.662689e-01  1.674984e-07  1.780744e-11   \n",
       "\n",
       "           ...         990       991           992           993   \\\n",
       "topic_0    ...     0.065639  0.094272  1.662597e-16  3.601266e-14   \n",
       "topic_1    ...     0.000151  0.000192  1.306616e-14  1.359535e-13   \n",
       "topic_2    ...     0.059456  0.090053  3.809234e-14  2.022914e-12   \n",
       "topic_3    ...     0.022142  0.000000  0.000000e+00  0.000000e+00   \n",
       "topic_4    ...     0.038548  0.078433  0.000000e+00  0.000000e+00   \n",
       "\n",
       "                 994       995       996           997           998   \\\n",
       "topic_0  2.364834e-03  0.093658  0.103512  8.445276e-02  7.357908e-10   \n",
       "topic_1  3.117841e-01  0.129721  0.183653  1.819066e-04  1.240119e-05   \n",
       "topic_2  2.376213e-01  0.080429  0.030227  1.803914e-01  2.418172e-01   \n",
       "topic_3  3.096845e-04  0.000000  0.038159  0.000000e+00  3.103607e-07   \n",
       "topic_4  1.230266e-10  0.075731  0.020908  2.639319e-11  5.804565e-12   \n",
       "\n",
       "             999   \n",
       "topic_0  0.076864  \n",
       "topic_1  0.000163  \n",
       "topic_2  0.000007  \n",
       "topic_3  0.000000  \n",
       "topic_4  0.074223  \n",
       "\n",
       "[5 rows x 7152 columns]"
      ]
     },
     "execution_count": 131,
     "metadata": {},
     "output_type": "execute_result"
    }
   ],
   "source": [
    "theta.head()"
   ]
  },
  {
   "cell_type": "code",
   "execution_count": null,
   "metadata": {
    "collapsed": true
   },
   "outputs": [],
   "source": []
  },
  {
   "cell_type": "code",
   "execution_count": null,
   "metadata": {
    "collapsed": true
   },
   "outputs": [],
   "source": []
  },
  {
   "cell_type": "code",
   "execution_count": null,
   "metadata": {
    "collapsed": true
   },
   "outputs": [],
   "source": []
  },
  {
   "cell_type": "code",
   "execution_count": null,
   "metadata": {
    "collapsed": true
   },
   "outputs": [],
   "source": []
  },
  {
   "cell_type": "code",
   "execution_count": null,
   "metadata": {
    "collapsed": true
   },
   "outputs": [],
   "source": []
  },
  {
   "cell_type": "code",
   "execution_count": null,
   "metadata": {
    "collapsed": true
   },
   "outputs": [],
   "source": []
  },
  {
   "cell_type": "code",
   "execution_count": null,
   "metadata": {
    "collapsed": true
   },
   "outputs": [],
   "source": []
  },
  {
   "cell_type": "code",
   "execution_count": null,
   "metadata": {
    "collapsed": true
   },
   "outputs": [],
   "source": []
  },
  {
   "cell_type": "code",
   "execution_count": 87,
   "metadata": {},
   "outputs": [
    {
     "data": {
      "text/plain": [
       "3225"
      ]
     },
     "execution_count": 87,
     "metadata": {},
     "output_type": "execute_result"
    }
   ],
   "source": [
    "np.argmax(theta.loc['topic_0'])"
   ]
  },
  {
   "cell_type": "code",
   "execution_count": 137,
   "metadata": {
    "collapsed": true
   },
   "outputs": [],
   "source": [
    "ind = [len(text) > 10 for text in texts]"
   ]
  },
  {
   "cell_type": "code",
   "execution_count": 139,
   "metadata": {},
   "outputs": [
    {
     "data": {
      "text/plain": [
       "(13884, (13884,))"
      ]
     },
     "execution_count": 139,
     "metadata": {},
     "output_type": "execute_result"
    }
   ],
   "source": [
    "len(ind), data.shape"
   ]
  },
  {
   "cell_type": "code",
   "execution_count": 140,
   "metadata": {
    "collapsed": true
   },
   "outputs": [],
   "source": [
    "data2 = data[ind]"
   ]
  },
  {
   "cell_type": "code",
   "execution_count": 142,
   "metadata": {},
   "outputs": [
    {
     "data": {
      "text/plain": [
       "7298"
      ]
     },
     "execution_count": 142,
     "metadata": {},
     "output_type": "execute_result"
    }
   ],
   "source": [
    "len(data2)"
   ]
  },
  {
   "cell_type": "code",
   "execution_count": 144,
   "metadata": {},
   "outputs": [
    {
     "data": {
      "text/plain": [
       "numpy.ndarray"
      ]
     },
     "execution_count": 144,
     "metadata": {},
     "output_type": "execute_result"
    }
   ],
   "source": [
    "type(data.values)"
   ]
  },
  {
   "cell_type": "code",
   "execution_count": 145,
   "metadata": {
    "scrolled": false
   },
   "outputs": [
    {
     "name": "stdout",
     "output_type": "stream",
     "text": [
      "0 \n",
      "\tКупил данный ноутбук недавно, работает отлично. Качество сборки хорошее. Игры тянет тоже отлично... Греется несильно после пары часов игры... Не понравилось, что не было никаких драйверов в комплекте. Придется искать в интернете. В общем ноутбук очень хорошей, за такую цену для игр просто самое то, для работы тем более.\n",
      "\n",
      "1 Ноутубк весьма неплох. Железо на высоком уровне , хороший процессор,  восемь гигабайт оепративной , неплохая видеокарта и терабайт жесткого диска. В целом с мощностью начинки не поспоришь. К работе самого ноутбука тоже никаких претензий нет, все быстро и четко работает. Аккумулятор неплохой, 5 часов довольно-таки годный результат. Приятно удивила встроенная камера, во-время видеозвоноков изображения очень четкое. Дисплей и звуковая система хороши. Я вот часто сериалы смотрю на этом ноутбуке и качество звука сильно меня радует. К вай-фаю подключается легко и быстро, проблем с соединением никаких не бывало. Не очень нравится корпус ноутбука, он пластиковый, и какой то непрочный на первый взгляд, что ли. Но так остался доволен. \n",
      "2 Взял себе пару недель назад, т.к. нужно было мобильное, но мощное решение с параметрами полноценного ноута. Приятно порадовала батарея, хватает практически на день. Из минусов пока что могу отметить только  то, что толстоват. Но то, что сильно тоньше стоило сильно дороже)), поэтому покупкой доволен.\n",
      "3 Ноутбук купил два дня назад. В принципе всем доволен. Единственная ложка дегтя это то, что обнаружилась зеленая точка на экране дисплея - сразу не заметил. Скорее всего мне просто не повезло с экземпляром, но все-таки рекомендую внимательно проверять дисплей при покупке. В остальном - прекрасный аппарат.\n",
      "4 \n",
      "\tМодели этой фирмы зарекомендовали себя как износо стойкие (у меня они и падали, и заливала по нескольку раз, но все равно продолжают работать). V5 отличная модель, тонкий на сколько это возможно, удобный тачпед, хорошее видео, звук и супер вебкамера. Особенно радует цена. Из негативного только наверно не продолжительная работа аккумулятора. По равнению с нетбуком этой фирмы которые работает по 8 часов бес подзарядки.\n",
      "\n",
      "5 Выбирал себе ноутбук больше для работы, данная модель позиционируется как игровая, хотя на цене этот факт не отражается привычным максимумом, ноутбук находится в средней ценовой нише. Графический контроллер сыграл основную роль в выборе, работаю в полиграфии и качество изображения - основополагающее требование в машине. Картинка превзошла ожидания, фуллНД качество, реалистичность оттенков, контрастность, детализация, широкие углы обзора, отсутствие засветов и бликов, работать с материалом комфортно, глаза не утают, получается доводить источник до необходимого уровня качества гораздо быстрее. Мощный процессор, очень быстро заливаются всевозможные программы, не только профессиональные емкие графические редакторы, но и обновленные версии игровых новинок запускаются без проблем и подгонки настроек, повторюсь - графика отменная. По качеству без претензий, корпус алюминиевый, прочный, верхняя крышка жесткая и не прогибается под умеренным давлением, достаточно тонкий и маловесный, тактильно приятный. Клавиатура островная с подсветкой, удобная, большой и чувствительный тач, распознает мультижесты. Сильные родные динамики.\n",
      "6 Не смотря на курс доллара, ноутбук не стоит этих денег. Для серфинга в интернете более менее подойдет, но лучше уж взять планшет) Переодически отдохнуть и поиграть не получится. Драгон эйдж оригин (старая и не требовательная) тормозит и при этом начинает очень громко шуметь. Материалы корпуса тоже очень хлюпкие, люфт почти везде. Он того не стоит)\n",
      "7 Asus ну прям очень удивил выбором такого медленного жесткого диска без предустановленного модуля ssd в слот м2. Возможно покажется мелочью, но Если использовать как есть - то Ощущения работы как на очень старом и слабом компьютере на котором почему то запускается и хорошо работают современные игры, но любое открытие программы, вызов контекстного меню, открытие папок, планирование и тд вызывают невероятные задержки. Даже если готовы доплатить и самостоятельно сделать апгрэйд, Все равно есть трудности для начала использования \"из коробки\" : кроме того, что нужно докупить на 10 тыс.  память, ssd, ,охлаждающую подставку, нужно  еще перенести систему на новый ssd (иначе толку ноль) и из-за отсутствия фирменных средств переноса системы на другой жесткий диск приходится тратить время еще и на поиски решения этой задачи и это оказалось не так то просто с новым windows10.\n",
      "Обновление драйверов толком не работало, пришлось тоже вручную скачивать с сайта, в т.ч. с Nvideo . И только после этого все летает...странно получать ощущение самоделкина при покупке якобы готового игрового (это же ROG!?) ноутбука. Не буду рекомендовать покупать его...\n",
      "8 Крутанский ноутбук, правильно все сбалансировано - экран средний по размеру, это сказалось на весе и общем размере ноутбука (мне не хотелось огромного, тяжелого ноутбука, ведь я не дома с ним сижу, а таскаю с собой и на отдых и по работе по филиалам), процессор нехилый, серьезная видеокарта, да и контроллер графический достойный. 2 серьезных динамика, с ними любой нормально записанный ролик или фильм даже на онлайн-ресурсе, которые часто выкладываются сразу после премьеры, и, собственно, не слишком тщательно проверяются на звук (да и на картинку) звучат хорошо.\n",
      "9 Ноут с долгоиграющей батареей, практически не греется, экран с нормальной графикой плюс звук громкий, динамики музыку воспроизводят громко и качественно. Ловит интернетовскую сеть без проблем, с домашним вифи чуть получше справляется, но и со стандартным стиком неплохо себя ведет, на даче ловлю три-джи и все нормуль, скорости хватает, чтобы в интернете полазить, но торренты лучше загружать уже дома, скорость на стике слабенькая, как не крути. Не сильно маркий, в том числе экран пальцами быстро не заляпывается, так что любителям чистоты подойдет как раз. Приятно еще, что бук маловесный, плюс-минус полтора кило, вес не обременяет, если его подолгу носить с собой. В целом - производительная четырехъядерная машина, для несложных задач по типу ворда, экселя и интернета - самое то!\n",
      "10 \n",
      "\tПокупала по акции со скидкой. Вполне довольна аппаратом. HP уже две недели пользуюсь, так вот он просто сказка, в инете летает ни че не тормозит, слава Богу, и играю и видео смотрю и у интернете сижу и работаю на нем. Смущало при покупке, что глянцевый, тк очень маркий, но это не беда, стараюсь его лишнии раз не трогать там где не надо. В целом аппарат отличный за такие деньги. Не шумит, да и без зарядки где то часа 3-4 батарею держит. Всем советую!)\n",
      "\n",
      "11 Купил пару месяцев назад. Ноут довольно не плохой.\n",
      "Из минусов:\n",
      "- сильно греется на требовательных играх\n",
      "- тормозит хард\n",
      "- сильно бликует экран\n",
      "Из плюсов:\n",
      "- тянет игрухи на высоких настройках\n",
      "- воспроизведение фильмов через HDMI от батареи - около 3,5-4 часов.\n",
      "Я покупкой доволен, хотя брал ноут для просмотра фильмов, мобильности и редких игр в Warplanes. )))\n",
      "- цена вполне приемлема\n",
      "12 Потянет ли программу для монтажа видео Soni Vegas Pro????ОТВЕТ ЭКСПЕРТА «М.ВИДЕО»???Даниил, Вы сможете запустить эту программу, но для комфортной работы с ней рекомендую рассмотреть более производительный ноутбук. \n",
      "13  С вылетом видеодрайвера решил проблему. Отключил в общем то бесполезную функцию powermizer у видеокарты. \n",
      " Т.к. в семёрке в панели нвидиа нет отключения этой функции, отключал через программу powermizer switch. Больше проблем не возникало.\n",
      " А драйвера на ноутбуки тот же н-видиа рекомендует ставить с сайтов производителей, потому что они могут быть специально адаптированы.\n",
      "14 Если вы хотите приобрести этот ультрабук, то хорошо подумайте, как вы будете им пользоваться. Если вы студент вы можете его взять для очень сложных вычислительных задач. Но эти мощности больше нужны для бизнеса, а именно для торгового представителя. Я долго рассматривал профессии и нашел только несколько людей кому этот ноутбук будет просто необходим. 1) Это бизнесмен, имеющий несколько магазинов, и которому нужно мониторить их работу (могут быть не только магазины, а любые рабочие зоны) \n",
      "2) Парикмахер, не знаю почему именно парикмахер, может быть потому, что людям давно уже поднадоели планшеты их неудобство, и хочется чего то большего и парикмахер это один из тех людей кому этот ультрабук необходим. \n",
      "3) Веб дизайнер. странный на ваш взгляд выбор, но все же. почему бы нет. \n",
      "4) графический дизайнер. Да вы наверное скажете что 13 дюймов так мало для графического дизайнера, может быть, но железо стоящее. \n",
      "5) студент инжинер.  \n"
     ]
    }
   ],
   "source": [
    "for i in range(15):\n",
    "    j = np.argmax(theta.loc['topic_' + str(i)])\n",
    "    print(i, data2.values[j])"
   ]
  },
  {
   "cell_type": "code",
   "execution_count": 66,
   "metadata": {
    "collapsed": true
   },
   "outputs": [],
   "source": [
    "ser = theta.apply(lambda array: np.argmax(array), raw=True)"
   ]
  },
  {
   "cell_type": "code",
   "execution_count": 67,
   "metadata": {
    "collapsed": true
   },
   "outputs": [],
   "source": [
    "ind = np.array(ser[ser == 3].index)"
   ]
  },
  {
   "cell_type": "code",
   "execution_count": null,
   "metadata": {
    "collapsed": true
   },
   "outputs": [],
   "source": [
    "b = np.cumsum(ind)"
   ]
  },
  {
   "cell_type": "code",
   "execution_count": 68,
   "metadata": {},
   "outputs": [
    {
     "name": "stdout",
     "output_type": "stream",
     "text": [
      "0 1421\n",
      "1 956\n",
      "2 743\n",
      "3 515\n",
      "4 703\n",
      "5 849\n",
      "6 728\n",
      "7 497\n",
      "8 2184\n",
      "9 499\n",
      "10 673\n",
      "11 1554\n",
      "12 861\n",
      "13 752\n",
      "14 949\n"
     ]
    }
   ],
   "source": [
    "for i in range(15):\n",
    "    print(i, sum(ser == i))"
   ]
  },
  {
   "cell_type": "markdown",
   "metadata": {},
   "source": [
    "## Вероятности"
   ]
  },
  {
   "cell_type": "code",
   "execution_count": 90,
   "metadata": {
    "collapsed": true
   },
   "outputs": [],
   "source": [
    "phi = model.get_phi(model_name=model.model_pwt)"
   ]
  },
  {
   "cell_type": "code",
   "execution_count": 91,
   "metadata": {},
   "outputs": [
    {
     "data": {
      "text/html": [
       "<div>\n",
       "<style>\n",
       "    .dataframe thead tr:only-child th {\n",
       "        text-align: right;\n",
       "    }\n",
       "\n",
       "    .dataframe thead th {\n",
       "        text-align: left;\n",
       "    }\n",
       "\n",
       "    .dataframe tbody tr th {\n",
       "        vertical-align: top;\n",
       "    }\n",
       "</style>\n",
       "<table border=\"1\" class=\"dataframe\">\n",
       "  <thead>\n",
       "    <tr style=\"text-align: right;\">\n",
       "      <th></th>\n",
       "      <th>topic_0</th>\n",
       "      <th>topic_1</th>\n",
       "      <th>topic_2</th>\n",
       "      <th>topic_3</th>\n",
       "      <th>topic_4</th>\n",
       "      <th>topic_5</th>\n",
       "      <th>topic_6</th>\n",
       "      <th>topic_7</th>\n",
       "      <th>topic_8</th>\n",
       "      <th>topic_9</th>\n",
       "      <th>topic_10</th>\n",
       "      <th>topic_11</th>\n",
       "      <th>topic_12</th>\n",
       "      <th>topic_13</th>\n",
       "      <th>topic_14</th>\n",
       "    </tr>\n",
       "  </thead>\n",
       "  <tbody>\n",
       "    <tr>\n",
       "      <th>видео</th>\n",
       "      <td>0.000111</td>\n",
       "      <td>0.001450</td>\n",
       "      <td>0.004140</td>\n",
       "      <td>0.006496</td>\n",
       "      <td>0.000213</td>\n",
       "      <td>0.005506</td>\n",
       "      <td>0.000822</td>\n",
       "      <td>0.000153</td>\n",
       "      <td>0.097396</td>\n",
       "      <td>0.003780</td>\n",
       "      <td>0.000157</td>\n",
       "      <td>0.000873</td>\n",
       "      <td>0.000141</td>\n",
       "      <td>2.521299e-02</td>\n",
       "      <td>0.004909</td>\n",
       "    </tr>\n",
       "    <tr>\n",
       "      <th>видеокарта</th>\n",
       "      <td>0.000026</td>\n",
       "      <td>0.000037</td>\n",
       "      <td>0.002835</td>\n",
       "      <td>0.002801</td>\n",
       "      <td>0.000574</td>\n",
       "      <td>0.000061</td>\n",
       "      <td>0.015297</td>\n",
       "      <td>0.008671</td>\n",
       "      <td>0.026669</td>\n",
       "      <td>0.000013</td>\n",
       "      <td>0.003193</td>\n",
       "      <td>0.000386</td>\n",
       "      <td>0.009675</td>\n",
       "      <td>2.165271e-04</td>\n",
       "      <td>0.036299</td>\n",
       "    </tr>\n",
       "    <tr>\n",
       "      <th>клавиатура</th>\n",
       "      <td>0.004107</td>\n",
       "      <td>0.000866</td>\n",
       "      <td>0.000149</td>\n",
       "      <td>0.007316</td>\n",
       "      <td>0.007805</td>\n",
       "      <td>0.002512</td>\n",
       "      <td>0.002736</td>\n",
       "      <td>0.001029</td>\n",
       "      <td>0.000469</td>\n",
       "      <td>0.001917</td>\n",
       "      <td>0.008150</td>\n",
       "      <td>0.084787</td>\n",
       "      <td>0.000125</td>\n",
       "      <td>6.231651e-07</td>\n",
       "      <td>0.000141</td>\n",
       "    </tr>\n",
       "    <tr>\n",
       "      <th>просмотр</th>\n",
       "      <td>0.005526</td>\n",
       "      <td>0.013243</td>\n",
       "      <td>0.000064</td>\n",
       "      <td>0.000553</td>\n",
       "      <td>0.000742</td>\n",
       "      <td>0.002852</td>\n",
       "      <td>0.015588</td>\n",
       "      <td>0.000008</td>\n",
       "      <td>0.001707</td>\n",
       "      <td>0.000018</td>\n",
       "      <td>0.000039</td>\n",
       "      <td>0.000060</td>\n",
       "      <td>0.000003</td>\n",
       "      <td>1.307817e-03</td>\n",
       "      <td>0.000229</td>\n",
       "    </tr>\n",
       "    <tr>\n",
       "      <th>работа</th>\n",
       "      <td>0.166756</td>\n",
       "      <td>0.037659</td>\n",
       "      <td>0.003098</td>\n",
       "      <td>0.001385</td>\n",
       "      <td>0.001675</td>\n",
       "      <td>0.016100</td>\n",
       "      <td>0.003791</td>\n",
       "      <td>0.000256</td>\n",
       "      <td>0.000020</td>\n",
       "      <td>0.000290</td>\n",
       "      <td>0.000492</td>\n",
       "      <td>0.004566</td>\n",
       "      <td>0.000753</td>\n",
       "      <td>2.434660e-03</td>\n",
       "      <td>0.000066</td>\n",
       "    </tr>\n",
       "  </tbody>\n",
       "</table>\n",
       "</div>"
      ],
      "text/plain": [
       "             topic_0   topic_1   topic_2   topic_3   topic_4   topic_5  \\\n",
       "видео       0.000111  0.001450  0.004140  0.006496  0.000213  0.005506   \n",
       "видеокарта  0.000026  0.000037  0.002835  0.002801  0.000574  0.000061   \n",
       "клавиатура  0.004107  0.000866  0.000149  0.007316  0.007805  0.002512   \n",
       "просмотр    0.005526  0.013243  0.000064  0.000553  0.000742  0.002852   \n",
       "работа      0.166756  0.037659  0.003098  0.001385  0.001675  0.016100   \n",
       "\n",
       "             topic_6   topic_7   topic_8   topic_9  topic_10  topic_11  \\\n",
       "видео       0.000822  0.000153  0.097396  0.003780  0.000157  0.000873   \n",
       "видеокарта  0.015297  0.008671  0.026669  0.000013  0.003193  0.000386   \n",
       "клавиатура  0.002736  0.001029  0.000469  0.001917  0.008150  0.084787   \n",
       "просмотр    0.015588  0.000008  0.001707  0.000018  0.000039  0.000060   \n",
       "работа      0.003791  0.000256  0.000020  0.000290  0.000492  0.004566   \n",
       "\n",
       "            topic_12      topic_13  topic_14  \n",
       "видео       0.000141  2.521299e-02  0.004909  \n",
       "видеокарта  0.009675  2.165271e-04  0.036299  \n",
       "клавиатура  0.000125  6.231651e-07  0.000141  \n",
       "просмотр    0.000003  1.307817e-03  0.000229  \n",
       "работа      0.000753  2.434660e-03  0.000066  "
      ]
     },
     "execution_count": 91,
     "metadata": {},
     "output_type": "execute_result"
    }
   ],
   "source": [
    "phi.head()"
   ]
  },
  {
   "cell_type": "code",
   "execution_count": 5,
   "metadata": {},
   "outputs": [],
   "source": [
    "import pickle\n",
    "with open('phi.pickle', 'rb') as f:\n",
    "#     phi = pickle.load(f)\n",
    "    phi = pd.read_pickle(f)"
   ]
  },
  {
   "cell_type": "code",
   "execution_count": 6,
   "metadata": {},
   "outputs": [
    {
     "data": {
      "text/plain": [
       "(8385, 15)"
      ]
     },
     "execution_count": 6,
     "metadata": {},
     "output_type": "execute_result"
    }
   ],
   "source": [
    "phi.shape"
   ]
  },
  {
   "cell_type": "code",
   "execution_count": 8,
   "metadata": {
    "collapsed": true
   },
   "outputs": [],
   "source": [
    "from pymystem3 import Mystem\n",
    "m = Mystem()\n",
    "def normalize_text(text):\n",
    "    text_normalized = []\n",
    "    analysis = m.analyze(text)\n",
    "    for word in analysis:\n",
    "        if 'analysis' in word:\n",
    "            if len(word['analysis']):\n",
    "                word_norm = word['analysis'][0]['lex']\n",
    "                form = word['analysis'][0]['gr'].split('=')[0].split(',')[0]\n",
    "                if form == 'S':\n",
    "                    text_normalized.append(word_norm)\n",
    "    return text_normalized"
   ]
  },
  {
   "cell_type": "code",
   "execution_count": 9,
   "metadata": {
    "collapsed": true
   },
   "outputs": [],
   "source": [
    "from stop_words import get_stop_words\n",
    "stop_words = get_stop_words('russian')"
   ]
  },
  {
   "cell_type": "code",
   "execution_count": 10,
   "metadata": {
    "collapsed": true
   },
   "outputs": [],
   "source": [
    "from nltk.tokenize import sent_tokenize"
   ]
  },
  {
   "cell_type": "code",
   "execution_count": 11,
   "metadata": {},
   "outputs": [],
   "source": [
    "def normalize_data(data, verbose=True):\n",
    "    data = data.fillna('')\n",
    "    comments = np.array(data['TEXT'] + data['BENEFITS'] + data['DRAWBACKS'])\n",
    "    norm_comments = []\n",
    "    for i, comment in enumerate(comments):\n",
    "        norm_comments_text = []\n",
    "        comment_sen = sent_tokenize(comment)\n",
    "        for sen in comment_sen:\n",
    "            text = normalize_text(sen)\n",
    "            norm_comments_text.append(' '.join([t for t in text if t not in stop_words]))\n",
    "            if verbose and i % 1000 == 0:\n",
    "                print(i, end=' ')\n",
    "        norm_comments.append(norm_comments_text)\n",
    "    return norm_comments"
   ]
  },
  {
   "cell_type": "code",
   "execution_count": 12,
   "metadata": {},
   "outputs": [],
   "source": [
    "def simil(sen):\n",
    "    topic_prob = []\n",
    "    for topic in phi.columns:\n",
    "        topic_sum = 0\n",
    "        for word in sen.split():\n",
    "            if word in phi.index:\n",
    "                topic_sum += phi[topic].loc[word]\n",
    "        if len(sen.split()):\n",
    "            topic_sum /= len(sen.split())\n",
    "        topic_prob.append((topic, topic_sum))\n",
    "    return topic_prob"
   ]
  },
  {
   "cell_type": "code",
   "execution_count": 13,
   "metadata": {},
   "outputs": [
    {
     "name": "stdout",
     "output_type": "stream",
     "text": [
      "достоинство режим просмотр режим звучание формат картинка\n",
      "('topic_4', 0.039445017065320699)\n",
      "настройка подключение ноутбук\n",
      "('topic_9', 0.052327096462249756)\n",
      "настройка качество изображение тв\n",
      "('topic_9', 0.039245322346687317)\n",
      "фильм интернет ноутбук телек качество размытость ноут\n",
      "('topic_1', 0.015941552285637175)\n",
      "\n",
      "\n",
      "изображение экран светильник телевизор свет комната изображение угол обзор\n",
      "минус пульт\n",
      "('topic_9', 0.094934470951557159)\n",
      "таблица номер канал полэкран список программа\n",
      "('topic_14', 0.027705377899110317)\n",
      "пульт кнопка просмотр таймер отключение меню настройка телевизор включение\n",
      "('topic_9', 0.01757494736618052)\n",
      "канал\n",
      "отзыв телевизор минус большинство сравнение достоинство\n",
      "('topic_9', 0.031644823650519051)\n",
      "телевизор категория\n"
     ]
    }
   ],
   "source": [
    "for i, product in enumerate(df1.groupby('PRODUCT')):\n",
    "    if i == 700:\n",
    "        norm_product = normalize_data(product[1], verbose=False)\n",
    "        for i, text in enumerate(norm_product):\n",
    "            for j, sen in enumerate(text):\n",
    "                topic_prob = sorted(simil(sen), key=lambda x: -x[1])\n",
    "#                 print(sent_tokenize(product[1].iloc[i].TEXT)[j])\n",
    "                print(sen)\n",
    "                if topic_prob[0][1] > 0.01:\n",
    "                    print(topic_prob[0])\n",
    "#                 if topic_prob[0][1] > 0.01 and len(sent_tokenize(product[1].iloc[i].TEXT)[j].split()) > 7:\n",
    "#                     print(\"GOOOOOOOOOOOOOOOOOOOOOOOOOOOOOOOOOOOOOOOOOOOOOOOOOOOOOOOOOOOOOOOOOOOOOOOOOOOOOOOOOOOOOD\")\n",
    "        break"
   ]
  },
  {
   "cell_type": "code",
   "execution_count": 15,
   "metadata": {},
   "outputs": [
    {
     "name": "stdout",
     "output_type": "stream",
     "text": [
      "проблема         0.106858\n",
      "время            0.094611\n",
      "интернет         0.074915\n",
      "фильм            0.036676\n",
      "раз              0.034124\n",
      "учеба            0.026858\n",
      "задача           0.023905\n",
      "просмотр         0.021741\n",
      "офис             0.015420\n",
      "серфинг          0.014682\n",
      "браузер          0.012820\n",
      "игрушка          0.012548\n",
      "документ         0.012352\n",
      "вариант          0.010769\n",
      "сеть             0.009979\n",
      "приложение       0.009946\n",
      "файл             0.009554\n",
      "пара             0.009396\n",
      "принцип          0.007894\n",
      "дом              0.007191\n",
      "использование    0.007095\n",
      "сын              0.006911\n",
      "вкладка          0.006747\n",
      "цель             0.006256\n",
      "ребенок          0.006054\n",
      "зарядка          0.005944\n",
      "скорость         0.005918\n",
      "музыка           0.005871\n",
      "страница         0.005800\n",
      "скайп            0.005765\n",
      "                   ...   \n",
      "тупик            0.000000\n",
      "консерватория    0.000000\n",
      "эмблема          0.000000\n",
      "полноразмрная    0.000000\n",
      "гпу              0.000000\n",
      "логотип          0.000000\n",
      "парочка          0.000000\n",
      "армкте           0.000000\n",
      "дримвейвер       0.000000\n",
      "шопинг           0.000000\n",
      "шестерка         0.000000\n",
      "шлифовка         0.000000\n",
      "солнышко         0.000000\n",
      "анимешек         0.000000\n",
      "замедление       0.000000\n",
      "кипение          0.000000\n",
      "кста             0.000000\n",
      "отстутвие        0.000000\n",
      "прибавление      0.000000\n",
      "свалка           0.000000\n",
      "перезарядка      0.000000\n",
      "понт             0.000000\n",
      "открывание       0.000000\n",
      "телек            0.000000\n",
      "свид             0.000000\n",
      "ставт            0.000000\n",
      "подвох           0.000000\n",
      "особенностия     0.000000\n",
      "вентрешетка      0.000000\n",
      "игроман          0.000000\n",
      "Name: topic_1, Length: 8385, dtype: float32\n",
      "час               0.174951\n",
      "год               0.123652\n",
      "батарея           0.117952\n",
      "аккумулятор       0.054254\n",
      "нетбук            0.040132\n",
      "зарядка           0.028232\n",
      "заряд             0.028150\n",
      "сеть              0.017246\n",
      "фильм             0.013177\n",
      "яркость           0.012629\n",
      "просмотр          0.010845\n",
      "подзарядка        0.009967\n",
      "поездка           0.009822\n",
      "пользование       0.009651\n",
      "часы              0.009024\n",
      "розетка           0.008868\n",
      "батарейка         0.007863\n",
      "вес               0.006530\n",
      "удовольствие      0.006265\n",
      "минута            0.006099\n",
      "недостаток        0.005857\n",
      "аккум             0.005701\n",
      "автономность      0.005670\n",
      "размер            0.005186\n",
      "емкость           0.004953\n",
      "минимум           0.004582\n",
      "использование     0.004477\n",
      "вход              0.004463\n",
      "инет              0.004207\n",
      "энергия           0.004022\n",
      "                    ...   \n",
      "смайт             0.000000\n",
      "твич              0.000000\n",
      "подъезд           0.000000\n",
      "ток               0.000000\n",
      "поюзер            0.000000\n",
      "боевик            0.000000\n",
      "затир             0.000000\n",
      "кипятильник       0.000000\n",
      "мат               0.000000\n",
      "помощник          0.000000\n",
      "герцовка          0.000000\n",
      "пресня            0.000000\n",
      "пач               0.000000\n",
      "бум               0.000000\n",
      "гигант            0.000000\n",
      "макс              0.000000\n",
      "карда             0.000000\n",
      "параметр          0.000000\n",
      "топор             0.000000\n",
      "тревога           0.000000\n",
      "миккимаус         0.000000\n",
      "холивар           0.000000\n",
      "доказательство    0.000000\n",
      "ночинка           0.000000\n",
      "роберт            0.000000\n",
      "узор              0.000000\n",
      "темп              0.000000\n",
      "клязьма           0.000000\n",
      "пересылка         0.000000\n",
      "игроман           0.000000\n",
      "Name: topic_2, Length: 8385, dtype: float32\n",
      "модель                0.140346\n",
      "цена                  0.127530\n",
      "качество              0.074426\n",
      "выбор                 0.031971\n",
      "характеристика        0.029050\n",
      "производительность    0.022630\n",
      "дизайн                0.020762\n",
      "соотношение           0.017900\n",
      "сборка                0.017782\n",
      "фирма                 0.016855\n",
      "начинка               0.010613\n",
      "вариант               0.010453\n",
      "производитель         0.009427\n",
      "целое                 0.009087\n",
      "раз                   0.009047\n",
      "отзыв                 0.008680\n",
      "магазин               0.008641\n",
      "железо                0.008567\n",
      "внимание              0.007742\n",
      "сравнение             0.007716\n",
      "опыт                  0.007606\n",
      "параметр              0.007451\n",
      "человек               0.007294\n",
      "техника               0.006731\n",
      "взгляд                0.006731\n",
      "момент                0.006549\n",
      "бренд                 0.006541\n",
      "итог                  0.006502\n",
      "товар                 0.006271\n",
      "монитор               0.005745\n",
      "                        ...   \n",
      "ток                   0.000000\n",
      "подъезд               0.000000\n",
      "парочка               0.000000\n",
      "армкте                0.000000\n",
      "дримвейвер            0.000000\n",
      "шопинг                0.000000\n",
      "шестерка              0.000000\n",
      "шлифовка              0.000000\n",
      "солнышко              0.000000\n",
      "анимешек              0.000000\n",
      "замедление            0.000000\n",
      "кипение               0.000000\n",
      "кста                  0.000000\n",
      "отстутвие             0.000000\n",
      "прибавление           0.000000\n",
      "свалка                0.000000\n",
      "перезарядка           0.000000\n",
      "понт                  0.000000\n",
      "фрутилупс             0.000000\n",
      "открывание            0.000000\n",
      "телек                 0.000000\n",
      "свид                  0.000000\n",
      "ставт                 0.000000\n",
      "подвох                0.000000\n",
      "особенностия          0.000000\n",
      "вентрешетка           0.000000\n",
      "консерватория         0.000000\n",
      "тупик                 0.000000\n",
      "твич                  0.000000\n",
      "игроман               0.000000\n",
      "Name: topic_3, Length: 8385, dtype: float32\n",
      "режим            0.138058\n",
      "охлаждение       0.079905\n",
      "градус           0.042795\n",
      "температура      0.042284\n",
      "система          0.025724\n",
      "нагрузка         0.016244\n",
      "кулер            0.015539\n",
      "блютус           0.013954\n",
      "остальное        0.013290\n",
      "причина          0.012428\n",
      "перегрев         0.012335\n",
      "воздух           0.012308\n",
      "гнездо           0.012051\n",
      "отверстие        0.011840\n",
      "серия            0.009194\n",
      "выход            0.008523\n",
      "стол             0.008354\n",
      "ресурс           0.008091\n",
      "проц             0.007179\n",
      "факт             0.006928\n",
      "ряд              0.006911\n",
      "штекер           0.006554\n",
      "колено           0.006177\n",
      "вино             0.006001\n",
      "спецификация     0.005708\n",
      "текстура         0.005708\n",
      "аудио            0.005643\n",
      "диван            0.005504\n",
      "монитор          0.005372\n",
      "пример           0.005201\n",
      "                   ...   \n",
      "поюзер           0.000000\n",
      "тфу              0.000000\n",
      "дримвейвер       0.000000\n",
      "шопинг           0.000000\n",
      "шестерка         0.000000\n",
      "шлифовка         0.000000\n",
      "солнышко         0.000000\n",
      "анимешек         0.000000\n",
      "замедление       0.000000\n",
      "кипение          0.000000\n",
      "кста             0.000000\n",
      "отстутвие        0.000000\n",
      "прибавление      0.000000\n",
      "свалка           0.000000\n",
      "перезарядка      0.000000\n",
      "понт             0.000000\n",
      "фрутилупс        0.000000\n",
      "открывание       0.000000\n",
      "телек            0.000000\n",
      "свид             0.000000\n",
      "ставт            0.000000\n",
      "подвох           0.000000\n",
      "особенностия     0.000000\n",
      "вентрешетка      0.000000\n",
      "консерватория    0.000000\n",
      "тупик            0.000000\n",
      "твич             0.000000\n",
      "подъезд          0.000000\n",
      "ток              0.000000\n",
      "сад              0.000000\n",
      "Name: topic_4, Length: 8385, dtype: float32\n",
      "картинка         0.045126\n",
      "разрешение       0.040758\n",
      "дисплей          0.027919\n",
      "клава            0.023829\n",
      "палец            0.019595\n",
      "мышка            0.019582\n",
      "дело             0.016432\n",
      "предел           0.015665\n",
      "отпечаток        0.015011\n",
      "цветопередача    0.013747\n",
      "тач              0.012719\n",
      "мощь             0.012358\n",
      "уровень          0.010975\n",
      "мышь             0.010971\n",
      "точка            0.010840\n",
      "лаг              0.010720\n",
      "конкурент        0.010408\n",
      "детализация      0.009957\n",
      "графика          0.009001\n",
      "пад              0.008280\n",
      "блик             0.008227\n",
      "диагональ        0.007791\n",
      "телевизор        0.007565\n",
      "прога            0.007171\n",
      "вечер            0.007044\n",
      "передача         0.006839\n",
      "привычка         0.006614\n",
      "инет             0.006614\n",
      "вещь             0.006574\n",
      "класс            0.006483\n",
      "                   ...   \n",
      "ставт            0.000000\n",
      "свид             0.000000\n",
      "мера             0.000000\n",
      "озыв             0.000000\n",
      "робот            0.000000\n",
      "поюзав           0.000000\n",
      "дизай            0.000000\n",
      "знак             0.000000\n",
      "эмблема          0.000000\n",
      "полноразмрная    0.000000\n",
      "гпу              0.000000\n",
      "логотип          0.000000\n",
      "парочка          0.000000\n",
      "армкте           0.000000\n",
      "дримвейвер       0.000000\n",
      "шопинг           0.000000\n",
      "шестерка         0.000000\n",
      "шлифовка         0.000000\n",
      "анимешек         0.000000\n",
      "замедление       0.000000\n",
      "кипение          0.000000\n",
      "кста             0.000000\n",
      "отстутвие        0.000000\n",
      "прибавление      0.000000\n",
      "свалка           0.000000\n",
      "перезарядка      0.000000\n",
      "фрутилупс        0.000000\n",
      "открывание       0.000000\n",
      "телек            0.000000\n",
      "сад              0.000000\n",
      "Name: topic_5, Length: 8385, dtype: float32\n",
      "планшет          0.061670\n",
      "устройство       0.058783\n",
      "трансформер      0.058473\n",
      "техника          0.014368\n",
      "человек          0.013541\n",
      "презентация      0.012582\n",
      "возможность      0.012545\n",
      "рука             0.012416\n",
      "компания         0.012384\n",
      "друг             0.010587\n",
      "чудо             0.010161\n",
      "жизнь            0.010054\n",
      "использование    0.009728\n",
      "сенсор           0.008250\n",
      "вес              0.007702\n",
      "преимущество     0.007528\n",
      "мир              0.007077\n",
      "решение          0.006833\n",
      "помощник         0.006806\n",
      "пользователь     0.006806\n",
      "технология       0.006484\n",
      "вещь             0.006369\n",
      "место            0.006137\n",
      "функция          0.006081\n",
      "удобство         0.006013\n",
      "вид              0.005923\n",
      "гаджет           0.005763\n",
      "дорога           0.005739\n",
      "мобильность      0.005648\n",
      "мечта            0.005310\n",
      "                   ...   \n",
      "государство      0.000000\n",
      "ленов            0.000000\n",
      "корея            0.000000\n",
      "тапа             0.000000\n",
      "повреждение      0.000000\n",
      "мил              0.000000\n",
      "спрей            0.000000\n",
      "закрывание       0.000000\n",
      "китаец           0.000000\n",
      "ресурсо          0.000000\n",
      "губа             0.000000\n",
      "подзярдки        0.000000\n",
      "крах             0.000000\n",
      "корпорация       0.000000\n",
      "шипито           0.000000\n",
      "вилка            0.000000\n",
      "перекидывание    0.000000\n",
      "серсив           0.000000\n",
      "твердотел        0.000000\n",
      "опенок           0.000000\n",
      "разумение        0.000000\n",
      "коэффициэнт      0.000000\n",
      "боковина         0.000000\n",
      "игро             0.000000\n",
      "уловка           0.000000\n",
      "трэкпад          0.000000\n",
      "нагревание       0.000000\n",
      "верстальщик      0.000000\n",
      "вартандер        0.000000\n",
      "игроман          0.000000\n",
      "Name: topic_6, Length: 8385, dtype: float32\n",
      "звук              0.205664\n",
      "покупка           0.153324\n",
      "динамика          0.053336\n",
      "камера            0.053317\n",
      "микрофон          0.029868\n",
      "динамик           0.029299\n",
      "колонка           0.028019\n",
      "музыка            0.022100\n",
      "друг              0.020747\n",
      "веб               0.016789\n",
      "наушники          0.015871\n",
      "скайп             0.015473\n",
      "наушник           0.012933\n",
      "громкость         0.012738\n",
      "изображение       0.012626\n",
      "звучание          0.009103\n",
      "фильм             0.008423\n",
      "дизайн            0.008215\n",
      "норма             0.005871\n",
      "прослушивание     0.005547\n",
      "удовольствие      0.004894\n",
      "цвет              0.004447\n",
      "ухо               0.004408\n",
      "удивление         0.004248\n",
      "гегабайт          0.004125\n",
      "подключение       0.004086\n",
      "глюк              0.003933\n",
      "ультра            0.003922\n",
      "функция           0.003804\n",
      "разъем            0.003793\n",
      "                    ...   \n",
      "доказательство    0.000000\n",
      "холивар           0.000000\n",
      "подвох            0.000000\n",
      "особенностия      0.000000\n",
      "вентрешетка       0.000000\n",
      "консерватория     0.000000\n",
      "тупик             0.000000\n",
      "твич              0.000000\n",
      "подъезд           0.000000\n",
      "ток               0.000000\n",
      "тфу               0.000000\n",
      "поюзер            0.000000\n",
      "боевик            0.000000\n",
      "улица             0.000000\n",
      "затир             0.000000\n",
      "кипятильник       0.000000\n",
      "мат               0.000000\n",
      "помощник          0.000000\n",
      "герцовка          0.000000\n",
      "пресня            0.000000\n",
      "пач               0.000000\n",
      "бум               0.000000\n",
      "смайт             0.000000\n",
      "гигант            0.000000\n",
      "карда             0.000000\n",
      "топор             0.000000\n",
      "тревога           0.000000\n",
      "миккимаус         0.000000\n",
      "видеофайл         0.000000\n",
      "сад               0.000000\n",
      "Name: topic_7, Length: 8385, dtype: float32\n",
      "машина            0.129428\n",
      "загрузка          0.053750\n",
      "пиксел            0.021622\n",
      "асус              0.021492\n",
      "операционка       0.018657\n",
      "дефект            0.017197\n",
      "голова            0.016985\n",
      "засвет            0.014180\n",
      "зверь             0.013092\n",
      "сын               0.011593\n",
      "агрегат           0.009636\n",
      "открытие          0.009317\n",
      "восьмерка         0.008718\n",
      "папка             0.008478\n",
      "игрушка           0.008255\n",
      "скорость          0.007763\n",
      "область           0.007606\n",
      "ядро              0.007318\n",
      "команда           0.007103\n",
      "минута            0.006709\n",
      "монстр            0.006587\n",
      "эксплуатация      0.006056\n",
      "линейка           0.005905\n",
      "кайф              0.005865\n",
      "причина           0.005846\n",
      "хлам              0.005820\n",
      "март              0.005732\n",
      "тестирование      0.005732\n",
      "косяк             0.005617\n",
      "город             0.005469\n",
      "                    ...   \n",
      "роберт            0.000000\n",
      "ночинка           0.000000\n",
      "особенностия      0.000000\n",
      "вентрешетка       0.000000\n",
      "консерватория     0.000000\n",
      "тупик             0.000000\n",
      "твич              0.000000\n",
      "подъезд           0.000000\n",
      "ток               0.000000\n",
      "тфу               0.000000\n",
      "поюзер            0.000000\n",
      "боевик            0.000000\n",
      "затир             0.000000\n",
      "кипятильник       0.000000\n",
      "мат               0.000000\n",
      "помощник          0.000000\n",
      "герцовка          0.000000\n",
      "пресня            0.000000\n",
      "пач               0.000000\n",
      "бум               0.000000\n",
      "смайт             0.000000\n",
      "гигант            0.000000\n",
      "карда             0.000000\n",
      "топор             0.000000\n",
      "тревога           0.000000\n",
      "миккимаус         0.000000\n",
      "видеофайл         0.000000\n",
      "холивар           0.000000\n",
      "доказательство    0.000000\n",
      "сад               0.000000\n",
      "Name: topic_8, Length: 8385, dtype: float32\n",
      "видео             0.199405\n",
      "минус             0.189869\n",
      "настройка         0.156981\n",
      "ответ             0.049760\n",
      "эксперт           0.047681\n",
      "плюс              0.042886\n",
      "график            0.041484\n",
      "требование        0.016072\n",
      "кадр              0.012348\n",
      "сайт              0.009688\n",
      "карта             0.009040\n",
      "фпс               0.008691\n",
      "вопрос            0.007545\n",
      "частота           0.007130\n",
      "спасибо           0.007057\n",
      "производитель     0.007020\n",
      "запуск            0.006581\n",
      "характеристика    0.006494\n",
      "тест              0.004372\n",
      "секунда           0.004170\n",
      "александр         0.004035\n",
      "го                0.004027\n",
      "ведьмак           0.004019\n",
      "гта               0.003956\n",
      "лаг               0.003876\n",
      "категория         0.003795\n",
      "графика           0.003586\n",
      "внимание          0.003547\n",
      "кадры             0.003546\n",
      "кс                0.003157\n",
      "                    ...   \n",
      "аленварь          0.000000\n",
      "миккимаус         0.000000\n",
      "видеофайл         0.000000\n",
      "холивар           0.000000\n",
      "доказательство    0.000000\n",
      "ночинка           0.000000\n",
      "роберт            0.000000\n",
      "узор              0.000000\n",
      "темп              0.000000\n",
      "клязьма           0.000000\n",
      "пересылка         0.000000\n",
      "отрасль           0.000000\n",
      "отвод             0.000000\n",
      "верх              0.000000\n",
      "сессия            0.000000\n",
      "дебаты            0.000000\n",
      "задержка          0.000000\n",
      "олдскул           0.000000\n",
      "трансфрмер        0.000000\n",
      "реалньо           0.000000\n",
      "урдхв             0.000000\n",
      "выключение        0.000000\n",
      "питер             0.000000\n",
      "чашечка           0.000000\n",
      "плата             0.000000\n",
      "винни             0.000000\n",
      "перегородка       0.000000\n",
      "кредитор          0.000000\n",
      "рейт              0.000000\n",
      "игроман           0.000000\n",
      "Name: topic_9, Length: 8385, dtype: float32\n",
      "гарантия         0.057508\n",
      "замена           0.049293\n",
      "сервис           0.036845\n",
      "центр            0.029811\n",
      "комплект         0.024557\n",
      "асер             0.020890\n",
      "ремонт           0.020184\n",
      "антивирус        0.016626\n",
      "главное          0.013009\n",
      "тысяча           0.009777\n",
      "радость          0.009392\n",
      "коробка          0.009324\n",
      "счастие          0.009144\n",
      "слово            0.008712\n",
      "консультант      0.008519\n",
      "возврат          0.008215\n",
      "девушка          0.006921\n",
      "материнка        0.006722\n",
      "февраль          0.006722\n",
      "раз              0.006708\n",
      "писк             0.006473\n",
      "ключ             0.006473\n",
      "ощущение         0.006394\n",
      "москва           0.006355\n",
      "сумка            0.006030\n",
      "комплектация     0.005918\n",
      "поломка          0.005824\n",
      "шлейф            0.005727\n",
      "чехол            0.005706\n",
      "отношение        0.005698\n",
      "                   ...   \n",
      "тфу              0.000000\n",
      "ток              0.000000\n",
      "армкте           0.000000\n",
      "дримвейвер       0.000000\n",
      "шопинг           0.000000\n",
      "шестерка         0.000000\n",
      "шлифовка         0.000000\n",
      "солнышко         0.000000\n",
      "анимешек         0.000000\n",
      "замедление       0.000000\n",
      "кипение          0.000000\n",
      "кста             0.000000\n",
      "отстутвие        0.000000\n",
      "прибавление      0.000000\n",
      "свалка           0.000000\n",
      "перезарядка      0.000000\n",
      "понт             0.000000\n",
      "фрутилупс        0.000000\n",
      "открывание       0.000000\n",
      "телек            0.000000\n",
      "свид             0.000000\n",
      "ставт            0.000000\n",
      "подвох           0.000000\n",
      "особенностия     0.000000\n",
      "вентрешетка      0.000000\n",
      "консерватория    0.000000\n",
      "тупик            0.000000\n",
      "твич             0.000000\n",
      "подъезд          0.000000\n",
      "игроман          0.000000\n",
      "Name: topic_10, Length: 8385, dtype: float32\n",
      "деньги           0.155435\n",
      "месяц            0.132550\n",
      "неделя           0.040925\n",
      "видюха           0.027493\n",
      "подставка        0.023785\n",
      "расположение     0.018124\n",
      "аппарат          0.018117\n",
      "акция            0.017680\n",
      "танк             0.017099\n",
      "скидка           0.011727\n",
      "игрушка          0.011554\n",
      "геймер           0.010926\n",
      "нарекание        0.010532\n",
      "железо           0.010090\n",
      "нагрев           0.009821\n",
      "комп             0.009662\n",
      "тормоз           0.009306\n",
      "проц             0.009073\n",
      "машинка          0.009030\n",
      "недостаток       0.007880\n",
      "перегрев         0.007663\n",
      "начало           0.006657\n",
      "ведьмак          0.006647\n",
      "остальное        0.006302\n",
      "кредит           0.005990\n",
      "вывод            0.005915\n",
      "норма            0.005838\n",
      "оценка           0.005816\n",
      "карта            0.005697\n",
      "инет             0.005693\n",
      "                   ...   \n",
      "топор            0.000000\n",
      "параметр         0.000000\n",
      "перезарядка      0.000000\n",
      "понт             0.000000\n",
      "фрутилупс        0.000000\n",
      "открывание       0.000000\n",
      "телек            0.000000\n",
      "свид             0.000000\n",
      "подвох           0.000000\n",
      "особенностия     0.000000\n",
      "вентрешетка      0.000000\n",
      "консерватория    0.000000\n",
      "тупик            0.000000\n",
      "твич             0.000000\n",
      "подъезд          0.000000\n",
      "тфу              0.000000\n",
      "поюзер           0.000000\n",
      "боевик           0.000000\n",
      "улица            0.000000\n",
      "затир            0.000000\n",
      "кипятильник      0.000000\n",
      "мат              0.000000\n",
      "помощник         0.000000\n",
      "герцовка         0.000000\n",
      "пресня           0.000000\n",
      "пач              0.000000\n",
      "бум              0.000000\n",
      "гигант           0.000000\n",
      "карда            0.000000\n",
      "игроман          0.000000\n",
      "Name: topic_11, Length: 8385, dtype: float32\n",
      "клавиатура            0.082159\n",
      "корпус                0.049761\n",
      "клавиша               0.028798\n",
      "подсветка             0.027782\n",
      "угол                  0.026892\n",
      "кнопка                0.026301\n",
      "обзор                 0.021217\n",
      "крышка                0.020204\n",
      "тачпад                0.017143\n",
      "недостаток            0.016972\n",
      "производительность    0.016501\n",
      "дизайн                0.015038\n",
      "цвет                  0.014422\n",
      "качество              0.012860\n",
      "сборка                0.012483\n",
      "матрица               0.012098\n",
      "пластик               0.011858\n",
      "целое                 0.011509\n",
      "плюс                  0.011125\n",
      "дисплей               0.010231\n",
      "вид                   0.009103\n",
      "яркость               0.008587\n",
      "глаз                  0.008554\n",
      "порт                  0.008522\n",
      "разъем                0.008415\n",
      "нажатие               0.008131\n",
      "сторона               0.008127\n",
      "рука                  0.007657\n",
      "поверхность           0.007487\n",
      "палец                 0.007333\n",
      "                        ...   \n",
      "тфу                   0.000000\n",
      "ток                   0.000000\n",
      "гпу                   0.000000\n",
      "парочка               0.000000\n",
      "армкте                0.000000\n",
      "дримвейвер            0.000000\n",
      "шопинг                0.000000\n",
      "шестерка              0.000000\n",
      "шлифовка              0.000000\n",
      "солнышко              0.000000\n",
      "анимешек              0.000000\n",
      "замедление            0.000000\n",
      "кипение               0.000000\n",
      "кста                  0.000000\n",
      "отстутвие             0.000000\n",
      "прибавление           0.000000\n",
      "свалка                0.000000\n",
      "перезарядка           0.000000\n",
      "понт                  0.000000\n",
      "фрутилупс             0.000000\n",
      "свид                  0.000000\n",
      "ставт                 0.000000\n",
      "подвох                0.000000\n",
      "особенностия          0.000000\n",
      "вентрешетка           0.000000\n",
      "консерватория         0.000000\n",
      "тупик                 0.000000\n",
      "твич                  0.000000\n",
      "подъезд               0.000000\n",
      "игроман               0.000000\n",
      "Name: topic_12, Length: 8385, dtype: float32\n",
      "драйвер          0.052005\n",
      "винд             0.048255\n",
      "установка        0.031566\n",
      "сайт             0.027669\n",
      "диск             0.025925\n",
      "шум              0.023583\n",
      "ос               0.022346\n",
      "обновление       0.020160\n",
      "дрова            0.019109\n",
      "максимум         0.017235\n",
      "фпс              0.016620\n",
      "вентилятор       0.015907\n",
      "ультра           0.015555\n",
      "максималка       0.015191\n",
      "система          0.014590\n",
      "винт             0.012490\n",
      "версия           0.011962\n",
      "семерка          0.011635\n",
      "биос             0.010764\n",
      "привод           0.010666\n",
      "секунда          0.008710\n",
      "гта              0.008574\n",
      "тормоз           0.008476\n",
      "комп             0.007844\n",
      "раздел           0.007831\n",
      "проц             0.007485\n",
      "ошибка           0.007062\n",
      "прога            0.006878\n",
      "софт             0.006850\n",
      "дело             0.006836\n",
      "                   ...   \n",
      "вентрешетка      0.000000\n",
      "особенностия     0.000000\n",
      "дизай            0.000000\n",
      "знак             0.000000\n",
      "полноразмрная    0.000000\n",
      "гпу              0.000000\n",
      "логотип          0.000000\n",
      "парочка          0.000000\n",
      "армкте           0.000000\n",
      "дримвейвер       0.000000\n",
      "шопинг           0.000000\n",
      "шестерка         0.000000\n",
      "шлифовка         0.000000\n",
      "солнышко         0.000000\n",
      "анимешек         0.000000\n",
      "замедление       0.000000\n",
      "кипение          0.000000\n",
      "кста             0.000000\n",
      "отстутвие        0.000000\n",
      "прибавление      0.000000\n",
      "свалка           0.000000\n",
      "перезарядка      0.000000\n",
      "понт             0.000000\n",
      "фрутилупс        0.000000\n",
      "открывание       0.000000\n",
      "телек            0.000000\n",
      "свид             0.000000\n",
      "ставт            0.000000\n",
      "подвох           0.000000\n",
      "игроман          0.000000\n",
      "Name: topic_13, Length: 8385, dtype: float32\n",
      "программа        0.163616\n",
      "день             0.156799\n",
      "бук              0.080259\n",
      "магазин          0.058089\n",
      "продавец         0.017663\n",
      "спасибо          0.015241\n",
      "товар            0.014778\n",
      "отзыв            0.014636\n",
      "мвидео           0.013055\n",
      "фотошоп          0.010333\n",
      "редактор         0.008486\n",
      "брак             0.007518\n",
      "рождение         0.007437\n",
      "человек          0.006553\n",
      "обработка        0.006522\n",
      "скидка           0.006104\n",
      "обмен            0.005733\n",
      "пара             0.005403\n",
      "фото             0.005376\n",
      "момент           0.005171\n",
      "фотка            0.004854\n",
      "средство         0.004802\n",
      "заказ            0.004539\n",
      "ноль             0.004524\n",
      "течение          0.004366\n",
      "полоса           0.004314\n",
      "декабрь          0.004153\n",
      "стол             0.003961\n",
      "вопрос           0.003889\n",
      "перезагрузка     0.003882\n",
      "                   ...   \n",
      "помощник         0.000000\n",
      "мат              0.000000\n",
      "анимешек         0.000000\n",
      "замедление       0.000000\n",
      "кипение          0.000000\n",
      "кста             0.000000\n",
      "отстутвие        0.000000\n",
      "прибавление      0.000000\n",
      "свалка           0.000000\n",
      "перезарядка      0.000000\n",
      "понт             0.000000\n",
      "фрутилупс        0.000000\n",
      "открывание       0.000000\n",
      "телек            0.000000\n",
      "свид             0.000000\n",
      "ставт            0.000000\n",
      "подвох           0.000000\n",
      "особенностия     0.000000\n",
      "вентрешетка      0.000000\n",
      "консерватория    0.000000\n",
      "тупик            0.000000\n",
      "твич             0.000000\n",
      "подъезд          0.000000\n",
      "тфу              0.000000\n",
      "поюзер           0.000000\n",
      "боевик           0.000000\n",
      "улица            0.000000\n",
      "затир            0.000000\n",
      "кипятильник      0.000000\n",
      "игроман          0.000000\n",
      "Name: topic_14, Length: 8385, dtype: float32\n",
      "процессор             0.102699\n",
      "память                0.084741\n",
      "видеокарта            0.078262\n",
      "гб                    0.053189\n",
      "диск                  0.033916\n",
      "оперативка            0.026041\n",
      "объем                 0.020577\n",
      "система               0.017871\n",
      "гиг                   0.017621\n",
      "возможность           0.016004\n",
      "производительность    0.014708\n",
      "частота               0.014301\n",
      "карта                 0.013020\n",
      "ядро                  0.012522\n",
      "озу                   0.010356\n",
      "слот                  0.009852\n",
      "разрешение            0.008317\n",
      "тип                   0.007859\n",
      "вес                   0.007347\n",
      "место                 0.007346\n",
      "количество            0.007310\n",
      "скорость              0.007207\n",
      "дисплей               0.006801\n",
      "диагональ             0.006796\n",
      "поколение             0.006687\n",
      "гигабайт              0.006547\n",
      "кг                    0.006430\n",
      "приложение            0.006298\n",
      "уровень               0.006292\n",
      "дюйм                  0.006159\n",
      "                        ...   \n",
      "открывание            0.000000\n",
      "фрутилупс             0.000000\n",
      "месясцок              0.000000\n",
      "елка                  0.000000\n",
      "озыв                  0.000000\n",
      "робот                 0.000000\n",
      "поюзав                0.000000\n",
      "дизай                 0.000000\n",
      "знак                  0.000000\n",
      "эмблема               0.000000\n",
      "полноразмрная         0.000000\n",
      "гпу                   0.000000\n",
      "логотип               0.000000\n",
      "парочка               0.000000\n",
      "армкте                0.000000\n",
      "дримвейвер            0.000000\n",
      "шопинг                0.000000\n",
      "шестерка              0.000000\n",
      "шлифовка              0.000000\n",
      "солнышко              0.000000\n",
      "анимешек              0.000000\n",
      "замедление            0.000000\n",
      "кипение               0.000000\n",
      "кста                  0.000000\n",
      "отстутвие             0.000000\n",
      "прибавление           0.000000\n",
      "свалка                0.000000\n",
      "перезарядка           0.000000\n",
      "понт                  0.000000\n",
      "игроман               0.000000\n",
      "Name: topic_15, Length: 8385, dtype: float32\n"
     ]
    }
   ],
   "source": [
    "for topic in phi.columns:\n",
    "    print(phi[topic].sort_values(ascending=False))"
   ]
  },
  {
   "cell_type": "code",
   "execution_count": null,
   "metadata": {
    "collapsed": true
   },
   "outputs": [],
   "source": []
  },
  {
   "cell_type": "code",
   "execution_count": null,
   "metadata": {
    "collapsed": true
   },
   "outputs": [],
   "source": []
  },
  {
   "cell_type": "code",
   "execution_count": null,
   "metadata": {
    "collapsed": true
   },
   "outputs": [],
   "source": []
  },
  {
   "cell_type": "code",
   "execution_count": null,
   "metadata": {
    "collapsed": true
   },
   "outputs": [],
   "source": []
  },
  {
   "cell_type": "code",
   "execution_count": null,
   "metadata": {
    "collapsed": true
   },
   "outputs": [],
   "source": []
  },
  {
   "cell_type": "code",
   "execution_count": null,
   "metadata": {
    "collapsed": true
   },
   "outputs": [],
   "source": []
  },
  {
   "cell_type": "code",
   "execution_count": null,
   "metadata": {
    "collapsed": true
   },
   "outputs": [],
   "source": []
  },
  {
   "cell_type": "code",
   "execution_count": null,
   "metadata": {
    "collapsed": true
   },
   "outputs": [],
   "source": []
  },
  {
   "cell_type": "code",
   "execution_count": null,
   "metadata": {
    "collapsed": true
   },
   "outputs": [],
   "source": []
  },
  {
   "cell_type": "code",
   "execution_count": 31,
   "metadata": {},
   "outputs": [
    {
     "data": {
      "text/plain": [
       "CATEGORY_ID\n",
       "1070607       776\n",
       "1070608       776\n",
       "1070902     22009\n",
       "1070903     22966\n",
       "1070904     19924\n",
       "1070907     16324\n",
       "1070911     12743\n",
       "1070912      6462\n",
       "1070913      2640\n",
       "2030201    195891\n",
       "2030501     25915\n",
       "2040202     17668\n",
       "2050101     79663\n",
       "2050102      9940\n",
       "2050104      7691\n",
       "4030101     40466\n",
       "4030201       114\n",
       "4120101      7363\n",
       "Name: BRAND_ID, dtype: int64"
      ]
     },
     "execution_count": 31,
     "metadata": {},
     "output_type": "execute_result"
    }
   ],
   "source": [
    "df2.groupby('CATEGORY_ID')['BRAND_ID'].count()"
   ]
  },
  {
   "cell_type": "code",
   "execution_count": 36,
   "metadata": {},
   "outputs": [
    {
     "name": "stdout",
     "output_type": "stream",
     "text": [
      "Отличный офисный принтер! Быстро и отлично печатает и сканирует документы. Отличное качество сборки. Экономичен в использовании со стороны картриджа.\n"
     ]
    }
   ],
   "source": [
    "for i, text in enumerate(df1.TEXT):\n",
    "    if i == 10:\n",
    "        print(text)"
   ]
  },
  {
   "cell_type": "code",
   "execution_count": null,
   "metadata": {
    "collapsed": true
   },
   "outputs": [],
   "source": []
  }
 ],
 "metadata": {
  "kernelspec": {
   "display_name": "Python 3",
   "language": "python",
   "name": "python3"
  }
 },
 "nbformat": 4,
 "nbformat_minor": 2
}
