{
 "cells": [
  {
   "cell_type": "code",
   "execution_count": 1,
   "metadata": {
    "collapsed": true
   },
   "outputs": [],
   "source": [
    "import numpy as np\n",
    "import pandas as pd"
   ]
  },
  {
   "cell_type": "code",
   "execution_count": 2,
   "metadata": {
    "collapsed": true
   },
   "outputs": [],
   "source": [
    "df1 = pd.read_csv('dataset1.csv')"
   ]
  },
  {
   "cell_type": "code",
   "execution_count": 3,
   "metadata": {},
   "outputs": [
    {
     "data": {
      "text/html": [
       "<div>\n",
       "<table border=\"1\" class=\"dataframe\">\n",
       "  <thead>\n",
       "    <tr style=\"text-align: right;\">\n",
       "      <th></th>\n",
       "      <th>Unnamed: 0</th>\n",
       "      <th>PRODUCT</th>\n",
       "      <th>CATEGORY_ID</th>\n",
       "      <th>BRAND_ID</th>\n",
       "      <th>CATEGORY_NAME</th>\n",
       "      <th>BRAND_NAME</th>\n",
       "      <th>TYPE</th>\n",
       "      <th>SUBJECT</th>\n",
       "      <th>TEXT</th>\n",
       "      <th>POSTED_DATE</th>\n",
       "      <th>RATING</th>\n",
       "      <th>BENEFITS</th>\n",
       "      <th>DRAWBACKS</th>\n",
       "      <th>RECOMMENDED</th>\n",
       "      <th>LIKES_COUNT</th>\n",
       "      <th>DISLIKES_COUNT</th>\n",
       "    </tr>\n",
       "  </thead>\n",
       "  <tbody>\n",
       "    <tr>\n",
       "      <th>0</th>\n",
       "      <td>0</td>\n",
       "      <td>30024724</td>\n",
       "      <td>2060202</td>\n",
       "      <td>1900</td>\n",
       "      <td>PRINTERS LASER</td>\n",
       "      <td>Kyocera</td>\n",
       "      <td>REVIEW</td>\n",
       "      <td>NaN</td>\n",
       "      <td>Что особенно ценно - при профилактике принтера...</td>\n",
       "      <td>23.10.16 22:26:00</td>\n",
       "      <td>5.0</td>\n",
       "      <td>хорошая скорость печати, двусторонняя печать, ...</td>\n",
       "      <td>Рядом \"на стол\" не поставишь, место много зани...</td>\n",
       "      <td>1.0</td>\n",
       "      <td>2.0</td>\n",
       "      <td>0.0</td>\n",
       "    </tr>\n",
       "    <tr>\n",
       "      <th>1</th>\n",
       "      <td>1</td>\n",
       "      <td>30024724</td>\n",
       "      <td>2060202</td>\n",
       "      <td>1900</td>\n",
       "      <td>PRINTERS LASER</td>\n",
       "      <td>Kyocera</td>\n",
       "      <td>REVIEW</td>\n",
       "      <td>NaN</td>\n",
       "      <td>Он у нас три месяца в офисе стоит уже - большо...</td>\n",
       "      <td>17.04.16 11:17:42</td>\n",
       "      <td>5.0</td>\n",
       "      <td>NaN</td>\n",
       "      <td>NaN</td>\n",
       "      <td>NaN</td>\n",
       "      <td>0.0</td>\n",
       "      <td>2.0</td>\n",
       "    </tr>\n",
       "    <tr>\n",
       "      <th>2</th>\n",
       "      <td>2</td>\n",
       "      <td>30024725</td>\n",
       "      <td>2060202</td>\n",
       "      <td>1900</td>\n",
       "      <td>PRINTERS LASER</td>\n",
       "      <td>Kyocera</td>\n",
       "      <td>REVIEW</td>\n",
       "      <td>NaN</td>\n",
       "      <td>Просто небо и земля с тем принтером, который у...</td>\n",
       "      <td>15.04.16 20:22:47</td>\n",
       "      <td>4.0</td>\n",
       "      <td>NaN</td>\n",
       "      <td>NaN</td>\n",
       "      <td>NaN</td>\n",
       "      <td>0.0</td>\n",
       "      <td>1.0</td>\n",
       "    </tr>\n",
       "    <tr>\n",
       "      <th>3</th>\n",
       "      <td>3</td>\n",
       "      <td>30024727</td>\n",
       "      <td>2060101</td>\n",
       "      <td>1900</td>\n",
       "      <td>ALL-IN-ONE LASER</td>\n",
       "      <td>Kyocera</td>\n",
       "      <td>REVIEW</td>\n",
       "      <td>С такой вроде бы навороченной техникой все смо...</td>\n",
       "      <td>У нас в кабинете недавно его поставили. Первое...</td>\n",
       "      <td>18.04.16 20:01:57</td>\n",
       "      <td>5.0</td>\n",
       "      <td>NaN</td>\n",
       "      <td>NaN</td>\n",
       "      <td>NaN</td>\n",
       "      <td>0.0</td>\n",
       "      <td>0.0</td>\n",
       "    </tr>\n",
       "    <tr>\n",
       "      <th>4</th>\n",
       "      <td>4</td>\n",
       "      <td>30024727</td>\n",
       "      <td>2060101</td>\n",
       "      <td>1900</td>\n",
       "      <td>ALL-IN-ONE LASER</td>\n",
       "      <td>Kyocera</td>\n",
       "      <td>REVIEW</td>\n",
       "      <td>NaN</td>\n",
       "      <td>Очень многофункциональная штука.  Есть все нео...</td>\n",
       "      <td>23.04.16 12:03:39</td>\n",
       "      <td>5.0</td>\n",
       "      <td>NaN</td>\n",
       "      <td>NaN</td>\n",
       "      <td>NaN</td>\n",
       "      <td>1.0</td>\n",
       "      <td>0.0</td>\n",
       "    </tr>\n",
       "  </tbody>\n",
       "</table>\n",
       "</div>"
      ],
      "text/plain": [
       "   Unnamed: 0   PRODUCT  CATEGORY_ID  BRAND_ID  \\\n",
       "0           0  30024724      2060202      1900   \n",
       "1           1  30024724      2060202      1900   \n",
       "2           2  30024725      2060202      1900   \n",
       "3           3  30024727      2060101      1900   \n",
       "4           4  30024727      2060101      1900   \n",
       "\n",
       "                                CATEGORY_NAME            BRAND_NAME    TYPE  \\\n",
       "0  PRINTERS LASER                              Kyocera               REVIEW   \n",
       "1  PRINTERS LASER                              Kyocera               REVIEW   \n",
       "2  PRINTERS LASER                              Kyocera               REVIEW   \n",
       "3  ALL-IN-ONE LASER                            Kyocera               REVIEW   \n",
       "4  ALL-IN-ONE LASER                            Kyocera               REVIEW   \n",
       "\n",
       "                                             SUBJECT  \\\n",
       "0                                                NaN   \n",
       "1                                                NaN   \n",
       "2                                                NaN   \n",
       "3  С такой вроде бы навороченной техникой все смо...   \n",
       "4                                                NaN   \n",
       "\n",
       "                                                TEXT        POSTED_DATE  \\\n",
       "0  Что особенно ценно - при профилактике принтера...  23.10.16 22:26:00   \n",
       "1  Он у нас три месяца в офисе стоит уже - большо...  17.04.16 11:17:42   \n",
       "2  Просто небо и земля с тем принтером, который у...  15.04.16 20:22:47   \n",
       "3  У нас в кабинете недавно его поставили. Первое...  18.04.16 20:01:57   \n",
       "4  Очень многофункциональная штука.  Есть все нео...  23.04.16 12:03:39   \n",
       "\n",
       "   RATING                                           BENEFITS  \\\n",
       "0     5.0  хорошая скорость печати, двусторонняя печать, ...   \n",
       "1     5.0                                                NaN   \n",
       "2     4.0                                                NaN   \n",
       "3     5.0                                                NaN   \n",
       "4     5.0                                                NaN   \n",
       "\n",
       "                                           DRAWBACKS  RECOMMENDED  \\\n",
       "0  Рядом \"на стол\" не поставишь, место много зани...          1.0   \n",
       "1                                                NaN          NaN   \n",
       "2                                                NaN          NaN   \n",
       "3                                                NaN          NaN   \n",
       "4                                                NaN          NaN   \n",
       "\n",
       "   LIKES_COUNT  DISLIKES_COUNT  \n",
       "0          2.0             0.0  \n",
       "1          0.0             2.0  \n",
       "2          0.0             1.0  \n",
       "3          0.0             0.0  \n",
       "4          1.0             0.0  "
      ]
     },
     "execution_count": 3,
     "metadata": {},
     "output_type": "execute_result"
    }
   ],
   "source": [
    "df1.head()"
   ]
  },
  {
   "cell_type": "code",
   "execution_count": 4,
   "metadata": {
    "collapsed": true
   },
   "outputs": [],
   "source": [
    "from stop_words import get_stop_words\n",
    "from nltk.tokenize import sent_tokenize\n",
    "from tools.ngrammer import NGrammer"
   ]
  },
  {
   "cell_type": "code",
   "execution_count": 5,
   "metadata": {
    "collapsed": true
   },
   "outputs": [],
   "source": [
    "from pymystem3 import Mystem\n",
    "m = Mystem()\n",
    "stop_words = get_stop_words('russian')\n",
    "def normalize_text(text, Dict):\n",
    "    text = ''.join(char for char in text.lower() if char.isalpha() or char == ' ')\n",
    "    text_normalized = []\n",
    "    analysis = m.analyze(text)\n",
    "    for word in analysis:\n",
    "        if 'analysis' in word:\n",
    "            if len(word['analysis']):\n",
    "                word_norm = word['analysis'][0]['lex']\n",
    "                form = word['analysis'][0]['gr'].split('=')[0].split(',')[0]\n",
    "                if word_norm not in stop_words and np.absolute(Dict.get(word_norm, 0)) < 0.01:\n",
    "                    text_normalized.append(word_norm)\n",
    "    return text_normalized"
   ]
  },
  {
   "cell_type": "code",
   "execution_count": 6,
   "metadata": {
    "collapsed": true
   },
   "outputs": [],
   "source": [
    "def normalize_all_texts(data, index, Dict):\n",
    "    stexts = []\n",
    "    not_normed_texts = []\n",
    "    data_product_list = []\n",
    "    for i, text in enumerate(data):\n",
    "        sents = sent_tokenize(text)\n",
    "        not_normed_texts.extend(sents)\n",
    "        data_product_list += [index[i]]*len(sents)\n",
    "        for s in sents:\n",
    "            stexts.append(normalize_text(s, Dict))\n",
    "        if i % 1000 == 0:\n",
    "            print(i, end=\" \")\n",
    "    return stexts, not_normed_texts, data_product_list"
   ]
  },
  {
   "cell_type": "code",
   "execution_count": 7,
   "metadata": {
    "collapsed": true
   },
   "outputs": [],
   "source": [
    "def ngramming(stexts):\n",
    "    ng = NGrammer()\n",
    "    ng.frequentPhraseMining(stexts, 10, 5)\n",
    "    ngramed_corpora = []\n",
    "    for doc in stexts:\n",
    "        res, _ = ng.ngramm(doc, 3.0)\n",
    "        res, _ = ng.removeDelimiters(res)\n",
    "        ngramed_corpora += [['_'.join(w.split()) for w in res]]\n",
    "    return ngramed_corpora"
   ]
  },
  {
   "cell_type": "code",
   "execution_count": 9,
   "metadata": {
    "collapsed": true
   },
   "outputs": [],
   "source": [
    "def text_preprocessing(array_of_cat, Dict, background_words):\n",
    "    #get data for category\n",
    "    data = df1.TEXT[df1.CATEGORY_ID.isin(array_of_cat)]\n",
    "    index = df1.index[df1.CATEGORY_ID.isin(array_of_cat)]\n",
    "    #normalizing text\n",
    "    stexts, not_normed_texts, index_list = normalize_all_texts(data, index, Dict)\n",
    "    #ngramming text\n",
    "    ngramed_corpora = ngramming(stexts)\n",
    "    #filter texts by length\n",
    "    texts = [[w for w in text if w not in background_words] for text in ngramed_corpora]\n",
    "    filtered_texts = [' '.join(text) for text in texts if len(text) > 6]\n",
    "    ind = [(len(text) > 6) for text in texts]\n",
    "    pairs_text_prodid = np.array(list(zip(np.array(not_normed_texts)[ind], np.array(index_list)[ind])))\n",
    "    return pairs_text_prodid, filtered_texts"
   ]
  },
  {
   "cell_type": "code",
   "execution_count": 10,
   "metadata": {
    "collapsed": true
   },
   "outputs": [],
   "source": [
    "sentiment = pd.read_csv('words.csv', sep=';', header=None, names =['word', 'sent', '1', '2', '3'])\n",
    "Dict = sentiment.groupby('word')['sent'].mean().to_dict()"
   ]
  },
  {
   "cell_type": "code",
   "execution_count": 12,
   "metadata": {
    "collapsed": true
   },
   "outputs": [],
   "source": [
    "cat_to_id = {\n",
    "    'NOTEBOOKS': [2030201, 2040202, 2030501],\n",
    "    'SMARTPHONES': [2050101, 2050104, 2050102, 2050201],\n",
    "    'WASHING MACHINES': [4030101, 4030201],\n",
    "    'REFRIGERATORS': [4020601, 4020401, 4020501, 4010601, 4020701, 4020201],\n",
    "    'VACUUM CLEANERS': [4110102, 4110101, 4110104, 4110103],\n",
    "    'DISHWASHERS': [4010401, 4090101],\n",
    "    'TVs': [1070903, 1070902, 1070904, 1070907, 1070911, 1070913, 1070908, 1070912]\n",
    "}"
   ]
  },
  {
   "cell_type": "code",
   "execution_count": 58,
   "metadata": {},
   "outputs": [
    {
     "name": "stdout",
     "output_type": "stream",
     "text": [
      "0 1000 2000 3000 4000 5000 6000 7000 8000 9000 10000 11000 12000 13000 14000 "
     ]
    }
   ],
   "source": [
    "pairs_text_prodid, filtered_texts = text_preprocessing(cat_to_id['NOTEBOOKS'], Dict, ['компьютер', 'ноут', 'ноутбук'])"
   ]
  },
  {
   "cell_type": "markdown",
   "metadata": {},
   "source": [
    "## PLSA"
   ]
  },
  {
   "cell_type": "code",
   "execution_count": 32,
   "metadata": {},
   "outputs": [
    {
     "name": "stdout",
     "output_type": "stream",
     "text": [
      "0 1000 2000 3000 4000 5000 6000 7000 8000 9000 10000 11000 12000 13000 14000 15000 16000 17000 18000 19000 20000 "
     ]
    }
   ],
   "source": [
    "pairs_text_prodid, filtered_texts = text_preprocessing(cat_to_id['SMARTPHONES'], Dict, ['смартфон', 'телефон', 'нокиа', 'самсунг', 'айфон'])"
   ]
  },
  {
   "cell_type": "code",
   "execution_count": 14,
   "metadata": {
    "collapsed": true
   },
   "outputs": [],
   "source": [
    "import artm"
   ]
  },
  {
   "cell_type": "code",
   "execution_count": 173,
   "metadata": {
    "collapsed": true
   },
   "outputs": [],
   "source": [
    "def prepare_data(filtered_texts, name):\n",
    "    data_path = name + '.txt'\n",
    "    output_file = open(data_path, 'w')\n",
    "    for i, sen in enumerate(filtered_texts2):\n",
    "        output_file.write(str(i) + \" |text \")\n",
    "        output_file.write(sen + '\\n')\n",
    "    output_file.close()\n",
    "    batches_path = 'batches_' + name + '/'\n",
    "    batch_vectorizer = artm.BatchVectorizer(data_path=data_path, collection_name='',\n",
    "                                            data_format='vowpal_wabbit', batch_size = 1000, \n",
    "                                            target_folder=batches_path)\n",
    "    my_dictionary = artm.Dictionary()\n",
    "    my_dictionary.gather(data_path=batches_path)\n",
    "    my_dictionary.save(dictionary_path=batches_path + '/sen_dict')"
   ]
  },
  {
   "cell_type": "code",
   "execution_count": 61,
   "metadata": {
    "collapsed": true
   },
   "outputs": [],
   "source": [
    "output_file = open('notebooks.txt', 'w')\n",
    "for i, sen in enumerate(filtered_texts):\n",
    "    output_file.write(str(i) + \" |text \")\n",
    "    output_file.write(sen + '\\n')\n",
    "output_file.close()"
   ]
  },
  {
   "cell_type": "code",
   "execution_count": 62,
   "metadata": {},
   "outputs": [
    {
     "name": "stdout",
     "output_type": "stream",
     "text": [
      "15623 notebooks.txt\r\n"
     ]
    }
   ],
   "source": [
    "! wc -l notebooks.txt"
   ]
  },
  {
   "cell_type": "code",
   "execution_count": 59,
   "metadata": {
    "collapsed": true
   },
   "outputs": [],
   "source": [
    "data_path = 'notebooks.txt'\n",
    "batches_path = 'batches_notebooks/'"
   ]
  },
  {
   "cell_type": "code",
   "execution_count": 63,
   "metadata": {
    "collapsed": true
   },
   "outputs": [],
   "source": [
    "batch_vectorizer = artm.BatchVectorizer(data_path=data_path, collection_name='',\n",
    "                                            data_format='vowpal_wabbit', batch_size = 1000, \n",
    "                                            target_folder=batches_path)"
   ]
  },
  {
   "cell_type": "code",
   "execution_count": 17,
   "metadata": {},
   "outputs": [],
   "source": [
    "batch_vectorizer = artm.BatchVectorizer(data_path=batches_path, \n",
    "                                         data_format='batches',\n",
    "                                       gather_dictionary=True)"
   ]
  },
  {
   "cell_type": "code",
   "execution_count": 64,
   "metadata": {
    "collapsed": true
   },
   "outputs": [],
   "source": [
    "my_dictionary = artm.Dictionary()"
   ]
  },
  {
   "cell_type": "code",
   "execution_count": 65,
   "metadata": {
    "collapsed": true
   },
   "outputs": [],
   "source": [
    "my_dictionary.gather(data_path=batches_path)\n",
    "my_dictionary.save(dictionary_path=batches_path + '/sen_dict')"
   ]
  },
  {
   "cell_type": "code",
   "execution_count": 19,
   "metadata": {
    "collapsed": true
   },
   "outputs": [],
   "source": [
    "my_dictionary.load(dictionary_path=batches_path + '/sen_dict.dict')"
   ]
  },
  {
   "cell_type": "code",
   "execution_count": 66,
   "metadata": {
    "collapsed": true
   },
   "outputs": [],
   "source": [
    "my_dictionary.filter(min_tf=2)"
   ]
  },
  {
   "cell_type": "code",
   "execution_count": 67,
   "metadata": {
    "collapsed": true
   },
   "outputs": [],
   "source": [
    "num_of_topics = 15\n",
    "names_of_topics = ['topic_' + str(x) for x in range(1, num_of_topics + 1)]"
   ]
  },
  {
   "cell_type": "code",
   "execution_count": 68,
   "metadata": {
    "collapsed": true
   },
   "outputs": [],
   "source": [
    "regularizers=[artm.SmoothSparsePhiRegularizer(name='sparse_phi_regularizer', \n",
    "                                              tau = 0, topic_names=names_of_topics),\n",
    "              #artm.SmoothSparsePhiRegularizer(name='sparse_phi_regularizer_back', \n",
    "              #                                tau = 10, topic_names=names_of_topics[c:]),\n",
    "             artm.SmoothSparseThetaRegularizer(name='sparse_theta_regularizer', \n",
    "                                               tau = 0, topic_names=names_of_topics),\n",
    "             #artm.SmoothSparseThetaRegularizer(name='sparse_theta_regularizer_back', \n",
    "             #                                  tau = 10, topic_names=names_of_topics[c:]),\n",
    "             artm.DecorrelatorPhiRegularizer(name='decorrelator_phi_regularizer', tau = 1e+5)]"
   ]
  },
  {
   "cell_type": "code",
   "execution_count": 69,
   "metadata": {
    "collapsed": true
   },
   "outputs": [],
   "source": [
    "model = artm.ARTM(num_topics=15, \n",
    "                  dictionary=my_dictionary, \n",
    "                  cache_theta=True, \n",
    "                  regularizers=regularizers,\n",
    "                  topic_names=names_of_topics)\n",
    "model.scores.add(artm.SparsityPhiScore(name='SparsityPhiScore', class_id='text'))\n",
    "model.scores.add(artm.SparsityThetaScore(name='SparsityThetaScore'))\n",
    "model.scores.add(artm.TopicKernelScore(name='TopicKernelScore', class_id='text',\n",
    "                                                  probability_mass_threshold=0.3))\n",
    "model.scores.add(artm.PerplexityScore(name='PerplexityScore',\n",
    "                                     dictionary=my_dictionary))\n",
    "model.scores.add(artm.TopTokensScore(name='TopTokensScore', class_id='text',\n",
    "                                     num_tokens=15, dictionary=my_dictionary))"
   ]
  },
  {
   "cell_type": "code",
   "execution_count": 70,
   "metadata": {},
   "outputs": [
    {
     "name": "stdout",
     "output_type": "stream",
     "text": [
      "CPU times: user 6.78 s, sys: 80 ms, total: 6.86 s\n",
      "Wall time: 2.65 s\n"
     ]
    }
   ],
   "source": [
    "%time model.fit_offline(batch_vectorizer, num_collection_passes=10)"
   ]
  },
  {
   "cell_type": "code",
   "execution_count": 71,
   "metadata": {
    "collapsed": true
   },
   "outputs": [],
   "source": [
    "def print_measures(model_plsa):\n",
    "    print('Sparsity Phi: {0:.3f}'.format(\n",
    "        model_plsa.score_tracker['SparsityPhiScore'].last_value))\n",
    "\n",
    "    print('Sparsity Theta: {0:.3f}'.format(\n",
    "        model_plsa.score_tracker['SparsityThetaScore'].last_value))\n",
    "\n",
    "    print('Kernel contrast: {0:.3f}'.format(\n",
    "        model_plsa.score_tracker['TopicKernelScore'].last_average_contrast))\n",
    "\n",
    "    print('Kernel purity: {0:.3f}'.format(\n",
    "        model_plsa.score_tracker['TopicKernelScore'].last_average_purity))\n",
    "\n",
    "    print('Perplexity: {0:.3f}'.format(\n",
    "        model_plsa.score_tracker['PerplexityScore'].last_value))\n",
    "\n",
    "    plt.plot(np.arange(model_plsa.num_phi_updates),\n",
    "             model_plsa.score_tracker['PerplexityScore'].value, 'b--', linewidth=2)\n",
    "    plt.xlabel('Iterations count')\n",
    "    plt.ylabel('PLSA perp. (blue), ARTM perp. (red)')\n",
    "    plt.grid(True)\n",
    "    plt.show()"
   ]
  },
  {
   "cell_type": "code",
   "execution_count": 72,
   "metadata": {
    "collapsed": true
   },
   "outputs": [],
   "source": [
    "import matplotlib.pyplot as plt\n",
    "%matplotlib inline"
   ]
  },
  {
   "cell_type": "code",
   "execution_count": 73,
   "metadata": {},
   "outputs": [
    {
     "name": "stdout",
     "output_type": "stream",
     "text": [
      "Sparsity Phi: 0.344\n",
      "Sparsity Theta: 0.280\n",
      "Kernel contrast: 0.711\n",
      "Kernel purity: 0.847\n",
      "Perplexity: 576.430\n"
     ]
    },
    {
     "data": {
      "image/png": "[encoded data removed]",
      "text/plain": [
       "<matplotlib.figure.Figure at 0x7fd01334f2e8>"
      ]
     },
     "metadata": {},
     "output_type": "display_data"
    }
   ],
   "source": [
    "print_measures(model)"
   ]
  },
  {
   "cell_type": "code",
   "execution_count": 74,
   "metadata": {
    "collapsed": true
   },
   "outputs": [],
   "source": [
    "model.regularizers['sparse_phi_regularizer'].tau = -0.5\n",
    "model.regularizers['sparse_theta_regularizer'].tau = -0.5"
   ]
  },
  {
   "cell_type": "code",
   "execution_count": 75,
   "metadata": {},
   "outputs": [
    {
     "name": "stdout",
     "output_type": "stream",
     "text": [
      "CPU times: user 7.1 s, sys: 60 ms, total: 7.16 s\n",
      "Wall time: 2.68 s\n"
     ]
    }
   ],
   "source": [
    "%time model.fit_offline(batch_vectorizer, num_collection_passes=10)"
   ]
  },
  {
   "cell_type": "code",
   "execution_count": 76,
   "metadata": {},
   "outputs": [
    {
     "name": "stdout",
     "output_type": "stream",
     "text": [
      "Sparsity Phi: 0.881\n",
      "Sparsity Theta: 0.730\n",
      "Kernel contrast: 0.753\n",
      "Kernel purity: 0.810\n",
      "Perplexity: 572.118\n"
     ]
    },
    {
     "data": {
      "image/png": "[encoded data removed]",
      "text/plain": [
       "<matplotlib.figure.Figure at 0x7fd01426ad68>"
      ]
     },
     "metadata": {},
     "output_type": "display_data"
    }
   ],
   "source": [
    "print_measures(model)"
   ]
  },
  {
   "cell_type": "code",
   "execution_count": 77,
   "metadata": {},
   "outputs": [
    {
     "name": "stdout",
     "output_type": "stream",
     "text": [
      "topic_1: вообще свой планшет аппарат брать купить либо отзыв друг выбор стоить техника дорогой использовать момент \n",
      "topic_2: видеокарта дизайн устройство достаточно данный задача качество пользователь современный любой выполнять высокий замечать отлично решение \n",
      "topic_3: стоять программа бук хотеться машина обычный скорость гиг получать проц запуск должный спокойно фотошоп операционный_система \n",
      "topic_4: идти устанавливать драйвер понимать офис файл настройка последний сайт купить_ноутбук ставить вопрос установка возникать программа \n",
      "topic_5: общий месяц давать включать советовать открывать полный купить нетбук постоянно точно лично низкий подключать делать \n",
      "topic_6: работа ничто взять подходить игровой оставаться целое находить итог вариант дома добавлять смотреть_фильм ожидать учеба \n",
      "topic_7: играть греться порт нагрузка держать средний вентилятор устраивать охлаждение комп фпс разъем система_охлаждение нагреваться выдавать \n",
      "topic_8: клавиатура звук самый большой клавиша удобно рабочий динамика внешний сторона музыка громкость нажимать располагать печатать \n",
      "topic_9: интернет сразу магазин дело чтото купить скайп кулер домашний вместо привод свой начинать зависать стандартный \n",
      "topic_10: быстро хватать разрешение глаз размер настройка отмечать дисплей внешний_вид малый таки сумка любой х носить \n",
      "topic_11: экран кнопка картинка цвет угол_обзор матрица вес получаться подсветка дисплей тачпад монитор яркость сборка рука \n",
      "topic_12: процессор гб характеристика система график производитель ядро оперативный равный большинство слот оперативка частота оценка обращать \n",
      "topic_13: становиться поставлять сильно винд привыкать сеть принцип шуметь тихий инет бывать норма семерка вайфай пол \n",
      "topic_14: модель час батарея фильм нормально аккумулятор тип смотреть зарядка некоторый легко брать пара наличие потянуть \n",
      "topic_15: корпус приходиться крышка пластик поверхность качество_сборка матовый легко технология происходить появляться маркий видно иначе точка \n"
     ]
    }
   ],
   "source": [
    "for i, topic in enumerate(model.topic_names):\n",
    "    print(topic + ':', end=\" \")\n",
    "    for word in model.score_tracker['TopTokensScore'].last_tokens[topic]:\n",
    "        print(word, end=\" \")\n",
    "    print()"
   ]
  },
  {
   "cell_type": "code",
   "execution_count": 78,
   "metadata": {
    "collapsed": true
   },
   "outputs": [],
   "source": [
    "names_of_topics = ['topic_' + str(x) for x in range(1, num_of_topics + 1)]\n",
    "array = [1, 5, 9]\n",
    "topic_poss = ['topic_' + str(x) for x in range(1, num_of_topics + 1) if x not in array]"
   ]
  },
  {
   "cell_type": "code",
   "execution_count": null,
   "metadata": {
    "collapsed": true
   },
   "outputs": [],
   "source": [
    "3, 4, 5, 6, 7, 8, 10, 11, 12, 13, 14, 15"
   ]
  },
  {
   "cell_type": "code",
   "execution_count": null,
   "metadata": {
    "collapsed": true
   },
   "outputs": [],
   "source": [
    "2, 3, 4, 5, 7, 8, 10, 11, 12, 13, 14, 15"
   ]
  },
  {
   "cell_type": "code",
   "execution_count": null,
   "metadata": {
    "collapsed": true
   },
   "outputs": [],
   "source": [
    "2, 3, 4, 5, 6?, 7, 10, 12, 13, 15"
   ]
  },
  {
   "cell_type": "markdown",
   "metadata": {},
   "source": [
    "## Get documents"
   ]
  },
  {
   "cell_type": "code",
   "execution_count": 79,
   "metadata": {
    "collapsed": true
   },
   "outputs": [],
   "source": [
    "theta = model.get_theta()"
   ]
  },
  {
   "cell_type": "code",
   "execution_count": 80,
   "metadata": {},
   "outputs": [
    {
     "data": {
      "text/plain": [
       "(15, 15623)"
      ]
     },
     "execution_count": 80,
     "metadata": {},
     "output_type": "execute_result"
    }
   ],
   "source": [
    "theta.shape"
   ]
  },
  {
   "cell_type": "code",
   "execution_count": 81,
   "metadata": {},
   "outputs": [
    {
     "data": {
      "text/html": [
       "<div>\n",
       "<table border=\"1\" class=\"dataframe\">\n",
       "  <thead>\n",
       "    <tr style=\"text-align: right;\">\n",
       "      <th></th>\n",
       "      <th>12000</th>\n",
       "      <th>12001</th>\n",
       "      <th>12002</th>\n",
       "      <th>12003</th>\n",
       "      <th>12004</th>\n",
       "      <th>12005</th>\n",
       "      <th>12006</th>\n",
       "      <th>12007</th>\n",
       "      <th>12008</th>\n",
       "      <th>12009</th>\n",
       "      <th>...</th>\n",
       "      <th>4990</th>\n",
       "      <th>4991</th>\n",
       "      <th>4992</th>\n",
       "      <th>4993</th>\n",
       "      <th>4994</th>\n",
       "      <th>4995</th>\n",
       "      <th>4996</th>\n",
       "      <th>4997</th>\n",
       "      <th>4998</th>\n",
       "      <th>4999</th>\n",
       "    </tr>\n",
       "  </thead>\n",
       "  <tbody>\n",
       "    <tr>\n",
       "      <th>topic_1</th>\n",
       "      <td>0.0</td>\n",
       "      <td>0.000000</td>\n",
       "      <td>0.000000</td>\n",
       "      <td>0.000000</td>\n",
       "      <td>0.000000</td>\n",
       "      <td>0.000000</td>\n",
       "      <td>0.000000</td>\n",
       "      <td>0.158754</td>\n",
       "      <td>0.000000</td>\n",
       "      <td>0.000000</td>\n",
       "      <td>...</td>\n",
       "      <td>0.000000</td>\n",
       "      <td>0.0</td>\n",
       "      <td>0.25</td>\n",
       "      <td>0.388889</td>\n",
       "      <td>0.000000</td>\n",
       "      <td>0.503681</td>\n",
       "      <td>0.000000</td>\n",
       "      <td>0.173768</td>\n",
       "      <td>0.0</td>\n",
       "      <td>0.000000</td>\n",
       "    </tr>\n",
       "    <tr>\n",
       "      <th>topic_2</th>\n",
       "      <td>0.0</td>\n",
       "      <td>0.000000</td>\n",
       "      <td>0.225747</td>\n",
       "      <td>0.000000</td>\n",
       "      <td>0.000000</td>\n",
       "      <td>0.000000</td>\n",
       "      <td>0.000000</td>\n",
       "      <td>0.000000</td>\n",
       "      <td>0.000000</td>\n",
       "      <td>0.166667</td>\n",
       "      <td>...</td>\n",
       "      <td>0.000000</td>\n",
       "      <td>0.0</td>\n",
       "      <td>0.00</td>\n",
       "      <td>0.000000</td>\n",
       "      <td>0.000000</td>\n",
       "      <td>0.000000</td>\n",
       "      <td>0.182775</td>\n",
       "      <td>0.000000</td>\n",
       "      <td>0.0</td>\n",
       "      <td>0.000000</td>\n",
       "    </tr>\n",
       "    <tr>\n",
       "      <th>topic_3</th>\n",
       "      <td>0.0</td>\n",
       "      <td>0.000000</td>\n",
       "      <td>0.000000</td>\n",
       "      <td>0.000000</td>\n",
       "      <td>0.000000</td>\n",
       "      <td>0.000000</td>\n",
       "      <td>0.000000</td>\n",
       "      <td>0.023062</td>\n",
       "      <td>0.287416</td>\n",
       "      <td>0.000000</td>\n",
       "      <td>...</td>\n",
       "      <td>0.000000</td>\n",
       "      <td>0.0</td>\n",
       "      <td>0.00</td>\n",
       "      <td>0.000000</td>\n",
       "      <td>0.000000</td>\n",
       "      <td>0.062500</td>\n",
       "      <td>0.000000</td>\n",
       "      <td>0.043113</td>\n",
       "      <td>0.0</td>\n",
       "      <td>0.000000</td>\n",
       "    </tr>\n",
       "    <tr>\n",
       "      <th>topic_4</th>\n",
       "      <td>0.0</td>\n",
       "      <td>0.000000</td>\n",
       "      <td>0.000000</td>\n",
       "      <td>0.140554</td>\n",
       "      <td>0.047501</td>\n",
       "      <td>0.000000</td>\n",
       "      <td>0.000000</td>\n",
       "      <td>0.000000</td>\n",
       "      <td>0.000000</td>\n",
       "      <td>0.000000</td>\n",
       "      <td>...</td>\n",
       "      <td>0.000000</td>\n",
       "      <td>0.0</td>\n",
       "      <td>0.00</td>\n",
       "      <td>0.000000</td>\n",
       "      <td>0.000000</td>\n",
       "      <td>0.000000</td>\n",
       "      <td>0.000000</td>\n",
       "      <td>0.000000</td>\n",
       "      <td>0.0</td>\n",
       "      <td>0.000000</td>\n",
       "    </tr>\n",
       "    <tr>\n",
       "      <th>topic_5</th>\n",
       "      <td>0.0</td>\n",
       "      <td>0.126952</td>\n",
       "      <td>0.000000</td>\n",
       "      <td>0.000000</td>\n",
       "      <td>0.614658</td>\n",
       "      <td>0.096305</td>\n",
       "      <td>0.538462</td>\n",
       "      <td>0.000000</td>\n",
       "      <td>0.000000</td>\n",
       "      <td>0.000000</td>\n",
       "      <td>...</td>\n",
       "      <td>0.204833</td>\n",
       "      <td>0.0</td>\n",
       "      <td>0.00</td>\n",
       "      <td>0.000000</td>\n",
       "      <td>0.333333</td>\n",
       "      <td>0.186690</td>\n",
       "      <td>0.000000</td>\n",
       "      <td>0.126890</td>\n",
       "      <td>0.0</td>\n",
       "      <td>0.324444</td>\n",
       "    </tr>\n",
       "  </tbody>\n",
       "</table>\n",
       "<p>5 rows × 15623 columns</p>\n",
       "</div>"
      ],
      "text/plain": [
       "         12000     12001     12002     12003     12004     12005     12006  \\\n",
       "topic_1    0.0  0.000000  0.000000  0.000000  0.000000  0.000000  0.000000   \n",
       "topic_2    0.0  0.000000  0.225747  0.000000  0.000000  0.000000  0.000000   \n",
       "topic_3    0.0  0.000000  0.000000  0.000000  0.000000  0.000000  0.000000   \n",
       "topic_4    0.0  0.000000  0.000000  0.140554  0.047501  0.000000  0.000000   \n",
       "topic_5    0.0  0.126952  0.000000  0.000000  0.614658  0.096305  0.538462   \n",
       "\n",
       "            12007     12008     12009    ...        4990   4991   4992   \\\n",
       "topic_1  0.158754  0.000000  0.000000    ...     0.000000    0.0   0.25   \n",
       "topic_2  0.000000  0.000000  0.166667    ...     0.000000    0.0   0.00   \n",
       "topic_3  0.023062  0.287416  0.000000    ...     0.000000    0.0   0.00   \n",
       "topic_4  0.000000  0.000000  0.000000    ...     0.000000    0.0   0.00   \n",
       "topic_5  0.000000  0.000000  0.000000    ...     0.204833    0.0   0.00   \n",
       "\n",
       "            4993      4994      4995      4996      4997   4998      4999   \n",
       "topic_1  0.388889  0.000000  0.503681  0.000000  0.173768    0.0  0.000000  \n",
       "topic_2  0.000000  0.000000  0.000000  0.182775  0.000000    0.0  0.000000  \n",
       "topic_3  0.000000  0.000000  0.062500  0.000000  0.043113    0.0  0.000000  \n",
       "topic_4  0.000000  0.000000  0.000000  0.000000  0.000000    0.0  0.000000  \n",
       "topic_5  0.000000  0.333333  0.186690  0.000000  0.126890    0.0  0.324444  \n",
       "\n",
       "[5 rows x 15623 columns]"
      ]
     },
     "execution_count": 81,
     "metadata": {},
     "output_type": "execute_result"
    }
   ],
   "source": [
    "theta.head()"
   ]
  },
  {
   "cell_type": "code",
   "execution_count": 138,
   "metadata": {
    "collapsed": true
   },
   "outputs": [],
   "source": [
    "ar = [3, 4, 5, 6, 7, 8, 10, 11, 12, 13, 14, 15] #6?, 3?"
   ]
  },
  {
   "cell_type": "code",
   "execution_count": 82,
   "metadata": {
    "scrolled": false
   },
   "outputs": [
    {
     "name": "stdout",
     "output_type": "stream",
     "text": [
      "1\n",
      "\n",
      "В-третьих, благодаря неплохо сбалансированным комплектующим, со своими обязанностями справляется на 5!\n",
      "\n",
      "2\n",
      "\n",
      "Катерина, данный ноутбук  превосходно подходит для работы с офисными программами, графическими приложениями и просмотра видео.\n",
      "\n",
      "3\n",
      "\n",
      "и обе играют.только нид фо спид(андекавер)не много притормаживает.немного совсем.иногда поглючивает.но это терпимо.играть не мешает.\n",
      "\n",
      "4\n",
      "\n",
      "Покупал в МВидео по безналу со скидкой в 5 %, дешевле такую конфигурацию ни где не нашел, просмотрел много предложений, поэтому ставлю твердую пять.\n",
      "\n",
      "5\n",
      "\n",
      "Ноутбук просто зверь за такие деньги.ставлю 5 звезд за все ( цена,качество ).только один минус,батарея под крышкой.пользуюсь два месяца,от возможностей,мощи и качества голова кругом.\n",
      "\n",
      "6\n",
      "\n",
      "!ХР конешно на него лучше не ставить,самы оптимальный вариант Семёрка...Берите не пожалеете,лучшее соотношение качества ипроизводительности к цене.\n",
      "\n",
      "7\n",
      "\n",
      "Под нагрузкой компьютер греется умеренно, колени не обжигает, вентиляторы работают негромко.\n",
      "\n",
      "8\n",
      "\n",
      "На мой взгляд, отличный девайс, использую в основном как переносную медиастанцию ( просмотр фильмов, роликов, игры ).\n",
      "\n",
      "9\n",
      "\n",
      "Когда просто ходишь по интернету, кулер включается и сразу-же через секунду выключается, и все это повторяется, вкл-выкл до бесконечности.\n",
      "\n",
      "10\n",
      "\n",
      "Все устраивает,экран супер.Работает шустро.Единственный минус - одна колонка,тиховато звучит.Ну и качество материалов корпуса..А так отличный ноут за эту цену.\n",
      "\n",
      "11\n",
      "\n",
      "Графикой также доволен - картинка детальная и сочная, подсветка экрана распределяется равномерно.\n",
      "\n",
      "12\n",
      "\n",
      "Ноутбук оснащён прекрасной аппаратной начинкой: Процессор Intel Core i5 с тактовой частотой аж целых 2.9 ГГц, что очень положительно сказывается на быстродействии; 8 Гб оперативной памяти; 1 Тб жесткий диск, которого хватит на много  много всего, ну и конечно графика, здесь это  NVIDIA GTX 950M с 2 Гб видеопамяти.\n",
      "\n",
      "13\n",
      "\n",
      "Очень классный ноут.Брал весной,в марте.После длительного использования хочу сказать-Это очень хороший ноут.Высокая производительность и т.п.\n",
      "\n",
      "14\n",
      "\n",
      "Аккумулятор полностью зарядил, разрядил до 70%, снял и положил в холодное место - так вроде лучше сохраняется.\n",
      "\n",
      "15\n",
      "\n",
      "Так же и сенсорная панель, по которо легко скользят пальцы и сухие и влажные.\n",
      "\n"
     ]
    }
   ],
   "source": [
    "for i in range(15):\n",
    "    j = np.argmax(theta.loc['topic_' + str(i + 1)])\n",
    "    print(i + 1)\n",
    "    print()\n",
    "    print(pairs_text_prodid[j][0]) \n",
    "    print()"
   ]
  },
  {
   "cell_type": "code",
   "execution_count": 140,
   "metadata": {
    "collapsed": true
   },
   "outputs": [],
   "source": [
    "phi = model.get_phi(model_name=model.model_pwt)"
   ]
  },
  {
   "cell_type": "code",
   "execution_count": 37,
   "metadata": {
    "collapsed": true
   },
   "outputs": [],
   "source": [
    "ser = theta.apply(lambda array: np.argmax(array), raw=True)"
   ]
  },
  {
   "cell_type": "code",
   "execution_count": 198,
   "metadata": {
    "collapsed": true
   },
   "outputs": [],
   "source": [
    "ind = np.array(ser[ser == 3].index)"
   ]
  },
  {
   "cell_type": "code",
   "execution_count": 38,
   "metadata": {},
   "outputs": [
    {
     "name": "stdout",
     "output_type": "stream",
     "text": [
      "0 1948\n",
      "1 1253\n",
      "2 896\n",
      "3 1024\n",
      "4 1259\n",
      "5 813\n",
      "6 1761\n",
      "7 1062\n",
      "8 1438\n",
      "9 1250\n",
      "10 1530\n",
      "11 1720\n",
      "12 1562\n",
      "13 1444\n",
      "14 1487\n"
     ]
    }
   ],
   "source": [
    "for i in range(15):\n",
    "    print(i, sum(ser == i))"
   ]
  },
  {
   "cell_type": "code",
   "execution_count": null,
   "metadata": {
    "collapsed": true
   },
   "outputs": [],
   "source": []
  },
  {
   "cell_type": "code",
   "execution_count": 39,
   "metadata": {
    "collapsed": true
   },
   "outputs": [],
   "source": [
    "from pymystem3 import Mystem\n",
    "m = Mystem()\n",
    "def normalize_text_new(text, noun=False):\n",
    "    text_normalized = []\n",
    "    text = ''.join(char for char in text.lower() if char.isalpha() or char == ' ' or char == '\\n')\n",
    "    analysis = m.analyze(text)\n",
    "    for word in analysis:\n",
    "        if 'analysis' in word:\n",
    "            if len(word['analysis']):\n",
    "                word_norm = word['analysis'][0]['lex']\n",
    "                form = word['analysis'][0]['gr'].split('=')[0].split(',')[0]\n",
    "                if not noun or noun and form == 'S':\n",
    "                    text_normalized.append(word_norm)\n",
    "    return text_normalized"
   ]
  },
  {
   "cell_type": "code",
   "execution_count": 40,
   "metadata": {
    "collapsed": true
   },
   "outputs": [],
   "source": [
    "from stop_words import get_stop_words\n",
    "stop_words = get_stop_words('russian')"
   ]
  },
  {
   "cell_type": "code",
   "execution_count": 41,
   "metadata": {
    "collapsed": true
   },
   "outputs": [],
   "source": [
    "from nltk.tokenize import sent_tokenize"
   ]
  },
  {
   "cell_type": "code",
   "execution_count": 42,
   "metadata": {
    "collapsed": true
   },
   "outputs": [],
   "source": [
    "def normalize_data(data, verbose=True):\n",
    "    data = data.fillna('')\n",
    "    comments = np.array(data['TEXT'])\n",
    "    norm_comments = []\n",
    "    for i, comment in enumerate(comments):\n",
    "        norm_comments_text = []\n",
    "        comment_sen = sent_tokenize(comment)\n",
    "        for sen in comment_sen:\n",
    "            text = normalize_text_new(sen, noun=True)\n",
    "            norm_comments_text.append(' '.join([t for t in text if t not in stop_words]))\n",
    "            if verbose and i % 1000 == 0:\n",
    "                print(i, end=' ')\n",
    "        norm_comments.append(norm_comments_text)\n",
    "    return norm_comments"
   ]
  },
  {
   "cell_type": "code",
   "execution_count": 43,
   "metadata": {
    "collapsed": true
   },
   "outputs": [],
   "source": [
    "def simil(sen):\n",
    "    topic_prob = []\n",
    "    for topic in phi.columns:\n",
    "        topic_sum = 0\n",
    "        for word in sen.split():\n",
    "            if word in phi.index:\n",
    "                topic_sum += phi[topic].loc[word]\n",
    "        if len(sen.split()):\n",
    "            topic_sum /= len(sen.split())\n",
    "        topic_prob.append((topic, topic_sum))\n",
    "    return topic_prob"
   ]
  },
  {
   "cell_type": "code",
   "execution_count": 44,
   "metadata": {
    "collapsed": true
   },
   "outputs": [],
   "source": [
    "def sentim(sen):\n",
    "    count = 0\n",
    "    s_sum = 0\n",
    "    for i, word in enumerate(sen):\n",
    "        s = Dict.get(word, 0)\n",
    "        if s != 0:\n",
    "            count += 1\n",
    "            if i >= 1:\n",
    "                if sen[i - 1] == 'не':\n",
    "                    s = - s\n",
    "            s_sum += s\n",
    "    if count:\n",
    "        s_sum = s_sum / count\n",
    "    return s_sum"
   ]
  },
  {
   "cell_type": "code",
   "execution_count": 45,
   "metadata": {
    "collapsed": true
   },
   "outputs": [],
   "source": [
    "def rang_score(sents, topic_sent):\n",
    "    topic_prob = sents['topic_prob'] / sents['topic_prob'].max()\n",
    "    sent = (4 - (sents['sent'] - topic_sent).abs()) / 4\n",
    "    def filter_len(s):\n",
    "        if s < 4:\n",
    "            return 0\n",
    "        if 4 <= s < 8:\n",
    "            return 0.6\n",
    "        if 8 <= s < 20:\n",
    "            return 1\n",
    "        if 20 <= s < 60:\n",
    "            return (60 - s) / 40\n",
    "        if s >= 60:\n",
    "            return 0\n",
    "    text_len = sents['text_len'].apply(filter_len)\n",
    "    if (sents['like_diff'] < 0).sum() == 0:\n",
    "        if sents['like_diff'].max() != 0:\n",
    "            like_diff = sents['like_diff'] / sents['like_diff'].max()\n",
    "        else:\n",
    "            like_diff = sents['like_diff']\n",
    "    else:\n",
    "        if (sents['like_diff'] + abs(sents['like_diff'].min())).max() != 0:\n",
    "            like_diff = (sents['like_diff'] + abs(sents['like_diff'].min())) /\\\n",
    "                        (sents['like_diff'] + abs(sents['like_diff'].min())).max()\n",
    "        else:\n",
    "            like_diff = (sents['like_diff'] + abs(sents['like_diff'].min()))\n",
    "    score = 0.4 * topic_prob + 0.2 * sent + 0.3 * text_len + 0.1 * like_diff\n",
    "    return sents.loc[score.argmax(), 'text']"
   ]
  },
  {
   "cell_type": "code",
   "execution_count": null,
   "metadata": {
    "collapsed": true
   },
   "outputs": [],
   "source": []
  },
  {
   "cell_type": "code",
   "execution_count": 83,
   "metadata": {},
   "outputs": [
    {
     "data": {
      "text/html": [
       "<div>\n",
       "<table border=\"1\" class=\"dataframe\">\n",
       "  <thead>\n",
       "    <tr style=\"text-align: right;\">\n",
       "      <th></th>\n",
       "      <th>text</th>\n",
       "      <th>idx</th>\n",
       "    </tr>\n",
       "  </thead>\n",
       "  <tbody>\n",
       "    <tr>\n",
       "      <th>0</th>\n",
       "      <td>Так как установили Windows 7, видеокарта Nvide...</td>\n",
       "      <td>169</td>\n",
       "    </tr>\n",
       "    <tr>\n",
       "      <th>1</th>\n",
       "      <td>Установленной оперативки хватает на практическ...</td>\n",
       "      <td>171</td>\n",
       "    </tr>\n",
       "    <tr>\n",
       "      <th>2</th>\n",
       "      <td>С брендом производителя определились сразу, та...</td>\n",
       "      <td>176</td>\n",
       "    </tr>\n",
       "    <tr>\n",
       "      <th>3</th>\n",
       "      <td>Пока ноутбук отключен от сети можно успеть  и ...</td>\n",
       "      <td>176</td>\n",
       "    </tr>\n",
       "    <tr>\n",
       "      <th>4</th>\n",
       "      <td>Белый цвет – белая клавиатура и рамка давно бы...</td>\n",
       "      <td>179</td>\n",
       "    </tr>\n",
       "  </tbody>\n",
       "</table>\n",
       "</div>"
      ],
      "text/plain": [
       "                                                text  idx\n",
       "0  Так как установили Windows 7, видеокарта Nvide...  169\n",
       "1  Установленной оперативки хватает на практическ...  171\n",
       "2  С брендом производителя определились сразу, та...  176\n",
       "3  Пока ноутбук отключен от сети можно успеть  и ...  176\n",
       "4  Белый цвет – белая клавиатура и рамка давно бы...  179"
      ]
     },
     "execution_count": 83,
     "metadata": {},
     "output_type": "execute_result"
    }
   ],
   "source": [
    "filtered_not_normed_texts = pd.DataFrame(pairs_text_prodid, columns=['text', 'idx'])\n",
    "filtered_not_normed_texts.head()"
   ]
  },
  {
   "cell_type": "code",
   "execution_count": 84,
   "metadata": {
    "collapsed": true
   },
   "outputs": [],
   "source": [
    "filtered_not_normed_texts['product'] = pd.Series([0] * filtered_not_normed_texts.shape[0])\n",
    "filtered_not_normed_texts['like_diff'] = pd.Series([0] * filtered_not_normed_texts.shape[0])"
   ]
  },
  {
   "cell_type": "code",
   "execution_count": 85,
   "metadata": {
    "collapsed": true
   },
   "outputs": [],
   "source": [
    "for i in filtered_not_normed_texts.index:\n",
    "    idx = int(filtered_not_normed_texts.loc[i, 'idx'])\n",
    "    filtered_not_normed_texts.loc[i, 'product'] = df1.loc[idx, 'PRODUCT']\n",
    "    filtered_not_normed_texts.loc[i, 'like_diff'] = df1.loc[idx, 'LIKES_COUNT'] - df1.loc[idx, 'DISLIKES_COUNT']\n",
    "filtered_not_normed_texts['like_diff'] = filtered_not_normed_texts['like_diff'].\\\n",
    "                        fillna(filtered_not_normed_texts['like_diff'].mean())"
   ]
  },
  {
   "cell_type": "code",
   "execution_count": 86,
   "metadata": {},
   "outputs": [
    {
     "data": {
      "text/html": [
       "<div>\n",
       "<table border=\"1\" class=\"dataframe\">\n",
       "  <thead>\n",
       "    <tr style=\"text-align: right;\">\n",
       "      <th></th>\n",
       "      <th>text</th>\n",
       "      <th>idx</th>\n",
       "      <th>product</th>\n",
       "      <th>like_diff</th>\n",
       "    </tr>\n",
       "  </thead>\n",
       "  <tbody>\n",
       "    <tr>\n",
       "      <th>0</th>\n",
       "      <td>Так как установили Windows 7, видеокарта Nvide...</td>\n",
       "      <td>169</td>\n",
       "      <td>30024761</td>\n",
       "      <td>1.0</td>\n",
       "    </tr>\n",
       "    <tr>\n",
       "      <th>1</th>\n",
       "      <td>Установленной оперативки хватает на практическ...</td>\n",
       "      <td>171</td>\n",
       "      <td>30024762</td>\n",
       "      <td>2.0</td>\n",
       "    </tr>\n",
       "    <tr>\n",
       "      <th>2</th>\n",
       "      <td>С брендом производителя определились сразу, та...</td>\n",
       "      <td>176</td>\n",
       "      <td>30024764</td>\n",
       "      <td>8.0</td>\n",
       "    </tr>\n",
       "    <tr>\n",
       "      <th>3</th>\n",
       "      <td>Пока ноутбук отключен от сети можно успеть  и ...</td>\n",
       "      <td>176</td>\n",
       "      <td>30024764</td>\n",
       "      <td>8.0</td>\n",
       "    </tr>\n",
       "    <tr>\n",
       "      <th>4</th>\n",
       "      <td>Белый цвет – белая клавиатура и рамка давно бы...</td>\n",
       "      <td>179</td>\n",
       "      <td>30024765</td>\n",
       "      <td>4.0</td>\n",
       "    </tr>\n",
       "  </tbody>\n",
       "</table>\n",
       "</div>"
      ],
      "text/plain": [
       "                                                text  idx   product  like_diff\n",
       "0  Так как установили Windows 7, видеокарта Nvide...  169  30024761        1.0\n",
       "1  Установленной оперативки хватает на практическ...  171  30024762        2.0\n",
       "2  С брендом производителя определились сразу, та...  176  30024764        8.0\n",
       "3  Пока ноутбук отключен от сети можно успеть  и ...  176  30024764        8.0\n",
       "4  Белый цвет – белая клавиатура и рамка давно бы...  179  30024765        4.0"
      ]
     },
     "execution_count": 86,
     "metadata": {},
     "output_type": "execute_result"
    }
   ],
   "source": [
    "filtered_not_normed_texts.head()"
   ]
  },
  {
   "cell_type": "code",
   "execution_count": 102,
   "metadata": {},
   "outputs": [
    {
     "name": "stdout",
     "output_type": "stream",
     "text": [
      "topic_2     0.000000\n",
      "topic_3     0.230769\n",
      "topic_4     0.076923\n",
      "topic_6     0.000000\n",
      "topic_7     0.000000\n",
      "topic_8     0.000000\n",
      "topic_10    0.000000\n",
      "topic_11    0.000000\n",
      "topic_12    0.000000\n",
      "topic_13    0.076923\n",
      "topic_14    0.538462\n",
      "topic_15    0.000000\n",
      "Name: 12709, dtype: float32\n",
      "topic_2     0.0\n",
      "topic_3     0.2\n",
      "topic_4     0.0\n",
      "topic_6     0.0\n",
      "topic_7     0.0\n",
      "topic_8     0.2\n",
      "topic_10    0.0\n",
      "topic_11    0.2\n",
      "topic_12    0.0\n",
      "topic_13    0.0\n",
      "topic_14    0.2\n",
      "topic_15    0.0\n",
      "Name: 12710, dtype: float32\n",
      "topic_2     0.00000\n",
      "topic_3     0.00000\n",
      "topic_4     0.00000\n",
      "topic_6     0.00000\n",
      "topic_7     0.00000\n",
      "topic_8     0.00000\n",
      "topic_10    0.00000\n",
      "topic_11    0.00000\n",
      "topic_12    0.00000\n",
      "topic_13    0.00000\n",
      "topic_14    0.67079\n",
      "topic_15    0.00000\n",
      "Name: 12711, dtype: float32\n",
      "{'topic_14': -0.13174603174603175, 'topic_3': 0.80000000000000004}\n",
      "                                                text     topic  topic_prob  \\\n",
      "0  Приобрели в 2008 году и до сих пор работает))\\...  topic_14    0.538462   \n",
      "1  Проц хорош, Intel Core 2 Duo)\\nКлава ножничная...   topic_3    0.200000   \n",
      "2  полгода назад подымился в месте где разъём пит...  topic_14    0.670790   \n",
      "\n",
      "       sent  text_len  like_diff  \n",
      "0 -0.263492      29.0        2.0  \n",
      "1  0.800000      17.0        2.0  \n",
      "2  0.000000      15.0        2.0  \n"
     ]
    }
   ],
   "source": [
    "res = []\n",
    "for k, product in enumerate(filtered_not_normed_texts.groupby('product')):\n",
    "    if k == 2:\n",
    "        cur_res = []\n",
    "        sents = pd.DataFrame([], columns=['text', 'topic', 'topic_prob', 'sent', 'text_len', 'like_diff'])\n",
    "        topic_sent = {}\n",
    "        for i, idx in enumerate(product[1].index):\n",
    "            topic_probs = theta[idx][theta.index.isin(topic_poss)]\n",
    "            print(topic_probs)\n",
    "            topic_best = topic_probs.argmax()\n",
    "            if topic_probs.loc[topic_best] > 0.01:\n",
    "                norm_text = normalize_text_new(product[1].loc[idx, 'text'])\n",
    "                sent = sentim(norm_text)\n",
    "                prev_sent = topic_sent.get((topic_best, product[1].loc[idx, 'idx']), (0, 0))\n",
    "                topic_sent[(topic_best, product[1].loc[idx, 'idx'])] = (prev_sent[0] + sent, prev_sent[1] + 1)\n",
    "\n",
    "                like_diff = product[1].loc[idx, 'like_diff']\n",
    "                sents = sents.append({'text': product[1].loc[idx, 'text'], 'topic': topic_best,\n",
    "                                      'topic_prob': topic_probs.loc[topic_best], 'sent': sent,\n",
    "                                      'text_len': len(product[1].loc[idx, 'text'].split()),\n",
    "                                      'like_diff': like_diff}, ignore_index=True)\n",
    "        for topic in topic_sent:\n",
    "            topic_sent[topic] = topic_sent[topic][0] / topic_sent[topic][1]\n",
    "        res_topic_sent = {}\n",
    "        for topic in topic_sent:\n",
    "            prev_sent = res_topic_sent.get(topic[0], (0, 0))\n",
    "            res_topic_sent[topic[0]] = (prev_sent[0] + topic_sent[topic], prev_sent[1] + 1)\n",
    "        for topic in res_topic_sent:\n",
    "            res_topic_sent[topic] = res_topic_sent[topic][0] / res_topic_sent[topic][1]\n",
    "        for topic in res_topic_sent:\n",
    "            sentence = rang_score(sents[sents['topic'] == topic], res_topic_sent[topic])\n",
    "            cur_res.append([topic, res_topic_sent[topic], sentence])\n",
    "        if k % 1000 == 0:\n",
    "            print(k, end=' ')\n",
    "        print(res_topic_sent)\n",
    "        print(sents)\n",
    "        res.append(cur_res)"
   ]
  },
  {
   "cell_type": "code",
   "execution_count": 95,
   "metadata": {},
   "outputs": [
    {
     "data": {
      "text/plain": [
       "[[['topic_4',\n",
       "   -0.41666666666666663,\n",
       "   'А кстати АКБ держит у меня макс 3 часа активной работы, если снимать все побочные приложения.'],\n",
       "  ['topic_6',\n",
       "   0.0,\n",
       "   'Был случай, что ноут работал 2 с хвостиком месяца не выключаясь (сервер) и ничего.']]]"
      ]
     },
     "execution_count": 95,
     "metadata": {},
     "output_type": "execute_result"
    }
   ],
   "source": [
    "res"
   ]
  },
  {
   "cell_type": "code",
   "execution_count": 89,
   "metadata": {},
   "outputs": [
    {
     "name": "stdout",
     "output_type": "stream",
     "text": [
      "topic_1: вообще свой планшет аппарат брать купить либо отзыв друг выбор стоить техника дорогой использовать момент \n",
      "topic_2: видеокарта дизайн устройство достаточно данный задача качество пользователь современный любой выполнять высокий замечать отлично решение \n",
      "topic_3: стоять программа бук хотеться машина обычный скорость гиг получать проц запуск должный спокойно фотошоп операционный_система \n",
      "topic_4: идти устанавливать драйвер понимать офис файл настройка последний сайт купить_ноутбук ставить вопрос установка возникать программа \n",
      "topic_5: общий месяц давать включать советовать открывать полный купить нетбук постоянно точно лично низкий подключать делать \n",
      "topic_6: работа ничто взять подходить игровой оставаться целое находить итог вариант дома добавлять смотреть_фильм ожидать учеба \n",
      "topic_7: играть греться порт нагрузка держать средний вентилятор устраивать охлаждение комп фпс разъем система_охлаждение нагреваться выдавать \n",
      "topic_8: клавиатура звук самый большой клавиша удобно рабочий динамика внешний сторона музыка громкость нажимать располагать печатать \n",
      "topic_9: интернет сразу магазин дело чтото купить скайп кулер домашний вместо привод свой начинать зависать стандартный \n",
      "topic_10: быстро хватать разрешение глаз размер настройка отмечать дисплей внешний_вид малый таки сумка любой х носить \n",
      "topic_11: экран кнопка картинка цвет угол_обзор матрица вес получаться подсветка дисплей тачпад монитор яркость сборка рука \n",
      "topic_12: процессор гб характеристика система график производитель ядро оперативный равный большинство слот оперативка частота оценка обращать \n",
      "topic_13: становиться поставлять сильно винд привыкать сеть принцип шуметь тихий инет бывать норма семерка вайфай пол \n",
      "topic_14: модель час батарея фильм нормально аккумулятор тип смотреть зарядка некоторый легко брать пара наличие потянуть \n",
      "topic_15: корпус приходиться крышка пластик поверхность качество_сборка матовый легко технология происходить появляться маркий видно иначе точка \n"
     ]
    }
   ],
   "source": [
    "for i, topic in enumerate(model.topic_names):\n",
    "    print(topic + ':', end=\" \")\n",
    "    for word in model.score_tracker['TopTokensScore'].last_tokens[topic]:\n",
    "        print(word, end=\" \")\n",
    "    print()"
   ]
  },
  {
   "cell_type": "code",
   "execution_count": null,
   "metadata": {
    "collapsed": true
   },
   "outputs": [],
   "source": []
  }
 ],
 "metadata": {
  "kernelspec": {
   "display_name": "Python 3",
   "language": "python",
   "name": "python3"
  },
  "language_info": {
   "codemirror_mode": {
    "name": "ipython",
    "version": 3
   },
   "file_extension": ".py",
   "mimetype": "text/x-python",
   "name": "python",
   "nbconvert_exporter": "python",
   "pygments_lexer": "ipython3",
   "version": "3.5.2"
  }
 },
 "nbformat": 4,
 "nbformat_minor": 2
}
